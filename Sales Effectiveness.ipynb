{
 "cells": [
  {
   "cell_type": "markdown",
   "id": "a42f16cd-1e77-46f0-9b2d-a5720d8c5ee0",
   "metadata": {},
   "source": [
    "# SALES EFFECTIVENESS\n",
    "\r\n"
   ]
  },
  {
   "cell_type": "code",
   "execution_count": 1,
   "id": "05483445-4415-483c-9880-b26f3c0c7c24",
   "metadata": {},
   "outputs": [],
   "source": [
    "import pandas as pd\n",
    "import numpy as np\n",
    "import matplotlib.pyplot as plt\n",
    "import seaborn as sns\n",
    "import warnings\n",
    "warnings.filterwarnings('ignore')"
   ]
  },
  {
   "cell_type": "code",
   "execution_count": 2,
   "id": "413c88ba-4bfe-4975-ab80-2e24ca7813c1",
   "metadata": {},
   "outputs": [
    {
     "data": {
      "text/html": [
       "<div>\n",
       "<style scoped>\n",
       "    .dataframe tbody tr th:only-of-type {\n",
       "        vertical-align: middle;\n",
       "    }\n",
       "\n",
       "    .dataframe tbody tr th {\n",
       "        vertical-align: top;\n",
       "    }\n",
       "\n",
       "    .dataframe thead th {\n",
       "        text-align: right;\n",
       "    }\n",
       "</style>\n",
       "<table border=\"1\" class=\"dataframe\">\n",
       "  <thead>\n",
       "    <tr style=\"text-align: right;\">\n",
       "      <th></th>\n",
       "      <th>Created</th>\n",
       "      <th>Product_ID</th>\n",
       "      <th>Source</th>\n",
       "      <th>Mobile</th>\n",
       "      <th>EMAIL</th>\n",
       "      <th>Sales_Agent</th>\n",
       "      <th>Location</th>\n",
       "      <th>Delivery_Mode</th>\n",
       "      <th>Status</th>\n",
       "    </tr>\n",
       "  </thead>\n",
       "  <tbody>\n",
       "    <tr>\n",
       "      <th>0</th>\n",
       "      <td>14-11-2018 10:05</td>\n",
       "      <td>NaN</td>\n",
       "      <td>Website</td>\n",
       "      <td>984XXXXXXX</td>\n",
       "      <td>aXXXXXXX@gmail.com</td>\n",
       "      <td>Sales-Agent-11</td>\n",
       "      <td>NaN</td>\n",
       "      <td>Mode-5</td>\n",
       "      <td>Open</td>\n",
       "    </tr>\n",
       "    <tr>\n",
       "      <th>1</th>\n",
       "      <td>14-11-2018 09:22</td>\n",
       "      <td>NaN</td>\n",
       "      <td>Website</td>\n",
       "      <td>XXXXXXX</td>\n",
       "      <td>#VALUE!</td>\n",
       "      <td>Sales-Agent-10</td>\n",
       "      <td>NaN</td>\n",
       "      <td>Mode-5</td>\n",
       "      <td>Open</td>\n",
       "    </tr>\n",
       "    <tr>\n",
       "      <th>2</th>\n",
       "      <td>14-11-2018 09:21</td>\n",
       "      <td>NaN</td>\n",
       "      <td>Website</td>\n",
       "      <td>XXXXXXX</td>\n",
       "      <td>dXXXXXXX@yahoo.com</td>\n",
       "      <td>Sales-Agent-10</td>\n",
       "      <td>NaN</td>\n",
       "      <td>Mode-5</td>\n",
       "      <td>Open</td>\n",
       "    </tr>\n",
       "    <tr>\n",
       "      <th>3</th>\n",
       "      <td>14-11-2018 08:46</td>\n",
       "      <td>NaN</td>\n",
       "      <td>Website</td>\n",
       "      <td>XXXXXXX</td>\n",
       "      <td>wXXXXXXX@gmail.com</td>\n",
       "      <td>Sales-Agent-10</td>\n",
       "      <td>NaN</td>\n",
       "      <td>Mode-5</td>\n",
       "      <td>Open</td>\n",
       "    </tr>\n",
       "    <tr>\n",
       "      <th>4</th>\n",
       "      <td>14-11-2018 07:34</td>\n",
       "      <td>NaN</td>\n",
       "      <td>Website</td>\n",
       "      <td>XXXXXXX</td>\n",
       "      <td>cXXXXXXX@gmail.com</td>\n",
       "      <td>Sales-Agent-10</td>\n",
       "      <td>NaN</td>\n",
       "      <td>Mode-5</td>\n",
       "      <td>Open</td>\n",
       "    </tr>\n",
       "  </tbody>\n",
       "</table>\n",
       "</div>"
      ],
      "text/plain": [
       "            Created  Product_ID   Source      Mobile               EMAIL  \\\n",
       "0  14-11-2018 10:05         NaN  Website  984XXXXXXX  aXXXXXXX@gmail.com   \n",
       "1  14-11-2018 09:22         NaN  Website     XXXXXXX             #VALUE!   \n",
       "2  14-11-2018 09:21         NaN  Website     XXXXXXX  dXXXXXXX@yahoo.com   \n",
       "3  14-11-2018 08:46         NaN  Website     XXXXXXX  wXXXXXXX@gmail.com   \n",
       "4  14-11-2018 07:34         NaN  Website     XXXXXXX  cXXXXXXX@gmail.com   \n",
       "\n",
       "      Sales_Agent Location Delivery_Mode Status  \n",
       "0  Sales-Agent-11      NaN        Mode-5   Open  \n",
       "1  Sales-Agent-10      NaN        Mode-5   Open  \n",
       "2  Sales-Agent-10      NaN        Mode-5   Open  \n",
       "3  Sales-Agent-10      NaN        Mode-5   Open  \n",
       "4  Sales-Agent-10      NaN        Mode-5   Open  "
      ]
     },
     "execution_count": 2,
     "metadata": {},
     "output_type": "execute_result"
    }
   ],
   "source": [
    "df = pd.read_csv('project_sales.csv')\n",
    "df.head(5)"
   ]
  },
  {
   "cell_type": "markdown",
   "id": "eec32941-7f2f-4b2b-acb9-f1454d1bc53e",
   "metadata": {},
   "source": [
    "# Basic check"
   ]
  },
  {
   "cell_type": "code",
   "execution_count": 3,
   "id": "a28326f2-5947-40d2-a8e2-b8380e052126",
   "metadata": {},
   "outputs": [
    {
     "data": {
      "text/plain": [
       "(7422, 9)"
      ]
     },
     "execution_count": 3,
     "metadata": {},
     "output_type": "execute_result"
    }
   ],
   "source": [
    "df.shape"
   ]
  },
  {
   "cell_type": "code",
   "execution_count": 4,
   "id": "46adf247-5401-4444-9b16-4439ef719909",
   "metadata": {},
   "outputs": [
    {
     "name": "stdout",
     "output_type": "stream",
     "text": [
      "<class 'pandas.core.frame.DataFrame'>\n",
      "RangeIndex: 7422 entries, 0 to 7421\n",
      "Data columns (total 9 columns):\n",
      " #   Column         Non-Null Count  Dtype  \n",
      "---  ------         --------------  -----  \n",
      " 0   Created        7422 non-null   object \n",
      " 1   Product_ID     7364 non-null   float64\n",
      " 2   Source         7405 non-null   object \n",
      " 3   Mobile         5612 non-null   object \n",
      " 4   EMAIL          7422 non-null   object \n",
      " 5   Sales_Agent    7399 non-null   object \n",
      " 6   Location       7364 non-null   object \n",
      " 7   Delivery_Mode  7422 non-null   object \n",
      " 8   Status         7422 non-null   object \n",
      "dtypes: float64(1), object(8)\n",
      "memory usage: 522.0+ KB\n"
     ]
    }
   ],
   "source": [
    "df.info()"
   ]
  },
  {
   "cell_type": "markdown",
   "id": "17db1afa-25d5-4625-997d-d5e7a44781bf",
   "metadata": {},
   "source": [
    "()#### Some Data have null values"
   ]
  },
  {
   "cell_type": "code",
   "execution_count": 5,
   "id": "7b615bce-a35b-4975-8f57-12c4a622b71e",
   "metadata": {},
   "outputs": [
    {
     "data": {
      "text/html": [
       "<div>\n",
       "<style scoped>\n",
       "    .dataframe tbody tr th:only-of-type {\n",
       "        vertical-align: middle;\n",
       "    }\n",
       "\n",
       "    .dataframe tbody tr th {\n",
       "        vertical-align: top;\n",
       "    }\n",
       "\n",
       "    .dataframe thead th {\n",
       "        text-align: right;\n",
       "    }\n",
       "</style>\n",
       "<table border=\"1\" class=\"dataframe\">\n",
       "  <thead>\n",
       "    <tr style=\"text-align: right;\">\n",
       "      <th></th>\n",
       "      <th>Product_ID</th>\n",
       "    </tr>\n",
       "  </thead>\n",
       "  <tbody>\n",
       "    <tr>\n",
       "      <th>count</th>\n",
       "      <td>7364.000000</td>\n",
       "    </tr>\n",
       "    <tr>\n",
       "      <th>mean</th>\n",
       "      <td>15.947311</td>\n",
       "    </tr>\n",
       "    <tr>\n",
       "      <th>std</th>\n",
       "      <td>6.072937</td>\n",
       "    </tr>\n",
       "    <tr>\n",
       "      <th>min</th>\n",
       "      <td>0.000000</td>\n",
       "    </tr>\n",
       "    <tr>\n",
       "      <th>25%</th>\n",
       "      <td>12.000000</td>\n",
       "    </tr>\n",
       "    <tr>\n",
       "      <th>50%</th>\n",
       "      <td>18.000000</td>\n",
       "    </tr>\n",
       "    <tr>\n",
       "      <th>75%</th>\n",
       "      <td>19.000000</td>\n",
       "    </tr>\n",
       "    <tr>\n",
       "      <th>max</th>\n",
       "      <td>28.000000</td>\n",
       "    </tr>\n",
       "  </tbody>\n",
       "</table>\n",
       "</div>"
      ],
      "text/plain": [
       "        Product_ID\n",
       "count  7364.000000\n",
       "mean     15.947311\n",
       "std       6.072937\n",
       "min       0.000000\n",
       "25%      12.000000\n",
       "50%      18.000000\n",
       "75%      19.000000\n",
       "max      28.000000"
      ]
     },
     "execution_count": 5,
     "metadata": {},
     "output_type": "execute_result"
    }
   ],
   "source": [
    "df.describe()"
   ]
  },
  {
   "cell_type": "code",
   "execution_count": 6,
   "id": "f3553f17-0c24-4edc-8130-0fdea169731c",
   "metadata": {},
   "outputs": [
    {
     "data": {
      "text/html": [
       "<div>\n",
       "<style scoped>\n",
       "    .dataframe tbody tr th:only-of-type {\n",
       "        vertical-align: middle;\n",
       "    }\n",
       "\n",
       "    .dataframe tbody tr th {\n",
       "        vertical-align: top;\n",
       "    }\n",
       "\n",
       "    .dataframe thead th {\n",
       "        text-align: right;\n",
       "    }\n",
       "</style>\n",
       "<table border=\"1\" class=\"dataframe\">\n",
       "  <thead>\n",
       "    <tr style=\"text-align: right;\">\n",
       "      <th></th>\n",
       "      <th>Created</th>\n",
       "      <th>Source</th>\n",
       "      <th>Mobile</th>\n",
       "      <th>EMAIL</th>\n",
       "      <th>Sales_Agent</th>\n",
       "      <th>Location</th>\n",
       "      <th>Delivery_Mode</th>\n",
       "      <th>Status</th>\n",
       "    </tr>\n",
       "  </thead>\n",
       "  <tbody>\n",
       "    <tr>\n",
       "      <th>count</th>\n",
       "      <td>7422</td>\n",
       "      <td>7405</td>\n",
       "      <td>5612</td>\n",
       "      <td>7422</td>\n",
       "      <td>7399</td>\n",
       "      <td>7364</td>\n",
       "      <td>7422</td>\n",
       "      <td>7422</td>\n",
       "    </tr>\n",
       "    <tr>\n",
       "      <th>unique</th>\n",
       "      <td>6752</td>\n",
       "      <td>25</td>\n",
       "      <td>486</td>\n",
       "      <td>883</td>\n",
       "      <td>12</td>\n",
       "      <td>17</td>\n",
       "      <td>5</td>\n",
       "      <td>11</td>\n",
       "    </tr>\n",
       "    <tr>\n",
       "      <th>top</th>\n",
       "      <td>26-09-2018 11:30</td>\n",
       "      <td>Call</td>\n",
       "      <td>XXXXXXX</td>\n",
       "      <td>#VALUE!</td>\n",
       "      <td>Sales-Agent-4</td>\n",
       "      <td>Other Locations</td>\n",
       "      <td>Mode-5</td>\n",
       "      <td>Junk Lead</td>\n",
       "    </tr>\n",
       "    <tr>\n",
       "      <th>freq</th>\n",
       "      <td>4</td>\n",
       "      <td>2547</td>\n",
       "      <td>222</td>\n",
       "      <td>1701</td>\n",
       "      <td>1500</td>\n",
       "      <td>2500</td>\n",
       "      <td>2975</td>\n",
       "      <td>1536</td>\n",
       "    </tr>\n",
       "  </tbody>\n",
       "</table>\n",
       "</div>"
      ],
      "text/plain": [
       "                 Created Source   Mobile    EMAIL    Sales_Agent  \\\n",
       "count               7422   7405     5612     7422           7399   \n",
       "unique              6752     25      486      883             12   \n",
       "top     26-09-2018 11:30   Call  XXXXXXX  #VALUE!  Sales-Agent-4   \n",
       "freq                   4   2547      222     1701           1500   \n",
       "\n",
       "               Location Delivery_Mode     Status  \n",
       "count              7364          7422       7422  \n",
       "unique               17             5         11  \n",
       "top     Other Locations        Mode-5  Junk Lead  \n",
       "freq               2500          2975       1536  "
      ]
     },
     "execution_count": 6,
     "metadata": {},
     "output_type": "execute_result"
    }
   ],
   "source": [
    "df.describe(include = ['O'])"
   ]
  },
  {
   "cell_type": "code",
   "execution_count": 7,
   "id": "c5e0c33c-69fe-404d-9988-7c8db10f7519",
   "metadata": {},
   "outputs": [
    {
     "data": {
      "text/plain": [
       "26-09-2018 11:30    4\n",
       "27-09-2018 11:00    4\n",
       "10-05-2018 12:30    4\n",
       "15-10-2018 10:36    4\n",
       "14-09-2018 12:00    4\n",
       "                   ..\n",
       "29-08-2018 12:52    1\n",
       "29-08-2018 13:08    1\n",
       "29-08-2018 15:26    1\n",
       "29-08-2018 15:39    1\n",
       "28-04-2018 07:54    1\n",
       "Name: Created, Length: 6752, dtype: int64"
      ]
     },
     "execution_count": 7,
     "metadata": {},
     "output_type": "execute_result"
    }
   ],
   "source": [
    "df.Created.value_counts()"
   ]
  },
  {
   "cell_type": "code",
   "execution_count": 8,
   "id": "9fbfae8b-aeed-4170-9b2d-bd89e29b5e44",
   "metadata": {},
   "outputs": [
    {
     "data": {
      "text/plain": [
       "Call                             2547\n",
       "Live Chat-Direct                 1834\n",
       "Website                          1594\n",
       "Live Chat-Google Organic          274\n",
       "Live Chat -PPC                    249\n",
       "Live Chat-Blog                    237\n",
       "Customer Referral                 180\n",
       "US Website                        137\n",
       "Just Dial                          56\n",
       "Existing Client                    51\n",
       "Personal Contact                   50\n",
       "Live Chat-CPC                      50\n",
       "By Recommendation                  32\n",
       "CRM form                           23\n",
       "Existing Customer                  22\n",
       "Live Chat-Google Ads               21\n",
       "Campaign                           19\n",
       "E-mail Campaign                    12\n",
       "Live Chat-Adwords Remarketing       7\n",
       "Live Chat-Quora                     2\n",
       "Other                               2\n",
       "SMS Campaign                        2\n",
       "Live Chat-Youtube                   2\n",
       "E-Mail Message                      1\n",
       "Live Chat-Justdial                  1\n",
       "Name: Source, dtype: int64"
      ]
     },
     "execution_count": 8,
     "metadata": {},
     "output_type": "execute_result"
    }
   ],
   "source": [
    "df.Source.value_counts()"
   ]
  },
  {
   "cell_type": "code",
   "execution_count": 9,
   "id": "601f108e-6535-4235-aeff-3b217149268c",
   "metadata": {},
   "outputs": [],
   "source": [
    "# drop unwanted columns\n",
    "col = ['Mobile','EMAIL']\n",
    "df.drop(col, axis = 1, inplace = True)"
   ]
  },
  {
   "cell_type": "code",
   "execution_count": 10,
   "id": "6abb4661-42f2-44c3-819c-57d592ce339b",
   "metadata": {},
   "outputs": [
    {
     "data": {
      "text/html": [
       "<div>\n",
       "<style scoped>\n",
       "    .dataframe tbody tr th:only-of-type {\n",
       "        vertical-align: middle;\n",
       "    }\n",
       "\n",
       "    .dataframe tbody tr th {\n",
       "        vertical-align: top;\n",
       "    }\n",
       "\n",
       "    .dataframe thead th {\n",
       "        text-align: right;\n",
       "    }\n",
       "</style>\n",
       "<table border=\"1\" class=\"dataframe\">\n",
       "  <thead>\n",
       "    <tr style=\"text-align: right;\">\n",
       "      <th></th>\n",
       "      <th>Created</th>\n",
       "      <th>Product_ID</th>\n",
       "      <th>Source</th>\n",
       "      <th>Sales_Agent</th>\n",
       "      <th>Location</th>\n",
       "      <th>Delivery_Mode</th>\n",
       "      <th>Status</th>\n",
       "    </tr>\n",
       "  </thead>\n",
       "  <tbody>\n",
       "    <tr>\n",
       "      <th>0</th>\n",
       "      <td>14-11-2018 10:05</td>\n",
       "      <td>NaN</td>\n",
       "      <td>Website</td>\n",
       "      <td>Sales-Agent-11</td>\n",
       "      <td>NaN</td>\n",
       "      <td>Mode-5</td>\n",
       "      <td>Open</td>\n",
       "    </tr>\n",
       "    <tr>\n",
       "      <th>1</th>\n",
       "      <td>14-11-2018 09:22</td>\n",
       "      <td>NaN</td>\n",
       "      <td>Website</td>\n",
       "      <td>Sales-Agent-10</td>\n",
       "      <td>NaN</td>\n",
       "      <td>Mode-5</td>\n",
       "      <td>Open</td>\n",
       "    </tr>\n",
       "    <tr>\n",
       "      <th>2</th>\n",
       "      <td>14-11-2018 09:21</td>\n",
       "      <td>NaN</td>\n",
       "      <td>Website</td>\n",
       "      <td>Sales-Agent-10</td>\n",
       "      <td>NaN</td>\n",
       "      <td>Mode-5</td>\n",
       "      <td>Open</td>\n",
       "    </tr>\n",
       "  </tbody>\n",
       "</table>\n",
       "</div>"
      ],
      "text/plain": [
       "            Created  Product_ID   Source     Sales_Agent Location  \\\n",
       "0  14-11-2018 10:05         NaN  Website  Sales-Agent-11      NaN   \n",
       "1  14-11-2018 09:22         NaN  Website  Sales-Agent-10      NaN   \n",
       "2  14-11-2018 09:21         NaN  Website  Sales-Agent-10      NaN   \n",
       "\n",
       "  Delivery_Mode Status  \n",
       "0        Mode-5   Open  \n",
       "1        Mode-5   Open  \n",
       "2        Mode-5   Open  "
      ]
     },
     "execution_count": 10,
     "metadata": {},
     "output_type": "execute_result"
    }
   ],
   "source": [
    "df.head(3)"
   ]
  },
  {
   "cell_type": "code",
   "execution_count": 11,
   "id": "1f570483-3bd0-4bd1-9739-653820e3854a",
   "metadata": {},
   "outputs": [
    {
     "data": {
      "text/plain": [
       "Junk Lead               1536\n",
       "Not Responding          1129\n",
       "CONVERTED                834\n",
       "Just Enquiry             760\n",
       "Potential                708\n",
       "Long Term                646\n",
       "In Progress Positive     643\n",
       "In Progress Negative     626\n",
       "LOST                     440\n",
       "Open                      82\n",
       "converted                 18\n",
       "Name: Status, dtype: int64"
      ]
     },
     "execution_count": 11,
     "metadata": {},
     "output_type": "execute_result"
    }
   ],
   "source": [
    "df.Status.value_counts()"
   ]
  },
  {
   "cell_type": "code",
   "execution_count": 12,
   "id": "fe0d3359-b9c8-4783-b5e8-84d9d3a68cfc",
   "metadata": {},
   "outputs": [
    {
     "data": {
      "text/plain": [
       "Mode-5    2975\n",
       "Mode-1    2627\n",
       "Mode-3    1688\n",
       "Mode-4     121\n",
       "Mode-2      11\n",
       "Name: Delivery_Mode, dtype: int64"
      ]
     },
     "execution_count": 12,
     "metadata": {},
     "output_type": "execute_result"
    }
   ],
   "source": [
    "df.Delivery_Mode.value_counts()"
   ]
  },
  {
   "cell_type": "code",
   "execution_count": 13,
   "id": "ab5a16d4-7a33-48ef-b286-a898c4cf4fee",
   "metadata": {},
   "outputs": [
    {
     "data": {
      "text/plain": [
       "Sales-Agent-4     1500\n",
       "Sales-Agent-11    1420\n",
       "Sales-Agent-5     1190\n",
       "Sales-Agent-9      879\n",
       "Sales-Agent-3      781\n",
       "Sales-Agent-7      736\n",
       "Sales-Agent-2      389\n",
       "Sales-Agent-12     269\n",
       "Sales-Agent-6      114\n",
       "Sales-Agent-8       68\n",
       "Sales-Agent-10      49\n",
       "Sales-Agent-1        4\n",
       "Name: Sales_Agent, dtype: int64"
      ]
     },
     "execution_count": 13,
     "metadata": {},
     "output_type": "execute_result"
    }
   ],
   "source": [
    "df.Sales_Agent.value_counts()"
   ]
  },
  {
   "cell_type": "code",
   "execution_count": 14,
   "id": "458c852a-1053-4b63-b63b-e7c9f97811ca",
   "metadata": {},
   "outputs": [
    {
     "data": {
      "text/plain": [
       "Other Locations    2500\n",
       "Bangalore          2084\n",
       "Chennai             909\n",
       "Hyderabad           528\n",
       "Delhi               471\n",
       "Mumbai              402\n",
       "Pune                142\n",
       "UAE                  79\n",
       "Trivandrum           58\n",
       "Kolkata              55\n",
       "USA                  45\n",
       "UK                   41\n",
       "AUSTRALIA            25\n",
       "Singapore            17\n",
       "Malaysia              4\n",
       "EUROPE                3\n",
       "Howrah                1\n",
       "Name: Location, dtype: int64"
      ]
     },
     "execution_count": 14,
     "metadata": {},
     "output_type": "execute_result"
    }
   ],
   "source": [
    "df.Location.value_counts()"
   ]
  },
  {
   "cell_type": "markdown",
   "id": "c2406a4b-7d96-4a93-af52-ca9a008cc932",
   "metadata": {},
   "source": [
    "# EDA"
   ]
  },
  {
   "cell_type": "code",
   "execution_count": 15,
   "id": "44a6a7a8-15ad-4ff9-8d16-c11f8899554b",
   "metadata": {},
   "outputs": [
    {
     "name": "stdout",
     "output_type": "stream",
     "text": [
      "<class 'pandas.core.frame.DataFrame'>\n",
      "RangeIndex: 7422 entries, 0 to 7421\n",
      "Data columns (total 7 columns):\n",
      " #   Column         Non-Null Count  Dtype  \n",
      "---  ------         --------------  -----  \n",
      " 0   Created        7422 non-null   object \n",
      " 1   Product_ID     7364 non-null   float64\n",
      " 2   Source         7405 non-null   object \n",
      " 3   Sales_Agent    7399 non-null   object \n",
      " 4   Location       7364 non-null   object \n",
      " 5   Delivery_Mode  7422 non-null   object \n",
      " 6   Status         7422 non-null   object \n",
      "dtypes: float64(1), object(6)\n",
      "memory usage: 406.0+ KB\n"
     ]
    }
   ],
   "source": [
    "df.info()"
   ]
  },
  {
   "cell_type": "markdown",
   "id": "8ff02f98-c515-43cd-8946-1dfd6dfda3f9",
   "metadata": {},
   "source": [
    "# Product ID"
   ]
  },
  {
   "cell_type": "code",
   "execution_count": 16,
   "id": "c3325395-ced6-4f8b-824e-4eec8a6c38de",
   "metadata": {},
   "outputs": [
    {
     "data": {
      "image/png": "[encoded data removed]",
      "text/plain": [
       "<Figure size 640x480 with 1 Axes>"
      ]
     },
     "metadata": {},
     "output_type": "display_data"
    }
   ],
   "source": [
    "sns.distplot(df.Product_ID)\n",
    "plt.show()"
   ]
  },
  {
   "cell_type": "markdown",
   "id": "fc99a8f6-7a14-445f-9eac-e353ee6898a8",
   "metadata": {},
   "source": [
    "# **Insights**\n",
    "- you used 15-20 product more\n",
    "- it is a non normal distribution\n",
    "- product 0-5 is a leaste.\r\n"
   ]
  },
  {
   "cell_type": "markdown",
   "id": "145ca57d-5769-4094-a31e-ec58993a5a9e",
   "metadata": {},
   "source": [
    "# Source"
   ]
  },
  {
   "cell_type": "code",
   "execution_count": 17,
   "id": "63c438f2-9335-4254-b5ff-881e886b75ed",
   "metadata": {},
   "outputs": [
    {
     "data": {
      "image/png": "[encoded data removed]",
      "text/plain": [
       "<Figure size 700x600 with 1 Axes>"
      ]
     },
     "metadata": {},
     "output_type": "display_data"
    }
   ],
   "source": [
    "plt.figure(figsize = (7,6))\n",
    "sns.countplot(x = 'Source',data = df)\n",
    "plt.xticks(fontsize = 8,rotation = 90)\n",
    "plt.show()\n"
   ]
  },
  {
   "cell_type": "markdown",
   "id": "ed2d1eaa-8002-4ea9-8e63-0810b9101983",
   "metadata": {},
   "source": [
    "# Insights:\n",
    "- Call and live chat direct is more\n",
    "- others, email campaign, SMS campaign, and live chat youtube and live chat justdial is least count."
   ]
  },
  {
   "cell_type": "markdown",
   "id": "ee9859b8-687a-4859-8632-02c787e86338",
   "metadata": {},
   "source": [
    "# Sales Agent"
   ]
  },
  {
   "cell_type": "code",
   "execution_count": 18,
   "id": "56c394ec-a50b-4d25-b483-59b7383d3e89",
   "metadata": {},
   "outputs": [
    {
     "data": {
      "image/png": "[encoded data removed]",
      "text/plain": [
       "<Figure size 700x600 with 1 Axes>"
      ]
     },
     "metadata": {},
     "output_type": "display_data"
    }
   ],
   "source": [
    "plt.figure(figsize = (7,6))\n",
    "sns.countplot(x = 'Sales_Agent',data = df)\n",
    "plt.xticks(fontsize = 8,rotation = 90)\n",
    "plt.show()"
   ]
  },
  {
   "cell_type": "markdown",
   "id": "15c7dcea-8788-40d5-9280-69f4e8dd3b35",
   "metadata": {},
   "source": [
    "# Insights\n",
    "- Agent 11, 4, 5 count is more\n",
    "- And agent 1, 10 count is least"
   ]
  },
  {
   "cell_type": "markdown",
   "id": "1a4d69a4-03cb-4d8a-ab84-9c2ea0dd7cca",
   "metadata": {},
   "source": [
    "# Location"
   ]
  },
  {
   "cell_type": "code",
   "execution_count": 19,
   "id": "0af613e5-0cdf-4280-be5d-d0861b237955",
   "metadata": {},
   "outputs": [
    {
     "data": {
      "image/png": "[encoded data removed]",
      "text/plain": [
       "<Figure size 700x600 with 1 Axes>"
      ]
     },
     "metadata": {},
     "output_type": "display_data"
    }
   ],
   "source": [
    "plt.figure(figsize = (7,6))\n",
    "sns.countplot(x = 'Location',data = df)\n",
    "plt.xticks(fontsize = 8,rotation = 90)\n",
    "plt.show()"
   ]
  },
  {
   "cell_type": "markdown",
   "id": "6cc379e6-4b55-4933-8a8b-e36c23c9381f",
   "metadata": {},
   "source": [
    "# Insights\n",
    "- other Location and bangalore is more\n",
    "- And howrah, malayasia and Europe count is least."
   ]
  },
  {
   "cell_type": "markdown",
   "id": "45367f7c-b0ee-4ccd-8d0f-ff0da3cf9007",
   "metadata": {},
   "source": [
    "# Delivery Mode"
   ]
  },
  {
   "cell_type": "code",
   "execution_count": 20,
   "id": "6e2739e7-74bc-48f5-8920-3e1ee1ca062c",
   "metadata": {},
   "outputs": [
    {
     "data": {
      "image/png": "[encoded data removed]",
      "text/plain": [
       "<Figure size 700x600 with 1 Axes>"
      ]
     },
     "metadata": {},
     "output_type": "display_data"
    }
   ],
   "source": [
    "plt.figure(figsize = (7,6))\n",
    "sns.countplot(x = 'Delivery_Mode',data = df)\n",
    "plt.xticks(fontsize = 8,rotation = 90)\n",
    "plt.show()"
   ]
  },
  {
   "cell_type": "markdown",
   "id": "9b304a4c-49b3-4241-a4cf-94ce46fab0a8",
   "metadata": {},
   "source": [
    "# Insights\n",
    "- mode 5 and 1 count is more\n",
    "- mode 2 count is least."
   ]
  },
  {
   "cell_type": "markdown",
   "id": "f3b1bcad-caf4-489c-95b7-e1cb1bcba8ce",
   "metadata": {},
   "source": [
    "# Status"
   ]
  },
  {
   "cell_type": "code",
   "execution_count": 21,
   "id": "dceb97f7-96da-4476-b02f-5918029014f3",
   "metadata": {},
   "outputs": [
    {
     "data": {
      "image/png": "[encoded data removed]",
      "text/plain": [
       "<Figure size 700x600 with 1 Axes>"
      ]
     },
     "metadata": {},
     "output_type": "display_data"
    }
   ],
   "source": [
    "plt.figure(figsize = (7,6))\n",
    "sns.countplot(x = 'Status',data = df)\n",
    "plt.xticks(fontsize = 8,rotation = 90)\n",
    "plt.show()"
   ]
  },
  {
   "cell_type": "markdown",
   "id": "76badd21-cd04-40ac-9588-326b5b8f4270",
   "metadata": {},
   "source": [
    "# Insights\n",
    "- Just Lead and not responding count is more.\n",
    "- negative respose is more\n",
    "- convered and open count is least."
   ]
  },
  {
   "cell_type": "markdown",
   "id": "eb005374-ea6d-4c2d-b71c-99fcd1779271",
   "metadata": {},
   "source": [
    "# Preprocessing"
   ]
  },
  {
   "cell_type": "code",
   "execution_count": 22,
   "id": "fb2b212b-d3a8-489d-8907-b4a3b3d51a04",
   "metadata": {},
   "outputs": [
    {
     "data": {
      "text/plain": [
       "11"
      ]
     },
     "execution_count": 22,
     "metadata": {},
     "output_type": "execute_result"
    }
   ],
   "source": [
    "df.duplicated().sum()"
   ]
  },
  {
   "cell_type": "code",
   "execution_count": 23,
   "id": "e2588c90-3a99-48c3-b21c-c9b1ff1191e4",
   "metadata": {},
   "outputs": [],
   "source": [
    "df.drop_duplicates(inplace = True)"
   ]
  },
  {
   "cell_type": "code",
   "execution_count": 24,
   "id": "09249866-c81d-4d13-9786-bede71db6444",
   "metadata": {},
   "outputs": [
    {
     "data": {
      "text/plain": [
       "0"
      ]
     },
     "execution_count": 24,
     "metadata": {},
     "output_type": "execute_result"
    }
   ],
   "source": [
    "df.duplicated().sum()"
   ]
  },
  {
   "cell_type": "code",
   "execution_count": 25,
   "id": "bbab7c21-3051-484f-936c-cdba122936f0",
   "metadata": {},
   "outputs": [
    {
     "data": {
      "text/plain": [
       "Created           0\n",
       "Product_ID       56\n",
       "Source           17\n",
       "Sales_Agent      23\n",
       "Location         56\n",
       "Delivery_Mode     0\n",
       "Status            0\n",
       "dtype: int64"
      ]
     },
     "execution_count": 25,
     "metadata": {},
     "output_type": "execute_result"
    }
   ],
   "source": [
    "df.isnull().sum()"
   ]
  },
  {
   "cell_type": "markdown",
   "id": "97fe3129-222e-4b82-a755-ec95c7edbafa",
   "metadata": {},
   "source": [
    "## ***Product_ID Preprocess***"
   ]
  },
  {
   "cell_type": "code",
   "execution_count": 26,
   "id": "76fcf543-b493-4c53-a374-c20c99da6aef",
   "metadata": {},
   "outputs": [
    {
     "data": {
      "text/html": [
       "<div>\n",
       "<style scoped>\n",
       "    .dataframe tbody tr th:only-of-type {\n",
       "        vertical-align: middle;\n",
       "    }\n",
       "\n",
       "    .dataframe tbody tr th {\n",
       "        vertical-align: top;\n",
       "    }\n",
       "\n",
       "    .dataframe thead th {\n",
       "        text-align: right;\n",
       "    }\n",
       "</style>\n",
       "<table border=\"1\" class=\"dataframe\">\n",
       "  <thead>\n",
       "    <tr style=\"text-align: right;\">\n",
       "      <th></th>\n",
       "      <th>Created</th>\n",
       "      <th>Product_ID</th>\n",
       "      <th>Source</th>\n",
       "      <th>Sales_Agent</th>\n",
       "      <th>Location</th>\n",
       "      <th>Delivery_Mode</th>\n",
       "      <th>Status</th>\n",
       "    </tr>\n",
       "  </thead>\n",
       "  <tbody>\n",
       "    <tr>\n",
       "      <th>0</th>\n",
       "      <td>14-11-2018 10:05</td>\n",
       "      <td>NaN</td>\n",
       "      <td>Website</td>\n",
       "      <td>Sales-Agent-11</td>\n",
       "      <td>NaN</td>\n",
       "      <td>Mode-5</td>\n",
       "      <td>Open</td>\n",
       "    </tr>\n",
       "    <tr>\n",
       "      <th>1</th>\n",
       "      <td>14-11-2018 09:22</td>\n",
       "      <td>NaN</td>\n",
       "      <td>Website</td>\n",
       "      <td>Sales-Agent-10</td>\n",
       "      <td>NaN</td>\n",
       "      <td>Mode-5</td>\n",
       "      <td>Open</td>\n",
       "    </tr>\n",
       "    <tr>\n",
       "      <th>2</th>\n",
       "      <td>14-11-2018 09:21</td>\n",
       "      <td>NaN</td>\n",
       "      <td>Website</td>\n",
       "      <td>Sales-Agent-10</td>\n",
       "      <td>NaN</td>\n",
       "      <td>Mode-5</td>\n",
       "      <td>Open</td>\n",
       "    </tr>\n",
       "    <tr>\n",
       "      <th>3</th>\n",
       "      <td>14-11-2018 08:46</td>\n",
       "      <td>NaN</td>\n",
       "      <td>Website</td>\n",
       "      <td>Sales-Agent-10</td>\n",
       "      <td>NaN</td>\n",
       "      <td>Mode-5</td>\n",
       "      <td>Open</td>\n",
       "    </tr>\n",
       "    <tr>\n",
       "      <th>4</th>\n",
       "      <td>14-11-2018 07:34</td>\n",
       "      <td>NaN</td>\n",
       "      <td>Website</td>\n",
       "      <td>Sales-Agent-10</td>\n",
       "      <td>NaN</td>\n",
       "      <td>Mode-5</td>\n",
       "      <td>Open</td>\n",
       "    </tr>\n",
       "    <tr>\n",
       "      <th>5</th>\n",
       "      <td>14-11-2018 07:33</td>\n",
       "      <td>NaN</td>\n",
       "      <td>Website</td>\n",
       "      <td>Sales-Agent-10</td>\n",
       "      <td>NaN</td>\n",
       "      <td>Mode-5</td>\n",
       "      <td>Open</td>\n",
       "    </tr>\n",
       "    <tr>\n",
       "      <th>6</th>\n",
       "      <td>14-11-2018 05:58</td>\n",
       "      <td>NaN</td>\n",
       "      <td>Website</td>\n",
       "      <td>Sales-Agent-10</td>\n",
       "      <td>NaN</td>\n",
       "      <td>Mode-5</td>\n",
       "      <td>Open</td>\n",
       "    </tr>\n",
       "    <tr>\n",
       "      <th>7</th>\n",
       "      <td>14-11-2018 05:49</td>\n",
       "      <td>NaN</td>\n",
       "      <td>Website</td>\n",
       "      <td>Sales-Agent-10</td>\n",
       "      <td>NaN</td>\n",
       "      <td>Mode-5</td>\n",
       "      <td>Open</td>\n",
       "    </tr>\n",
       "    <tr>\n",
       "      <th>8</th>\n",
       "      <td>14-11-2018 05:40</td>\n",
       "      <td>NaN</td>\n",
       "      <td>Website</td>\n",
       "      <td>Sales-Agent-10</td>\n",
       "      <td>NaN</td>\n",
       "      <td>Mode-5</td>\n",
       "      <td>Open</td>\n",
       "    </tr>\n",
       "    <tr>\n",
       "      <th>9</th>\n",
       "      <td>14-11-2018 05:06</td>\n",
       "      <td>NaN</td>\n",
       "      <td>Website</td>\n",
       "      <td>Sales-Agent-10</td>\n",
       "      <td>NaN</td>\n",
       "      <td>Mode-5</td>\n",
       "      <td>Open</td>\n",
       "    </tr>\n",
       "    <tr>\n",
       "      <th>10</th>\n",
       "      <td>14-11-2018 05:03</td>\n",
       "      <td>NaN</td>\n",
       "      <td>Website</td>\n",
       "      <td>Sales-Agent-10</td>\n",
       "      <td>NaN</td>\n",
       "      <td>Mode-5</td>\n",
       "      <td>Open</td>\n",
       "    </tr>\n",
       "    <tr>\n",
       "      <th>11</th>\n",
       "      <td>14-11-2018 04:52</td>\n",
       "      <td>NaN</td>\n",
       "      <td>Website</td>\n",
       "      <td>Sales-Agent-10</td>\n",
       "      <td>NaN</td>\n",
       "      <td>Mode-5</td>\n",
       "      <td>Open</td>\n",
       "    </tr>\n",
       "    <tr>\n",
       "      <th>12</th>\n",
       "      <td>14-11-2018 02:37</td>\n",
       "      <td>NaN</td>\n",
       "      <td>Website</td>\n",
       "      <td>Sales-Agent-10</td>\n",
       "      <td>NaN</td>\n",
       "      <td>Mode-5</td>\n",
       "      <td>Open</td>\n",
       "    </tr>\n",
       "    <tr>\n",
       "      <th>13</th>\n",
       "      <td>13-11-2018 23:40</td>\n",
       "      <td>NaN</td>\n",
       "      <td>NaN</td>\n",
       "      <td>Sales-Agent-10</td>\n",
       "      <td>NaN</td>\n",
       "      <td>Mode-5</td>\n",
       "      <td>Open</td>\n",
       "    </tr>\n",
       "    <tr>\n",
       "      <th>14</th>\n",
       "      <td>13-11-2018 21:14</td>\n",
       "      <td>NaN</td>\n",
       "      <td>Website</td>\n",
       "      <td>Sales-Agent-10</td>\n",
       "      <td>NaN</td>\n",
       "      <td>Mode-5</td>\n",
       "      <td>Open</td>\n",
       "    </tr>\n",
       "    <tr>\n",
       "      <th>15</th>\n",
       "      <td>13-11-2018 20:45</td>\n",
       "      <td>NaN</td>\n",
       "      <td>NaN</td>\n",
       "      <td>Sales-Agent-10</td>\n",
       "      <td>NaN</td>\n",
       "      <td>Mode-5</td>\n",
       "      <td>Open</td>\n",
       "    </tr>\n",
       "    <tr>\n",
       "      <th>16</th>\n",
       "      <td>13-11-2018 20:15</td>\n",
       "      <td>NaN</td>\n",
       "      <td>Website</td>\n",
       "      <td>Sales-Agent-10</td>\n",
       "      <td>NaN</td>\n",
       "      <td>Mode-5</td>\n",
       "      <td>Open</td>\n",
       "    </tr>\n",
       "    <tr>\n",
       "      <th>17</th>\n",
       "      <td>13-11-2018 20:14</td>\n",
       "      <td>NaN</td>\n",
       "      <td>Website</td>\n",
       "      <td>Sales-Agent-10</td>\n",
       "      <td>NaN</td>\n",
       "      <td>Mode-5</td>\n",
       "      <td>Open</td>\n",
       "    </tr>\n",
       "    <tr>\n",
       "      <th>20</th>\n",
       "      <td>13-11-2018 18:41</td>\n",
       "      <td>NaN</td>\n",
       "      <td>Website</td>\n",
       "      <td>Sales-Agent-10</td>\n",
       "      <td>NaN</td>\n",
       "      <td>Mode-5</td>\n",
       "      <td>Open</td>\n",
       "    </tr>\n",
       "    <tr>\n",
       "      <th>21</th>\n",
       "      <td>13-11-2018 18:25</td>\n",
       "      <td>NaN</td>\n",
       "      <td>NaN</td>\n",
       "      <td>Sales-Agent-10</td>\n",
       "      <td>NaN</td>\n",
       "      <td>Mode-5</td>\n",
       "      <td>Open</td>\n",
       "    </tr>\n",
       "    <tr>\n",
       "      <th>22</th>\n",
       "      <td>13-11-2018 18:03</td>\n",
       "      <td>NaN</td>\n",
       "      <td>Website</td>\n",
       "      <td>Sales-Agent-10</td>\n",
       "      <td>NaN</td>\n",
       "      <td>Mode-5</td>\n",
       "      <td>Open</td>\n",
       "    </tr>\n",
       "    <tr>\n",
       "      <th>23</th>\n",
       "      <td>13-11-2018 17:25</td>\n",
       "      <td>NaN</td>\n",
       "      <td>Call</td>\n",
       "      <td>Sales-Agent-9</td>\n",
       "      <td>UAE</td>\n",
       "      <td>Mode-3</td>\n",
       "      <td>In Progress Positive</td>\n",
       "    </tr>\n",
       "    <tr>\n",
       "      <th>126</th>\n",
       "      <td>10-11-2018 22:34</td>\n",
       "      <td>NaN</td>\n",
       "      <td>Website</td>\n",
       "      <td>Sales-Agent-10</td>\n",
       "      <td>NaN</td>\n",
       "      <td>Mode-5</td>\n",
       "      <td>Open</td>\n",
       "    </tr>\n",
       "    <tr>\n",
       "      <th>127</th>\n",
       "      <td>10-11-2018 21:41</td>\n",
       "      <td>NaN</td>\n",
       "      <td>Website</td>\n",
       "      <td>Sales-Agent-10</td>\n",
       "      <td>NaN</td>\n",
       "      <td>Mode-5</td>\n",
       "      <td>Open</td>\n",
       "    </tr>\n",
       "    <tr>\n",
       "      <th>128</th>\n",
       "      <td>10-11-2018 20:40</td>\n",
       "      <td>NaN</td>\n",
       "      <td>NaN</td>\n",
       "      <td>Sales-Agent-10</td>\n",
       "      <td>NaN</td>\n",
       "      <td>Mode-5</td>\n",
       "      <td>Open</td>\n",
       "    </tr>\n",
       "    <tr>\n",
       "      <th>129</th>\n",
       "      <td>10-11-2018 20:27</td>\n",
       "      <td>NaN</td>\n",
       "      <td>Website</td>\n",
       "      <td>Sales-Agent-10</td>\n",
       "      <td>NaN</td>\n",
       "      <td>Mode-5</td>\n",
       "      <td>Open</td>\n",
       "    </tr>\n",
       "    <tr>\n",
       "      <th>131</th>\n",
       "      <td>10-11-2018 20:25</td>\n",
       "      <td>NaN</td>\n",
       "      <td>Website</td>\n",
       "      <td>Sales-Agent-10</td>\n",
       "      <td>NaN</td>\n",
       "      <td>Mode-5</td>\n",
       "      <td>Open</td>\n",
       "    </tr>\n",
       "    <tr>\n",
       "      <th>132</th>\n",
       "      <td>10-11-2018 20:20</td>\n",
       "      <td>NaN</td>\n",
       "      <td>Website</td>\n",
       "      <td>Sales-Agent-10</td>\n",
       "      <td>NaN</td>\n",
       "      <td>Mode-5</td>\n",
       "      <td>Open</td>\n",
       "    </tr>\n",
       "    <tr>\n",
       "      <th>133</th>\n",
       "      <td>10-11-2018 20:19</td>\n",
       "      <td>NaN</td>\n",
       "      <td>Website</td>\n",
       "      <td>Sales-Agent-10</td>\n",
       "      <td>NaN</td>\n",
       "      <td>Mode-5</td>\n",
       "      <td>Open</td>\n",
       "    </tr>\n",
       "    <tr>\n",
       "      <th>134</th>\n",
       "      <td>10-11-2018 20:17</td>\n",
       "      <td>NaN</td>\n",
       "      <td>Website</td>\n",
       "      <td>Sales-Agent-10</td>\n",
       "      <td>NaN</td>\n",
       "      <td>Mode-5</td>\n",
       "      <td>Open</td>\n",
       "    </tr>\n",
       "    <tr>\n",
       "      <th>136</th>\n",
       "      <td>10-11-2018 19:39</td>\n",
       "      <td>NaN</td>\n",
       "      <td>Website</td>\n",
       "      <td>Sales-Agent-10</td>\n",
       "      <td>NaN</td>\n",
       "      <td>Mode-5</td>\n",
       "      <td>Open</td>\n",
       "    </tr>\n",
       "    <tr>\n",
       "      <th>137</th>\n",
       "      <td>10-11-2018 19:13</td>\n",
       "      <td>NaN</td>\n",
       "      <td>Website</td>\n",
       "      <td>Sales-Agent-10</td>\n",
       "      <td>NaN</td>\n",
       "      <td>Mode-5</td>\n",
       "      <td>Open</td>\n",
       "    </tr>\n",
       "    <tr>\n",
       "      <th>138</th>\n",
       "      <td>10-11-2018 18:00</td>\n",
       "      <td>NaN</td>\n",
       "      <td>NaN</td>\n",
       "      <td>Sales-Agent-10</td>\n",
       "      <td>NaN</td>\n",
       "      <td>Mode-5</td>\n",
       "      <td>Open</td>\n",
       "    </tr>\n",
       "    <tr>\n",
       "      <th>1888</th>\n",
       "      <td>17-09-2018 18:55</td>\n",
       "      <td>NaN</td>\n",
       "      <td>Live Chat-Direct</td>\n",
       "      <td>Sales-Agent-5</td>\n",
       "      <td>Mumbai</td>\n",
       "      <td>Mode-3</td>\n",
       "      <td>Junk Lead</td>\n",
       "    </tr>\n",
       "    <tr>\n",
       "      <th>2487</th>\n",
       "      <td>31-08-2018 22:31</td>\n",
       "      <td>NaN</td>\n",
       "      <td>Website</td>\n",
       "      <td>Sales-Agent-10</td>\n",
       "      <td>NaN</td>\n",
       "      <td>Mode-5</td>\n",
       "      <td>Open</td>\n",
       "    </tr>\n",
       "    <tr>\n",
       "      <th>2488</th>\n",
       "      <td>31-08-2018 21:26</td>\n",
       "      <td>NaN</td>\n",
       "      <td>Website</td>\n",
       "      <td>Sales-Agent-10</td>\n",
       "      <td>NaN</td>\n",
       "      <td>Mode-5</td>\n",
       "      <td>Open</td>\n",
       "    </tr>\n",
       "    <tr>\n",
       "      <th>2489</th>\n",
       "      <td>31-08-2018 20:34</td>\n",
       "      <td>NaN</td>\n",
       "      <td>Website</td>\n",
       "      <td>Sales-Agent-10</td>\n",
       "      <td>NaN</td>\n",
       "      <td>Mode-5</td>\n",
       "      <td>Open</td>\n",
       "    </tr>\n",
       "    <tr>\n",
       "      <th>2556</th>\n",
       "      <td>29-08-2018 19:41</td>\n",
       "      <td>NaN</td>\n",
       "      <td>NaN</td>\n",
       "      <td>Sales-Agent-1</td>\n",
       "      <td>NaN</td>\n",
       "      <td>Mode-5</td>\n",
       "      <td>Open</td>\n",
       "    </tr>\n",
       "    <tr>\n",
       "      <th>2726</th>\n",
       "      <td>24-08-2018 15:20</td>\n",
       "      <td>NaN</td>\n",
       "      <td>Website</td>\n",
       "      <td>Sales-Agent-11</td>\n",
       "      <td>NaN</td>\n",
       "      <td>Mode-5</td>\n",
       "      <td>Just Enquiry</td>\n",
       "    </tr>\n",
       "    <tr>\n",
       "      <th>2727</th>\n",
       "      <td>24-08-2018 14:36</td>\n",
       "      <td>NaN</td>\n",
       "      <td>US Website</td>\n",
       "      <td>Sales-Agent-5</td>\n",
       "      <td>NaN</td>\n",
       "      <td>Mode-5</td>\n",
       "      <td>Not Responding</td>\n",
       "    </tr>\n",
       "    <tr>\n",
       "      <th>2729</th>\n",
       "      <td>24-08-2018 13:50</td>\n",
       "      <td>NaN</td>\n",
       "      <td>US Website</td>\n",
       "      <td>Sales-Agent-11</td>\n",
       "      <td>NaN</td>\n",
       "      <td>Mode-5</td>\n",
       "      <td>Just Enquiry</td>\n",
       "    </tr>\n",
       "    <tr>\n",
       "      <th>3023</th>\n",
       "      <td>16-08-2018 12:08</td>\n",
       "      <td>NaN</td>\n",
       "      <td>Call</td>\n",
       "      <td>Sales-Agent-5</td>\n",
       "      <td>Other Locations</td>\n",
       "      <td>Mode-5</td>\n",
       "      <td>Junk Lead</td>\n",
       "    </tr>\n",
       "    <tr>\n",
       "      <th>3051</th>\n",
       "      <td>15-08-2018 21:44</td>\n",
       "      <td>NaN</td>\n",
       "      <td>NaN</td>\n",
       "      <td>Sales-Agent-1</td>\n",
       "      <td>NaN</td>\n",
       "      <td>Mode-5</td>\n",
       "      <td>Open</td>\n",
       "    </tr>\n",
       "    <tr>\n",
       "      <th>3053</th>\n",
       "      <td>15-08-2018 20:36</td>\n",
       "      <td>NaN</td>\n",
       "      <td>Website</td>\n",
       "      <td>Sales-Agent-10</td>\n",
       "      <td>NaN</td>\n",
       "      <td>Mode-5</td>\n",
       "      <td>Open</td>\n",
       "    </tr>\n",
       "    <tr>\n",
       "      <th>3061</th>\n",
       "      <td>14-08-2018 21:43</td>\n",
       "      <td>NaN</td>\n",
       "      <td>Website</td>\n",
       "      <td>Sales-Agent-10</td>\n",
       "      <td>NaN</td>\n",
       "      <td>Mode-5</td>\n",
       "      <td>Open</td>\n",
       "    </tr>\n",
       "    <tr>\n",
       "      <th>3130</th>\n",
       "      <td>13-08-2018 16:59</td>\n",
       "      <td>NaN</td>\n",
       "      <td>Website</td>\n",
       "      <td>Sales-Agent-10</td>\n",
       "      <td>NaN</td>\n",
       "      <td>Mode-5</td>\n",
       "      <td>Open</td>\n",
       "    </tr>\n",
       "    <tr>\n",
       "      <th>3250</th>\n",
       "      <td>09-08-2018 18:26</td>\n",
       "      <td>NaN</td>\n",
       "      <td>Website</td>\n",
       "      <td>Sales-Agent-10</td>\n",
       "      <td>NaN</td>\n",
       "      <td>Mode-5</td>\n",
       "      <td>Open</td>\n",
       "    </tr>\n",
       "    <tr>\n",
       "      <th>3384</th>\n",
       "      <td>06-08-2018 20:42</td>\n",
       "      <td>NaN</td>\n",
       "      <td>US Website</td>\n",
       "      <td>Sales-Agent-10</td>\n",
       "      <td>NaN</td>\n",
       "      <td>Mode-5</td>\n",
       "      <td>Open</td>\n",
       "    </tr>\n",
       "    <tr>\n",
       "      <th>3740</th>\n",
       "      <td>28-07-2018 23:11</td>\n",
       "      <td>NaN</td>\n",
       "      <td>Website</td>\n",
       "      <td>Sales-Agent-10</td>\n",
       "      <td>NaN</td>\n",
       "      <td>Mode-5</td>\n",
       "      <td>Open</td>\n",
       "    </tr>\n",
       "    <tr>\n",
       "      <th>3752</th>\n",
       "      <td>28-07-2018 12:25</td>\n",
       "      <td>NaN</td>\n",
       "      <td>Live Chat-Direct</td>\n",
       "      <td>Sales-Agent-5</td>\n",
       "      <td>Other Locations</td>\n",
       "      <td>Mode-5</td>\n",
       "      <td>Just Enquiry</td>\n",
       "    </tr>\n",
       "    <tr>\n",
       "      <th>4979</th>\n",
       "      <td>25-06-2018 16:31</td>\n",
       "      <td>NaN</td>\n",
       "      <td>NaN</td>\n",
       "      <td>Sales-Agent-1</td>\n",
       "      <td>NaN</td>\n",
       "      <td>Mode-5</td>\n",
       "      <td>Open</td>\n",
       "    </tr>\n",
       "    <tr>\n",
       "      <th>5086</th>\n",
       "      <td>22-06-2018 15:03</td>\n",
       "      <td>NaN</td>\n",
       "      <td>Website</td>\n",
       "      <td>Sales-Agent-4</td>\n",
       "      <td>Other Locations</td>\n",
       "      <td>Mode-3</td>\n",
       "      <td>Long Term</td>\n",
       "    </tr>\n",
       "    <tr>\n",
       "      <th>5235</th>\n",
       "      <td>19-06-2018 23:41</td>\n",
       "      <td>NaN</td>\n",
       "      <td>Website</td>\n",
       "      <td>Sales-Agent-10</td>\n",
       "      <td>NaN</td>\n",
       "      <td>Mode-5</td>\n",
       "      <td>Open</td>\n",
       "    </tr>\n",
       "    <tr>\n",
       "      <th>5258</th>\n",
       "      <td>19-06-2018 17:12</td>\n",
       "      <td>NaN</td>\n",
       "      <td>NaN</td>\n",
       "      <td>Sales-Agent-1</td>\n",
       "      <td>NaN</td>\n",
       "      <td>Mode-5</td>\n",
       "      <td>Open</td>\n",
       "    </tr>\n",
       "    <tr>\n",
       "      <th>5549</th>\n",
       "      <td>12-06-2018 21:00</td>\n",
       "      <td>NaN</td>\n",
       "      <td>NaN</td>\n",
       "      <td>Sales-Agent-10</td>\n",
       "      <td>NaN</td>\n",
       "      <td>Mode-5</td>\n",
       "      <td>Open</td>\n",
       "    </tr>\n",
       "    <tr>\n",
       "      <th>5664</th>\n",
       "      <td>10-06-2018 11:12</td>\n",
       "      <td>NaN</td>\n",
       "      <td>US Website</td>\n",
       "      <td>Sales-Agent-4</td>\n",
       "      <td>Other Locations</td>\n",
       "      <td>Mode-5</td>\n",
       "      <td>Not Responding</td>\n",
       "    </tr>\n",
       "  </tbody>\n",
       "</table>\n",
       "</div>"
      ],
      "text/plain": [
       "               Created  Product_ID            Source     Sales_Agent  \\\n",
       "0     14-11-2018 10:05         NaN           Website  Sales-Agent-11   \n",
       "1     14-11-2018 09:22         NaN           Website  Sales-Agent-10   \n",
       "2     14-11-2018 09:21         NaN           Website  Sales-Agent-10   \n",
       "3     14-11-2018 08:46         NaN           Website  Sales-Agent-10   \n",
       "4     14-11-2018 07:34         NaN           Website  Sales-Agent-10   \n",
       "5     14-11-2018 07:33         NaN           Website  Sales-Agent-10   \n",
       "6     14-11-2018 05:58         NaN           Website  Sales-Agent-10   \n",
       "7     14-11-2018 05:49         NaN           Website  Sales-Agent-10   \n",
       "8     14-11-2018 05:40         NaN           Website  Sales-Agent-10   \n",
       "9     14-11-2018 05:06         NaN           Website  Sales-Agent-10   \n",
       "10    14-11-2018 05:03         NaN           Website  Sales-Agent-10   \n",
       "11    14-11-2018 04:52         NaN           Website  Sales-Agent-10   \n",
       "12    14-11-2018 02:37         NaN           Website  Sales-Agent-10   \n",
       "13    13-11-2018 23:40         NaN               NaN  Sales-Agent-10   \n",
       "14    13-11-2018 21:14         NaN           Website  Sales-Agent-10   \n",
       "15    13-11-2018 20:45         NaN               NaN  Sales-Agent-10   \n",
       "16    13-11-2018 20:15         NaN           Website  Sales-Agent-10   \n",
       "17    13-11-2018 20:14         NaN           Website  Sales-Agent-10   \n",
       "20    13-11-2018 18:41         NaN           Website  Sales-Agent-10   \n",
       "21    13-11-2018 18:25         NaN               NaN  Sales-Agent-10   \n",
       "22    13-11-2018 18:03         NaN           Website  Sales-Agent-10   \n",
       "23    13-11-2018 17:25         NaN              Call   Sales-Agent-9   \n",
       "126   10-11-2018 22:34         NaN           Website  Sales-Agent-10   \n",
       "127   10-11-2018 21:41         NaN           Website  Sales-Agent-10   \n",
       "128   10-11-2018 20:40         NaN               NaN  Sales-Agent-10   \n",
       "129   10-11-2018 20:27         NaN           Website  Sales-Agent-10   \n",
       "131   10-11-2018 20:25         NaN           Website  Sales-Agent-10   \n",
       "132   10-11-2018 20:20         NaN           Website  Sales-Agent-10   \n",
       "133   10-11-2018 20:19         NaN           Website  Sales-Agent-10   \n",
       "134   10-11-2018 20:17         NaN           Website  Sales-Agent-10   \n",
       "136   10-11-2018 19:39         NaN           Website  Sales-Agent-10   \n",
       "137   10-11-2018 19:13         NaN           Website  Sales-Agent-10   \n",
       "138   10-11-2018 18:00         NaN               NaN  Sales-Agent-10   \n",
       "1888  17-09-2018 18:55         NaN  Live Chat-Direct   Sales-Agent-5   \n",
       "2487  31-08-2018 22:31         NaN           Website  Sales-Agent-10   \n",
       "2488  31-08-2018 21:26         NaN           Website  Sales-Agent-10   \n",
       "2489  31-08-2018 20:34         NaN           Website  Sales-Agent-10   \n",
       "2556  29-08-2018 19:41         NaN               NaN   Sales-Agent-1   \n",
       "2726  24-08-2018 15:20         NaN           Website  Sales-Agent-11   \n",
       "2727  24-08-2018 14:36         NaN        US Website   Sales-Agent-5   \n",
       "2729  24-08-2018 13:50         NaN        US Website  Sales-Agent-11   \n",
       "3023  16-08-2018 12:08         NaN              Call   Sales-Agent-5   \n",
       "3051  15-08-2018 21:44         NaN               NaN   Sales-Agent-1   \n",
       "3053  15-08-2018 20:36         NaN           Website  Sales-Agent-10   \n",
       "3061  14-08-2018 21:43         NaN           Website  Sales-Agent-10   \n",
       "3130  13-08-2018 16:59         NaN           Website  Sales-Agent-10   \n",
       "3250  09-08-2018 18:26         NaN           Website  Sales-Agent-10   \n",
       "3384  06-08-2018 20:42         NaN        US Website  Sales-Agent-10   \n",
       "3740  28-07-2018 23:11         NaN           Website  Sales-Agent-10   \n",
       "3752  28-07-2018 12:25         NaN  Live Chat-Direct   Sales-Agent-5   \n",
       "4979  25-06-2018 16:31         NaN               NaN   Sales-Agent-1   \n",
       "5086  22-06-2018 15:03         NaN           Website   Sales-Agent-4   \n",
       "5235  19-06-2018 23:41         NaN           Website  Sales-Agent-10   \n",
       "5258  19-06-2018 17:12         NaN               NaN   Sales-Agent-1   \n",
       "5549  12-06-2018 21:00         NaN               NaN  Sales-Agent-10   \n",
       "5664  10-06-2018 11:12         NaN        US Website   Sales-Agent-4   \n",
       "\n",
       "             Location Delivery_Mode                Status  \n",
       "0                 NaN        Mode-5                  Open  \n",
       "1                 NaN        Mode-5                  Open  \n",
       "2                 NaN        Mode-5                  Open  \n",
       "3                 NaN        Mode-5                  Open  \n",
       "4                 NaN        Mode-5                  Open  \n",
       "5                 NaN        Mode-5                  Open  \n",
       "6                 NaN        Mode-5                  Open  \n",
       "7                 NaN        Mode-5                  Open  \n",
       "8                 NaN        Mode-5                  Open  \n",
       "9                 NaN        Mode-5                  Open  \n",
       "10                NaN        Mode-5                  Open  \n",
       "11                NaN        Mode-5                  Open  \n",
       "12                NaN        Mode-5                  Open  \n",
       "13                NaN        Mode-5                  Open  \n",
       "14                NaN        Mode-5                  Open  \n",
       "15                NaN        Mode-5                  Open  \n",
       "16                NaN        Mode-5                  Open  \n",
       "17                NaN        Mode-5                  Open  \n",
       "20                NaN        Mode-5                  Open  \n",
       "21                NaN        Mode-5                  Open  \n",
       "22                NaN        Mode-5                  Open  \n",
       "23                UAE        Mode-3  In Progress Positive  \n",
       "126               NaN        Mode-5                  Open  \n",
       "127               NaN        Mode-5                  Open  \n",
       "128               NaN        Mode-5                  Open  \n",
       "129               NaN        Mode-5                  Open  \n",
       "131               NaN        Mode-5                  Open  \n",
       "132               NaN        Mode-5                  Open  \n",
       "133               NaN        Mode-5                  Open  \n",
       "134               NaN        Mode-5                  Open  \n",
       "136               NaN        Mode-5                  Open  \n",
       "137               NaN        Mode-5                  Open  \n",
       "138               NaN        Mode-5                  Open  \n",
       "1888           Mumbai        Mode-3             Junk Lead  \n",
       "2487              NaN        Mode-5                  Open  \n",
       "2488              NaN        Mode-5                  Open  \n",
       "2489              NaN        Mode-5                  Open  \n",
       "2556              NaN        Mode-5                  Open  \n",
       "2726              NaN        Mode-5          Just Enquiry  \n",
       "2727              NaN        Mode-5        Not Responding  \n",
       "2729              NaN        Mode-5          Just Enquiry  \n",
       "3023  Other Locations        Mode-5             Junk Lead  \n",
       "3051              NaN        Mode-5                  Open  \n",
       "3053              NaN        Mode-5                  Open  \n",
       "3061              NaN        Mode-5                  Open  \n",
       "3130              NaN        Mode-5                  Open  \n",
       "3250              NaN        Mode-5                  Open  \n",
       "3384              NaN        Mode-5                  Open  \n",
       "3740              NaN        Mode-5                  Open  \n",
       "3752  Other Locations        Mode-5          Just Enquiry  \n",
       "4979              NaN        Mode-5                  Open  \n",
       "5086  Other Locations        Mode-3             Long Term  \n",
       "5235              NaN        Mode-5                  Open  \n",
       "5258              NaN        Mode-5                  Open  \n",
       "5549              NaN        Mode-5                  Open  \n",
       "5664  Other Locations        Mode-5        Not Responding  "
      ]
     },
     "execution_count": 26,
     "metadata": {},
     "output_type": "execute_result"
    }
   ],
   "source": [
    "df.loc[df['Product_ID'].isnull() == True]"
   ]
  },
  {
   "cell_type": "code",
   "execution_count": 27,
   "id": "217574f9-e44e-4902-906e-8ca77b6bbef3",
   "metadata": {},
   "outputs": [],
   "source": [
    "df.loc[df['Product_ID'].isnull() == True, 'Product_ID'] = np.median(df.Product_ID.dropna(axis = 0))"
   ]
  },
  {
   "cell_type": "code",
   "execution_count": 28,
   "id": "b5af158a-63ea-43ef-b939-1665cc6455f9",
   "metadata": {},
   "outputs": [
    {
     "data": {
      "text/html": [
       "<div>\n",
       "<style scoped>\n",
       "    .dataframe tbody tr th:only-of-type {\n",
       "        vertical-align: middle;\n",
       "    }\n",
       "\n",
       "    .dataframe tbody tr th {\n",
       "        vertical-align: top;\n",
       "    }\n",
       "\n",
       "    .dataframe thead th {\n",
       "        text-align: right;\n",
       "    }\n",
       "</style>\n",
       "<table border=\"1\" class=\"dataframe\">\n",
       "  <thead>\n",
       "    <tr style=\"text-align: right;\">\n",
       "      <th></th>\n",
       "      <th>Created</th>\n",
       "      <th>Product_ID</th>\n",
       "      <th>Source</th>\n",
       "      <th>Sales_Agent</th>\n",
       "      <th>Location</th>\n",
       "      <th>Delivery_Mode</th>\n",
       "      <th>Status</th>\n",
       "    </tr>\n",
       "  </thead>\n",
       "  <tbody>\n",
       "  </tbody>\n",
       "</table>\n",
       "</div>"
      ],
      "text/plain": [
       "Empty DataFrame\n",
       "Columns: [Created, Product_ID, Source, Sales_Agent, Location, Delivery_Mode, Status]\n",
       "Index: []"
      ]
     },
     "execution_count": 28,
     "metadata": {},
     "output_type": "execute_result"
    }
   ],
   "source": [
    "df.loc[df['Product_ID'].isnull() == True]"
   ]
  },
  {
   "cell_type": "markdown",
   "id": "35aeddff-7d95-413b-9c24-03eff4e2f4fc",
   "metadata": {},
   "source": [
    "## ***Source Preprocess***"
   ]
  },
  {
   "cell_type": "code",
   "execution_count": 29,
   "id": "81511880-4896-4558-bc25-e7a1a5779e48",
   "metadata": {},
   "outputs": [
    {
     "data": {
      "text/html": [
       "<div>\n",
       "<style scoped>\n",
       "    .dataframe tbody tr th:only-of-type {\n",
       "        vertical-align: middle;\n",
       "    }\n",
       "\n",
       "    .dataframe tbody tr th {\n",
       "        vertical-align: top;\n",
       "    }\n",
       "\n",
       "    .dataframe thead th {\n",
       "        text-align: right;\n",
       "    }\n",
       "</style>\n",
       "<table border=\"1\" class=\"dataframe\">\n",
       "  <thead>\n",
       "    <tr style=\"text-align: right;\">\n",
       "      <th></th>\n",
       "      <th>Created</th>\n",
       "      <th>Product_ID</th>\n",
       "      <th>Source</th>\n",
       "      <th>Sales_Agent</th>\n",
       "      <th>Location</th>\n",
       "      <th>Delivery_Mode</th>\n",
       "      <th>Status</th>\n",
       "    </tr>\n",
       "  </thead>\n",
       "  <tbody>\n",
       "    <tr>\n",
       "      <th>13</th>\n",
       "      <td>13-11-2018 23:40</td>\n",
       "      <td>18.0</td>\n",
       "      <td>NaN</td>\n",
       "      <td>Sales-Agent-10</td>\n",
       "      <td>NaN</td>\n",
       "      <td>Mode-5</td>\n",
       "      <td>Open</td>\n",
       "    </tr>\n",
       "    <tr>\n",
       "      <th>15</th>\n",
       "      <td>13-11-2018 20:45</td>\n",
       "      <td>18.0</td>\n",
       "      <td>NaN</td>\n",
       "      <td>Sales-Agent-10</td>\n",
       "      <td>NaN</td>\n",
       "      <td>Mode-5</td>\n",
       "      <td>Open</td>\n",
       "    </tr>\n",
       "    <tr>\n",
       "      <th>21</th>\n",
       "      <td>13-11-2018 18:25</td>\n",
       "      <td>18.0</td>\n",
       "      <td>NaN</td>\n",
       "      <td>Sales-Agent-10</td>\n",
       "      <td>NaN</td>\n",
       "      <td>Mode-5</td>\n",
       "      <td>Open</td>\n",
       "    </tr>\n",
       "    <tr>\n",
       "      <th>128</th>\n",
       "      <td>10-11-2018 20:40</td>\n",
       "      <td>18.0</td>\n",
       "      <td>NaN</td>\n",
       "      <td>Sales-Agent-10</td>\n",
       "      <td>NaN</td>\n",
       "      <td>Mode-5</td>\n",
       "      <td>Open</td>\n",
       "    </tr>\n",
       "    <tr>\n",
       "      <th>138</th>\n",
       "      <td>10-11-2018 18:00</td>\n",
       "      <td>18.0</td>\n",
       "      <td>NaN</td>\n",
       "      <td>Sales-Agent-10</td>\n",
       "      <td>NaN</td>\n",
       "      <td>Mode-5</td>\n",
       "      <td>Open</td>\n",
       "    </tr>\n",
       "    <tr>\n",
       "      <th>2518</th>\n",
       "      <td>30-08-2018 20:40</td>\n",
       "      <td>18.0</td>\n",
       "      <td>NaN</td>\n",
       "      <td>Sales-Agent-5</td>\n",
       "      <td>Other Locations</td>\n",
       "      <td>Mode-3</td>\n",
       "      <td>Not Responding</td>\n",
       "    </tr>\n",
       "    <tr>\n",
       "      <th>2556</th>\n",
       "      <td>29-08-2018 19:41</td>\n",
       "      <td>18.0</td>\n",
       "      <td>NaN</td>\n",
       "      <td>Sales-Agent-1</td>\n",
       "      <td>NaN</td>\n",
       "      <td>Mode-5</td>\n",
       "      <td>Open</td>\n",
       "    </tr>\n",
       "    <tr>\n",
       "      <th>2686</th>\n",
       "      <td>26-08-2018 11:10</td>\n",
       "      <td>9.0</td>\n",
       "      <td>NaN</td>\n",
       "      <td>Sales-Agent-5</td>\n",
       "      <td>Mumbai</td>\n",
       "      <td>Mode-3</td>\n",
       "      <td>Just Enquiry</td>\n",
       "    </tr>\n",
       "    <tr>\n",
       "      <th>2712</th>\n",
       "      <td>25-08-2018 10:00</td>\n",
       "      <td>15.0</td>\n",
       "      <td>NaN</td>\n",
       "      <td>Sales-Agent-5</td>\n",
       "      <td>Mumbai</td>\n",
       "      <td>Mode-5</td>\n",
       "      <td>Junk Lead</td>\n",
       "    </tr>\n",
       "    <tr>\n",
       "      <th>2767</th>\n",
       "      <td>23-08-2018 14:40</td>\n",
       "      <td>15.0</td>\n",
       "      <td>NaN</td>\n",
       "      <td>Sales-Agent-11</td>\n",
       "      <td>Hyderabad</td>\n",
       "      <td>Mode-5</td>\n",
       "      <td>In Progress Negative</td>\n",
       "    </tr>\n",
       "    <tr>\n",
       "      <th>3051</th>\n",
       "      <td>15-08-2018 21:44</td>\n",
       "      <td>18.0</td>\n",
       "      <td>NaN</td>\n",
       "      <td>Sales-Agent-1</td>\n",
       "      <td>NaN</td>\n",
       "      <td>Mode-5</td>\n",
       "      <td>Open</td>\n",
       "    </tr>\n",
       "    <tr>\n",
       "      <th>4979</th>\n",
       "      <td>25-06-2018 16:31</td>\n",
       "      <td>18.0</td>\n",
       "      <td>NaN</td>\n",
       "      <td>Sales-Agent-1</td>\n",
       "      <td>NaN</td>\n",
       "      <td>Mode-5</td>\n",
       "      <td>Open</td>\n",
       "    </tr>\n",
       "    <tr>\n",
       "      <th>5258</th>\n",
       "      <td>19-06-2018 17:12</td>\n",
       "      <td>18.0</td>\n",
       "      <td>NaN</td>\n",
       "      <td>Sales-Agent-1</td>\n",
       "      <td>NaN</td>\n",
       "      <td>Mode-5</td>\n",
       "      <td>Open</td>\n",
       "    </tr>\n",
       "    <tr>\n",
       "      <th>5549</th>\n",
       "      <td>12-06-2018 21:00</td>\n",
       "      <td>18.0</td>\n",
       "      <td>NaN</td>\n",
       "      <td>Sales-Agent-10</td>\n",
       "      <td>NaN</td>\n",
       "      <td>Mode-5</td>\n",
       "      <td>Open</td>\n",
       "    </tr>\n",
       "    <tr>\n",
       "      <th>6627</th>\n",
       "      <td>17-05-2018 14:45</td>\n",
       "      <td>9.0</td>\n",
       "      <td>NaN</td>\n",
       "      <td>Sales-Agent-7</td>\n",
       "      <td>Bangalore</td>\n",
       "      <td>Mode-1</td>\n",
       "      <td>LOST</td>\n",
       "    </tr>\n",
       "    <tr>\n",
       "      <th>6886</th>\n",
       "      <td>10-05-2018 21:30</td>\n",
       "      <td>5.0</td>\n",
       "      <td>NaN</td>\n",
       "      <td>Sales-Agent-11</td>\n",
       "      <td>Other Locations</td>\n",
       "      <td>Mode-1</td>\n",
       "      <td>Potential</td>\n",
       "    </tr>\n",
       "    <tr>\n",
       "      <th>6910</th>\n",
       "      <td>10-05-2018 14:10</td>\n",
       "      <td>18.0</td>\n",
       "      <td>NaN</td>\n",
       "      <td>Sales-Agent-7</td>\n",
       "      <td>Chennai</td>\n",
       "      <td>Mode-1</td>\n",
       "      <td>Not Responding</td>\n",
       "    </tr>\n",
       "  </tbody>\n",
       "</table>\n",
       "</div>"
      ],
      "text/plain": [
       "               Created  Product_ID Source     Sales_Agent         Location  \\\n",
       "13    13-11-2018 23:40        18.0    NaN  Sales-Agent-10              NaN   \n",
       "15    13-11-2018 20:45        18.0    NaN  Sales-Agent-10              NaN   \n",
       "21    13-11-2018 18:25        18.0    NaN  Sales-Agent-10              NaN   \n",
       "128   10-11-2018 20:40        18.0    NaN  Sales-Agent-10              NaN   \n",
       "138   10-11-2018 18:00        18.0    NaN  Sales-Agent-10              NaN   \n",
       "2518  30-08-2018 20:40        18.0    NaN   Sales-Agent-5  Other Locations   \n",
       "2556  29-08-2018 19:41        18.0    NaN   Sales-Agent-1              NaN   \n",
       "2686  26-08-2018 11:10         9.0    NaN   Sales-Agent-5           Mumbai   \n",
       "2712  25-08-2018 10:00        15.0    NaN   Sales-Agent-5           Mumbai   \n",
       "2767  23-08-2018 14:40        15.0    NaN  Sales-Agent-11        Hyderabad   \n",
       "3051  15-08-2018 21:44        18.0    NaN   Sales-Agent-1              NaN   \n",
       "4979  25-06-2018 16:31        18.0    NaN   Sales-Agent-1              NaN   \n",
       "5258  19-06-2018 17:12        18.0    NaN   Sales-Agent-1              NaN   \n",
       "5549  12-06-2018 21:00        18.0    NaN  Sales-Agent-10              NaN   \n",
       "6627  17-05-2018 14:45         9.0    NaN   Sales-Agent-7        Bangalore   \n",
       "6886  10-05-2018 21:30         5.0    NaN  Sales-Agent-11  Other Locations   \n",
       "6910  10-05-2018 14:10        18.0    NaN   Sales-Agent-7          Chennai   \n",
       "\n",
       "     Delivery_Mode                Status  \n",
       "13          Mode-5                  Open  \n",
       "15          Mode-5                  Open  \n",
       "21          Mode-5                  Open  \n",
       "128         Mode-5                  Open  \n",
       "138         Mode-5                  Open  \n",
       "2518        Mode-3        Not Responding  \n",
       "2556        Mode-5                  Open  \n",
       "2686        Mode-3          Just Enquiry  \n",
       "2712        Mode-5             Junk Lead  \n",
       "2767        Mode-5  In Progress Negative  \n",
       "3051        Mode-5                  Open  \n",
       "4979        Mode-5                  Open  \n",
       "5258        Mode-5                  Open  \n",
       "5549        Mode-5                  Open  \n",
       "6627        Mode-1                  LOST  \n",
       "6886        Mode-1             Potential  \n",
       "6910        Mode-1        Not Responding  "
      ]
     },
     "execution_count": 29,
     "metadata": {},
     "output_type": "execute_result"
    }
   ],
   "source": [
    "df.loc[df['Source'].isnull() == True]"
   ]
  },
  {
   "cell_type": "code",
   "execution_count": 30,
   "id": "57539f88-0d61-41f3-88b0-71bd86c87d82",
   "metadata": {},
   "outputs": [
    {
     "data": {
      "text/plain": [
       "0    Call\n",
       "Name: Source, dtype: object"
      ]
     },
     "execution_count": 30,
     "metadata": {},
     "output_type": "execute_result"
    }
   ],
   "source": [
    "df.Source.mode()"
   ]
  },
  {
   "cell_type": "code",
   "execution_count": 31,
   "id": "d325613e-e58e-4d54-a25e-bf28b08b528b",
   "metadata": {},
   "outputs": [],
   "source": [
    "df.loc[df['Source'].isnull() == True, 'Source'] = 'Call'"
   ]
  },
  {
   "cell_type": "code",
   "execution_count": 32,
   "id": "04573f23-6c6c-4765-a162-4da05282190f",
   "metadata": {},
   "outputs": [
    {
     "data": {
      "text/html": [
       "<div>\n",
       "<style scoped>\n",
       "    .dataframe tbody tr th:only-of-type {\n",
       "        vertical-align: middle;\n",
       "    }\n",
       "\n",
       "    .dataframe tbody tr th {\n",
       "        vertical-align: top;\n",
       "    }\n",
       "\n",
       "    .dataframe thead th {\n",
       "        text-align: right;\n",
       "    }\n",
       "</style>\n",
       "<table border=\"1\" class=\"dataframe\">\n",
       "  <thead>\n",
       "    <tr style=\"text-align: right;\">\n",
       "      <th></th>\n",
       "      <th>Created</th>\n",
       "      <th>Product_ID</th>\n",
       "      <th>Source</th>\n",
       "      <th>Sales_Agent</th>\n",
       "      <th>Location</th>\n",
       "      <th>Delivery_Mode</th>\n",
       "      <th>Status</th>\n",
       "    </tr>\n",
       "  </thead>\n",
       "  <tbody>\n",
       "    <tr>\n",
       "      <th>118</th>\n",
       "      <td>11-11-2018 12:35</td>\n",
       "      <td>5.0</td>\n",
       "      <td>Live Chat-Google Ads</td>\n",
       "      <td>NaN</td>\n",
       "      <td>Other Locations</td>\n",
       "      <td>Mode-5</td>\n",
       "      <td>Open</td>\n",
       "    </tr>\n",
       "    <tr>\n",
       "      <th>593</th>\n",
       "      <td>25-10-2018 18:02</td>\n",
       "      <td>15.0</td>\n",
       "      <td>Live Chat-Direct</td>\n",
       "      <td>NaN</td>\n",
       "      <td>Other Locations</td>\n",
       "      <td>Mode-5</td>\n",
       "      <td>Open</td>\n",
       "    </tr>\n",
       "    <tr>\n",
       "      <th>651</th>\n",
       "      <td>24-10-2018 11:01</td>\n",
       "      <td>18.0</td>\n",
       "      <td>Website</td>\n",
       "      <td>NaN</td>\n",
       "      <td>Delhi</td>\n",
       "      <td>Mode-5</td>\n",
       "      <td>Just Enquiry</td>\n",
       "    </tr>\n",
       "    <tr>\n",
       "      <th>658</th>\n",
       "      <td>24-10-2018 10:18</td>\n",
       "      <td>17.0</td>\n",
       "      <td>Live Chat-Google Organic</td>\n",
       "      <td>NaN</td>\n",
       "      <td>UAE</td>\n",
       "      <td>Mode-3</td>\n",
       "      <td>Open</td>\n",
       "    </tr>\n",
       "    <tr>\n",
       "      <th>681</th>\n",
       "      <td>23-10-2018 12:09</td>\n",
       "      <td>15.0</td>\n",
       "      <td>Live Chat-Google Organic</td>\n",
       "      <td>NaN</td>\n",
       "      <td>Other Locations</td>\n",
       "      <td>Mode-3</td>\n",
       "      <td>Open</td>\n",
       "    </tr>\n",
       "    <tr>\n",
       "      <th>690</th>\n",
       "      <td>23-10-2018 11:33</td>\n",
       "      <td>15.0</td>\n",
       "      <td>Call</td>\n",
       "      <td>NaN</td>\n",
       "      <td>Other Locations</td>\n",
       "      <td>Mode-5</td>\n",
       "      <td>Open</td>\n",
       "    </tr>\n",
       "    <tr>\n",
       "      <th>691</th>\n",
       "      <td>23-10-2018 11:31</td>\n",
       "      <td>15.0</td>\n",
       "      <td>Call</td>\n",
       "      <td>NaN</td>\n",
       "      <td>Other Locations</td>\n",
       "      <td>Mode-5</td>\n",
       "      <td>Not Responding</td>\n",
       "    </tr>\n",
       "    <tr>\n",
       "      <th>884</th>\n",
       "      <td>16-10-2018 10:06</td>\n",
       "      <td>24.0</td>\n",
       "      <td>Call</td>\n",
       "      <td>NaN</td>\n",
       "      <td>Other Locations</td>\n",
       "      <td>Mode-1</td>\n",
       "      <td>Open</td>\n",
       "    </tr>\n",
       "    <tr>\n",
       "      <th>1109</th>\n",
       "      <td>09-10-2018 12:55</td>\n",
       "      <td>18.0</td>\n",
       "      <td>Live Chat-Direct</td>\n",
       "      <td>NaN</td>\n",
       "      <td>Bangalore</td>\n",
       "      <td>Mode-1</td>\n",
       "      <td>Potential</td>\n",
       "    </tr>\n",
       "    <tr>\n",
       "      <th>1490</th>\n",
       "      <td>27-09-2018 11:00</td>\n",
       "      <td>15.0</td>\n",
       "      <td>Call</td>\n",
       "      <td>NaN</td>\n",
       "      <td>Other Locations</td>\n",
       "      <td>Mode-5</td>\n",
       "      <td>Open</td>\n",
       "    </tr>\n",
       "    <tr>\n",
       "      <th>1734</th>\n",
       "      <td>21-09-2018 10:42</td>\n",
       "      <td>15.0</td>\n",
       "      <td>Call</td>\n",
       "      <td>NaN</td>\n",
       "      <td>Other Locations</td>\n",
       "      <td>Mode-5</td>\n",
       "      <td>Potential</td>\n",
       "    </tr>\n",
       "    <tr>\n",
       "      <th>2946</th>\n",
       "      <td>19-08-2018 14:00</td>\n",
       "      <td>19.0</td>\n",
       "      <td>Live Chat-Google Organic</td>\n",
       "      <td>NaN</td>\n",
       "      <td>Bangalore</td>\n",
       "      <td>Mode-1</td>\n",
       "      <td>Just Enquiry</td>\n",
       "    </tr>\n",
       "    <tr>\n",
       "      <th>3987</th>\n",
       "      <td>22-07-2018 13:10</td>\n",
       "      <td>27.0</td>\n",
       "      <td>Live Chat-Direct</td>\n",
       "      <td>NaN</td>\n",
       "      <td>Other Locations</td>\n",
       "      <td>Mode-5</td>\n",
       "      <td>Open</td>\n",
       "    </tr>\n",
       "    <tr>\n",
       "      <th>4080</th>\n",
       "      <td>18-07-2018 18:10</td>\n",
       "      <td>15.0</td>\n",
       "      <td>Live Chat-CPC</td>\n",
       "      <td>NaN</td>\n",
       "      <td>Pune</td>\n",
       "      <td>Mode-1</td>\n",
       "      <td>Open</td>\n",
       "    </tr>\n",
       "    <tr>\n",
       "      <th>4229</th>\n",
       "      <td>15-07-2018 18:22</td>\n",
       "      <td>15.0</td>\n",
       "      <td>Website</td>\n",
       "      <td>NaN</td>\n",
       "      <td>Pune</td>\n",
       "      <td>Mode-5</td>\n",
       "      <td>Not Responding</td>\n",
       "    </tr>\n",
       "    <tr>\n",
       "      <th>4375</th>\n",
       "      <td>11-07-2018 14:22</td>\n",
       "      <td>15.0</td>\n",
       "      <td>Call</td>\n",
       "      <td>NaN</td>\n",
       "      <td>Other Locations</td>\n",
       "      <td>Mode-5</td>\n",
       "      <td>Not Responding</td>\n",
       "    </tr>\n",
       "    <tr>\n",
       "      <th>5321</th>\n",
       "      <td>18-06-2018 17:05</td>\n",
       "      <td>15.0</td>\n",
       "      <td>Live Chat-Google Organic</td>\n",
       "      <td>NaN</td>\n",
       "      <td>Other Locations</td>\n",
       "      <td>Mode-2</td>\n",
       "      <td>Open</td>\n",
       "    </tr>\n",
       "    <tr>\n",
       "      <th>5780</th>\n",
       "      <td>07-06-2018 12:00</td>\n",
       "      <td>13.0</td>\n",
       "      <td>Call</td>\n",
       "      <td>NaN</td>\n",
       "      <td>Pune</td>\n",
       "      <td>Mode-5</td>\n",
       "      <td>Open</td>\n",
       "    </tr>\n",
       "    <tr>\n",
       "      <th>5784</th>\n",
       "      <td>07-06-2018 11:20</td>\n",
       "      <td>1.0</td>\n",
       "      <td>Live Chat-Direct</td>\n",
       "      <td>NaN</td>\n",
       "      <td>Chennai</td>\n",
       "      <td>Mode-1</td>\n",
       "      <td>Open</td>\n",
       "    </tr>\n",
       "    <tr>\n",
       "      <th>5901</th>\n",
       "      <td>05-06-2018 09:51</td>\n",
       "      <td>15.0</td>\n",
       "      <td>Call</td>\n",
       "      <td>NaN</td>\n",
       "      <td>Other Locations</td>\n",
       "      <td>Mode-5</td>\n",
       "      <td>Open</td>\n",
       "    </tr>\n",
       "    <tr>\n",
       "      <th>6957</th>\n",
       "      <td>09-05-2018 12:45</td>\n",
       "      <td>5.0</td>\n",
       "      <td>Live Chat-Google Organic</td>\n",
       "      <td>NaN</td>\n",
       "      <td>Other Locations</td>\n",
       "      <td>Mode-4</td>\n",
       "      <td>Open</td>\n",
       "    </tr>\n",
       "    <tr>\n",
       "      <th>7099</th>\n",
       "      <td>05-05-2018 12:47</td>\n",
       "      <td>21.0</td>\n",
       "      <td>CRM form</td>\n",
       "      <td>NaN</td>\n",
       "      <td>Bangalore</td>\n",
       "      <td>Mode-1</td>\n",
       "      <td>Just Enquiry</td>\n",
       "    </tr>\n",
       "    <tr>\n",
       "      <th>7101</th>\n",
       "      <td>05-05-2018 11:58</td>\n",
       "      <td>27.0</td>\n",
       "      <td>Call</td>\n",
       "      <td>NaN</td>\n",
       "      <td>Bangalore</td>\n",
       "      <td>Mode-1</td>\n",
       "      <td>Just Enquiry</td>\n",
       "    </tr>\n",
       "  </tbody>\n",
       "</table>\n",
       "</div>"
      ],
      "text/plain": [
       "               Created  Product_ID                    Source Sales_Agent  \\\n",
       "118   11-11-2018 12:35         5.0      Live Chat-Google Ads         NaN   \n",
       "593   25-10-2018 18:02        15.0          Live Chat-Direct         NaN   \n",
       "651   24-10-2018 11:01        18.0                   Website         NaN   \n",
       "658   24-10-2018 10:18        17.0  Live Chat-Google Organic         NaN   \n",
       "681   23-10-2018 12:09        15.0  Live Chat-Google Organic         NaN   \n",
       "690   23-10-2018 11:33        15.0                      Call         NaN   \n",
       "691   23-10-2018 11:31        15.0                      Call         NaN   \n",
       "884   16-10-2018 10:06        24.0                      Call         NaN   \n",
       "1109  09-10-2018 12:55        18.0          Live Chat-Direct         NaN   \n",
       "1490  27-09-2018 11:00        15.0                      Call         NaN   \n",
       "1734  21-09-2018 10:42        15.0                      Call         NaN   \n",
       "2946  19-08-2018 14:00        19.0  Live Chat-Google Organic         NaN   \n",
       "3987  22-07-2018 13:10        27.0          Live Chat-Direct         NaN   \n",
       "4080  18-07-2018 18:10        15.0             Live Chat-CPC         NaN   \n",
       "4229  15-07-2018 18:22        15.0                   Website         NaN   \n",
       "4375  11-07-2018 14:22        15.0                      Call         NaN   \n",
       "5321  18-06-2018 17:05        15.0  Live Chat-Google Organic         NaN   \n",
       "5780  07-06-2018 12:00        13.0                      Call         NaN   \n",
       "5784  07-06-2018 11:20         1.0          Live Chat-Direct         NaN   \n",
       "5901  05-06-2018 09:51        15.0                      Call         NaN   \n",
       "6957  09-05-2018 12:45         5.0  Live Chat-Google Organic         NaN   \n",
       "7099  05-05-2018 12:47        21.0                  CRM form         NaN   \n",
       "7101  05-05-2018 11:58        27.0                      Call         NaN   \n",
       "\n",
       "             Location Delivery_Mode          Status  \n",
       "118   Other Locations        Mode-5            Open  \n",
       "593   Other Locations        Mode-5            Open  \n",
       "651             Delhi        Mode-5    Just Enquiry  \n",
       "658               UAE        Mode-3            Open  \n",
       "681   Other Locations        Mode-3            Open  \n",
       "690   Other Locations        Mode-5            Open  \n",
       "691   Other Locations        Mode-5  Not Responding  \n",
       "884   Other Locations        Mode-1            Open  \n",
       "1109        Bangalore        Mode-1       Potential  \n",
       "1490  Other Locations        Mode-5            Open  \n",
       "1734  Other Locations        Mode-5       Potential  \n",
       "2946        Bangalore        Mode-1    Just Enquiry  \n",
       "3987  Other Locations        Mode-5            Open  \n",
       "4080             Pune        Mode-1            Open  \n",
       "4229             Pune        Mode-5  Not Responding  \n",
       "4375  Other Locations        Mode-5  Not Responding  \n",
       "5321  Other Locations        Mode-2            Open  \n",
       "5780             Pune        Mode-5            Open  \n",
       "5784          Chennai        Mode-1            Open  \n",
       "5901  Other Locations        Mode-5            Open  \n",
       "6957  Other Locations        Mode-4            Open  \n",
       "7099        Bangalore        Mode-1    Just Enquiry  \n",
       "7101        Bangalore        Mode-1    Just Enquiry  "
      ]
     },
     "execution_count": 32,
     "metadata": {},
     "output_type": "execute_result"
    }
   ],
   "source": [
    "df.loc[df['Sales_Agent'].isnull() == True]"
   ]
  },
  {
   "cell_type": "markdown",
   "id": "ee71dd42-1022-4ff4-b11c-b5efa4f7e9fc",
   "metadata": {},
   "source": [
    "## ***Sales Agent Preprocess***"
   ]
  },
  {
   "cell_type": "code",
   "execution_count": 33,
   "id": "965d610d-90fb-448b-9c4c-b5f38978ef90",
   "metadata": {},
   "outputs": [
    {
     "data": {
      "text/plain": [
       "0    Sales-Agent-4\n",
       "Name: Sales_Agent, dtype: object"
      ]
     },
     "execution_count": 33,
     "metadata": {},
     "output_type": "execute_result"
    }
   ],
   "source": [
    "df.Sales_Agent.mode()"
   ]
  },
  {
   "cell_type": "code",
   "execution_count": 34,
   "id": "171b1f98-0102-4351-83e6-41661c390f0c",
   "metadata": {},
   "outputs": [],
   "source": [
    "df.loc[df['Sales_Agent'].isnull() == True,'Sales_Agent'] = 'Sales-Agent-4'"
   ]
  },
  {
   "cell_type": "code",
   "execution_count": 35,
   "id": "d9563fe1-21b7-4e64-b7ad-fcaabade5c89",
   "metadata": {},
   "outputs": [
    {
     "data": {
      "text/html": [
       "<div>\n",
       "<style scoped>\n",
       "    .dataframe tbody tr th:only-of-type {\n",
       "        vertical-align: middle;\n",
       "    }\n",
       "\n",
       "    .dataframe tbody tr th {\n",
       "        vertical-align: top;\n",
       "    }\n",
       "\n",
       "    .dataframe thead th {\n",
       "        text-align: right;\n",
       "    }\n",
       "</style>\n",
       "<table border=\"1\" class=\"dataframe\">\n",
       "  <thead>\n",
       "    <tr style=\"text-align: right;\">\n",
       "      <th></th>\n",
       "      <th>Created</th>\n",
       "      <th>Product_ID</th>\n",
       "      <th>Source</th>\n",
       "      <th>Sales_Agent</th>\n",
       "      <th>Location</th>\n",
       "      <th>Delivery_Mode</th>\n",
       "      <th>Status</th>\n",
       "    </tr>\n",
       "  </thead>\n",
       "  <tbody>\n",
       "    <tr>\n",
       "      <th>0</th>\n",
       "      <td>14-11-2018 10:05</td>\n",
       "      <td>18.0</td>\n",
       "      <td>Website</td>\n",
       "      <td>Sales-Agent-11</td>\n",
       "      <td>NaN</td>\n",
       "      <td>Mode-5</td>\n",
       "      <td>Open</td>\n",
       "    </tr>\n",
       "    <tr>\n",
       "      <th>1</th>\n",
       "      <td>14-11-2018 09:22</td>\n",
       "      <td>18.0</td>\n",
       "      <td>Website</td>\n",
       "      <td>Sales-Agent-10</td>\n",
       "      <td>NaN</td>\n",
       "      <td>Mode-5</td>\n",
       "      <td>Open</td>\n",
       "    </tr>\n",
       "    <tr>\n",
       "      <th>2</th>\n",
       "      <td>14-11-2018 09:21</td>\n",
       "      <td>18.0</td>\n",
       "      <td>Website</td>\n",
       "      <td>Sales-Agent-10</td>\n",
       "      <td>NaN</td>\n",
       "      <td>Mode-5</td>\n",
       "      <td>Open</td>\n",
       "    </tr>\n",
       "    <tr>\n",
       "      <th>3</th>\n",
       "      <td>14-11-2018 08:46</td>\n",
       "      <td>18.0</td>\n",
       "      <td>Website</td>\n",
       "      <td>Sales-Agent-10</td>\n",
       "      <td>NaN</td>\n",
       "      <td>Mode-5</td>\n",
       "      <td>Open</td>\n",
       "    </tr>\n",
       "    <tr>\n",
       "      <th>4</th>\n",
       "      <td>14-11-2018 07:34</td>\n",
       "      <td>18.0</td>\n",
       "      <td>Website</td>\n",
       "      <td>Sales-Agent-10</td>\n",
       "      <td>NaN</td>\n",
       "      <td>Mode-5</td>\n",
       "      <td>Open</td>\n",
       "    </tr>\n",
       "    <tr>\n",
       "      <th>5</th>\n",
       "      <td>14-11-2018 07:33</td>\n",
       "      <td>18.0</td>\n",
       "      <td>Website</td>\n",
       "      <td>Sales-Agent-10</td>\n",
       "      <td>NaN</td>\n",
       "      <td>Mode-5</td>\n",
       "      <td>Open</td>\n",
       "    </tr>\n",
       "    <tr>\n",
       "      <th>6</th>\n",
       "      <td>14-11-2018 05:58</td>\n",
       "      <td>18.0</td>\n",
       "      <td>Website</td>\n",
       "      <td>Sales-Agent-10</td>\n",
       "      <td>NaN</td>\n",
       "      <td>Mode-5</td>\n",
       "      <td>Open</td>\n",
       "    </tr>\n",
       "    <tr>\n",
       "      <th>7</th>\n",
       "      <td>14-11-2018 05:49</td>\n",
       "      <td>18.0</td>\n",
       "      <td>Website</td>\n",
       "      <td>Sales-Agent-10</td>\n",
       "      <td>NaN</td>\n",
       "      <td>Mode-5</td>\n",
       "      <td>Open</td>\n",
       "    </tr>\n",
       "    <tr>\n",
       "      <th>8</th>\n",
       "      <td>14-11-2018 05:40</td>\n",
       "      <td>18.0</td>\n",
       "      <td>Website</td>\n",
       "      <td>Sales-Agent-10</td>\n",
       "      <td>NaN</td>\n",
       "      <td>Mode-5</td>\n",
       "      <td>Open</td>\n",
       "    </tr>\n",
       "    <tr>\n",
       "      <th>9</th>\n",
       "      <td>14-11-2018 05:06</td>\n",
       "      <td>18.0</td>\n",
       "      <td>Website</td>\n",
       "      <td>Sales-Agent-10</td>\n",
       "      <td>NaN</td>\n",
       "      <td>Mode-5</td>\n",
       "      <td>Open</td>\n",
       "    </tr>\n",
       "    <tr>\n",
       "      <th>10</th>\n",
       "      <td>14-11-2018 05:03</td>\n",
       "      <td>18.0</td>\n",
       "      <td>Website</td>\n",
       "      <td>Sales-Agent-10</td>\n",
       "      <td>NaN</td>\n",
       "      <td>Mode-5</td>\n",
       "      <td>Open</td>\n",
       "    </tr>\n",
       "    <tr>\n",
       "      <th>11</th>\n",
       "      <td>14-11-2018 04:52</td>\n",
       "      <td>18.0</td>\n",
       "      <td>Website</td>\n",
       "      <td>Sales-Agent-10</td>\n",
       "      <td>NaN</td>\n",
       "      <td>Mode-5</td>\n",
       "      <td>Open</td>\n",
       "    </tr>\n",
       "    <tr>\n",
       "      <th>12</th>\n",
       "      <td>14-11-2018 02:37</td>\n",
       "      <td>18.0</td>\n",
       "      <td>Website</td>\n",
       "      <td>Sales-Agent-10</td>\n",
       "      <td>NaN</td>\n",
       "      <td>Mode-5</td>\n",
       "      <td>Open</td>\n",
       "    </tr>\n",
       "    <tr>\n",
       "      <th>13</th>\n",
       "      <td>13-11-2018 23:40</td>\n",
       "      <td>18.0</td>\n",
       "      <td>Call</td>\n",
       "      <td>Sales-Agent-10</td>\n",
       "      <td>NaN</td>\n",
       "      <td>Mode-5</td>\n",
       "      <td>Open</td>\n",
       "    </tr>\n",
       "    <tr>\n",
       "      <th>14</th>\n",
       "      <td>13-11-2018 21:14</td>\n",
       "      <td>18.0</td>\n",
       "      <td>Website</td>\n",
       "      <td>Sales-Agent-10</td>\n",
       "      <td>NaN</td>\n",
       "      <td>Mode-5</td>\n",
       "      <td>Open</td>\n",
       "    </tr>\n",
       "    <tr>\n",
       "      <th>15</th>\n",
       "      <td>13-11-2018 20:45</td>\n",
       "      <td>18.0</td>\n",
       "      <td>Call</td>\n",
       "      <td>Sales-Agent-10</td>\n",
       "      <td>NaN</td>\n",
       "      <td>Mode-5</td>\n",
       "      <td>Open</td>\n",
       "    </tr>\n",
       "    <tr>\n",
       "      <th>16</th>\n",
       "      <td>13-11-2018 20:15</td>\n",
       "      <td>18.0</td>\n",
       "      <td>Website</td>\n",
       "      <td>Sales-Agent-10</td>\n",
       "      <td>NaN</td>\n",
       "      <td>Mode-5</td>\n",
       "      <td>Open</td>\n",
       "    </tr>\n",
       "    <tr>\n",
       "      <th>17</th>\n",
       "      <td>13-11-2018 20:14</td>\n",
       "      <td>18.0</td>\n",
       "      <td>Website</td>\n",
       "      <td>Sales-Agent-10</td>\n",
       "      <td>NaN</td>\n",
       "      <td>Mode-5</td>\n",
       "      <td>Open</td>\n",
       "    </tr>\n",
       "    <tr>\n",
       "      <th>20</th>\n",
       "      <td>13-11-2018 18:41</td>\n",
       "      <td>18.0</td>\n",
       "      <td>Website</td>\n",
       "      <td>Sales-Agent-10</td>\n",
       "      <td>NaN</td>\n",
       "      <td>Mode-5</td>\n",
       "      <td>Open</td>\n",
       "    </tr>\n",
       "    <tr>\n",
       "      <th>21</th>\n",
       "      <td>13-11-2018 18:25</td>\n",
       "      <td>18.0</td>\n",
       "      <td>Call</td>\n",
       "      <td>Sales-Agent-10</td>\n",
       "      <td>NaN</td>\n",
       "      <td>Mode-5</td>\n",
       "      <td>Open</td>\n",
       "    </tr>\n",
       "    <tr>\n",
       "      <th>22</th>\n",
       "      <td>13-11-2018 18:03</td>\n",
       "      <td>18.0</td>\n",
       "      <td>Website</td>\n",
       "      <td>Sales-Agent-10</td>\n",
       "      <td>NaN</td>\n",
       "      <td>Mode-5</td>\n",
       "      <td>Open</td>\n",
       "    </tr>\n",
       "    <tr>\n",
       "      <th>126</th>\n",
       "      <td>10-11-2018 22:34</td>\n",
       "      <td>18.0</td>\n",
       "      <td>Website</td>\n",
       "      <td>Sales-Agent-10</td>\n",
       "      <td>NaN</td>\n",
       "      <td>Mode-5</td>\n",
       "      <td>Open</td>\n",
       "    </tr>\n",
       "    <tr>\n",
       "      <th>127</th>\n",
       "      <td>10-11-2018 21:41</td>\n",
       "      <td>18.0</td>\n",
       "      <td>Website</td>\n",
       "      <td>Sales-Agent-10</td>\n",
       "      <td>NaN</td>\n",
       "      <td>Mode-5</td>\n",
       "      <td>Open</td>\n",
       "    </tr>\n",
       "    <tr>\n",
       "      <th>128</th>\n",
       "      <td>10-11-2018 20:40</td>\n",
       "      <td>18.0</td>\n",
       "      <td>Call</td>\n",
       "      <td>Sales-Agent-10</td>\n",
       "      <td>NaN</td>\n",
       "      <td>Mode-5</td>\n",
       "      <td>Open</td>\n",
       "    </tr>\n",
       "    <tr>\n",
       "      <th>129</th>\n",
       "      <td>10-11-2018 20:27</td>\n",
       "      <td>18.0</td>\n",
       "      <td>Website</td>\n",
       "      <td>Sales-Agent-10</td>\n",
       "      <td>NaN</td>\n",
       "      <td>Mode-5</td>\n",
       "      <td>Open</td>\n",
       "    </tr>\n",
       "    <tr>\n",
       "      <th>131</th>\n",
       "      <td>10-11-2018 20:25</td>\n",
       "      <td>18.0</td>\n",
       "      <td>Website</td>\n",
       "      <td>Sales-Agent-10</td>\n",
       "      <td>NaN</td>\n",
       "      <td>Mode-5</td>\n",
       "      <td>Open</td>\n",
       "    </tr>\n",
       "    <tr>\n",
       "      <th>132</th>\n",
       "      <td>10-11-2018 20:20</td>\n",
       "      <td>18.0</td>\n",
       "      <td>Website</td>\n",
       "      <td>Sales-Agent-10</td>\n",
       "      <td>NaN</td>\n",
       "      <td>Mode-5</td>\n",
       "      <td>Open</td>\n",
       "    </tr>\n",
       "    <tr>\n",
       "      <th>133</th>\n",
       "      <td>10-11-2018 20:19</td>\n",
       "      <td>18.0</td>\n",
       "      <td>Website</td>\n",
       "      <td>Sales-Agent-10</td>\n",
       "      <td>NaN</td>\n",
       "      <td>Mode-5</td>\n",
       "      <td>Open</td>\n",
       "    </tr>\n",
       "    <tr>\n",
       "      <th>134</th>\n",
       "      <td>10-11-2018 20:17</td>\n",
       "      <td>18.0</td>\n",
       "      <td>Website</td>\n",
       "      <td>Sales-Agent-10</td>\n",
       "      <td>NaN</td>\n",
       "      <td>Mode-5</td>\n",
       "      <td>Open</td>\n",
       "    </tr>\n",
       "    <tr>\n",
       "      <th>136</th>\n",
       "      <td>10-11-2018 19:39</td>\n",
       "      <td>18.0</td>\n",
       "      <td>Website</td>\n",
       "      <td>Sales-Agent-10</td>\n",
       "      <td>NaN</td>\n",
       "      <td>Mode-5</td>\n",
       "      <td>Open</td>\n",
       "    </tr>\n",
       "    <tr>\n",
       "      <th>137</th>\n",
       "      <td>10-11-2018 19:13</td>\n",
       "      <td>18.0</td>\n",
       "      <td>Website</td>\n",
       "      <td>Sales-Agent-10</td>\n",
       "      <td>NaN</td>\n",
       "      <td>Mode-5</td>\n",
       "      <td>Open</td>\n",
       "    </tr>\n",
       "    <tr>\n",
       "      <th>138</th>\n",
       "      <td>10-11-2018 18:00</td>\n",
       "      <td>18.0</td>\n",
       "      <td>Call</td>\n",
       "      <td>Sales-Agent-10</td>\n",
       "      <td>NaN</td>\n",
       "      <td>Mode-5</td>\n",
       "      <td>Open</td>\n",
       "    </tr>\n",
       "    <tr>\n",
       "      <th>2487</th>\n",
       "      <td>31-08-2018 22:31</td>\n",
       "      <td>18.0</td>\n",
       "      <td>Website</td>\n",
       "      <td>Sales-Agent-10</td>\n",
       "      <td>NaN</td>\n",
       "      <td>Mode-5</td>\n",
       "      <td>Open</td>\n",
       "    </tr>\n",
       "    <tr>\n",
       "      <th>2488</th>\n",
       "      <td>31-08-2018 21:26</td>\n",
       "      <td>18.0</td>\n",
       "      <td>Website</td>\n",
       "      <td>Sales-Agent-10</td>\n",
       "      <td>NaN</td>\n",
       "      <td>Mode-5</td>\n",
       "      <td>Open</td>\n",
       "    </tr>\n",
       "    <tr>\n",
       "      <th>2489</th>\n",
       "      <td>31-08-2018 20:34</td>\n",
       "      <td>18.0</td>\n",
       "      <td>Website</td>\n",
       "      <td>Sales-Agent-10</td>\n",
       "      <td>NaN</td>\n",
       "      <td>Mode-5</td>\n",
       "      <td>Open</td>\n",
       "    </tr>\n",
       "    <tr>\n",
       "      <th>2556</th>\n",
       "      <td>29-08-2018 19:41</td>\n",
       "      <td>18.0</td>\n",
       "      <td>Call</td>\n",
       "      <td>Sales-Agent-1</td>\n",
       "      <td>NaN</td>\n",
       "      <td>Mode-5</td>\n",
       "      <td>Open</td>\n",
       "    </tr>\n",
       "    <tr>\n",
       "      <th>2726</th>\n",
       "      <td>24-08-2018 15:20</td>\n",
       "      <td>18.0</td>\n",
       "      <td>Website</td>\n",
       "      <td>Sales-Agent-11</td>\n",
       "      <td>NaN</td>\n",
       "      <td>Mode-5</td>\n",
       "      <td>Just Enquiry</td>\n",
       "    </tr>\n",
       "    <tr>\n",
       "      <th>2727</th>\n",
       "      <td>24-08-2018 14:36</td>\n",
       "      <td>18.0</td>\n",
       "      <td>US Website</td>\n",
       "      <td>Sales-Agent-5</td>\n",
       "      <td>NaN</td>\n",
       "      <td>Mode-5</td>\n",
       "      <td>Not Responding</td>\n",
       "    </tr>\n",
       "    <tr>\n",
       "      <th>2729</th>\n",
       "      <td>24-08-2018 13:50</td>\n",
       "      <td>18.0</td>\n",
       "      <td>US Website</td>\n",
       "      <td>Sales-Agent-11</td>\n",
       "      <td>NaN</td>\n",
       "      <td>Mode-5</td>\n",
       "      <td>Just Enquiry</td>\n",
       "    </tr>\n",
       "    <tr>\n",
       "      <th>3051</th>\n",
       "      <td>15-08-2018 21:44</td>\n",
       "      <td>18.0</td>\n",
       "      <td>Call</td>\n",
       "      <td>Sales-Agent-1</td>\n",
       "      <td>NaN</td>\n",
       "      <td>Mode-5</td>\n",
       "      <td>Open</td>\n",
       "    </tr>\n",
       "    <tr>\n",
       "      <th>3053</th>\n",
       "      <td>15-08-2018 20:36</td>\n",
       "      <td>18.0</td>\n",
       "      <td>Website</td>\n",
       "      <td>Sales-Agent-10</td>\n",
       "      <td>NaN</td>\n",
       "      <td>Mode-5</td>\n",
       "      <td>Open</td>\n",
       "    </tr>\n",
       "    <tr>\n",
       "      <th>3061</th>\n",
       "      <td>14-08-2018 21:43</td>\n",
       "      <td>18.0</td>\n",
       "      <td>Website</td>\n",
       "      <td>Sales-Agent-10</td>\n",
       "      <td>NaN</td>\n",
       "      <td>Mode-5</td>\n",
       "      <td>Open</td>\n",
       "    </tr>\n",
       "    <tr>\n",
       "      <th>3130</th>\n",
       "      <td>13-08-2018 16:59</td>\n",
       "      <td>18.0</td>\n",
       "      <td>Website</td>\n",
       "      <td>Sales-Agent-10</td>\n",
       "      <td>NaN</td>\n",
       "      <td>Mode-5</td>\n",
       "      <td>Open</td>\n",
       "    </tr>\n",
       "    <tr>\n",
       "      <th>3250</th>\n",
       "      <td>09-08-2018 18:26</td>\n",
       "      <td>18.0</td>\n",
       "      <td>Website</td>\n",
       "      <td>Sales-Agent-10</td>\n",
       "      <td>NaN</td>\n",
       "      <td>Mode-5</td>\n",
       "      <td>Open</td>\n",
       "    </tr>\n",
       "    <tr>\n",
       "      <th>3373</th>\n",
       "      <td>07-08-2018 11:19</td>\n",
       "      <td>15.0</td>\n",
       "      <td>US Website</td>\n",
       "      <td>Sales-Agent-4</td>\n",
       "      <td>NaN</td>\n",
       "      <td>Mode-5</td>\n",
       "      <td>Not Responding</td>\n",
       "    </tr>\n",
       "    <tr>\n",
       "      <th>3384</th>\n",
       "      <td>06-08-2018 20:42</td>\n",
       "      <td>18.0</td>\n",
       "      <td>US Website</td>\n",
       "      <td>Sales-Agent-10</td>\n",
       "      <td>NaN</td>\n",
       "      <td>Mode-5</td>\n",
       "      <td>Open</td>\n",
       "    </tr>\n",
       "    <tr>\n",
       "      <th>3435</th>\n",
       "      <td>06-08-2018 00:39</td>\n",
       "      <td>18.0</td>\n",
       "      <td>US Website</td>\n",
       "      <td>Sales-Agent-5</td>\n",
       "      <td>NaN</td>\n",
       "      <td>Mode-5</td>\n",
       "      <td>Long Term</td>\n",
       "    </tr>\n",
       "    <tr>\n",
       "      <th>3740</th>\n",
       "      <td>28-07-2018 23:11</td>\n",
       "      <td>18.0</td>\n",
       "      <td>Website</td>\n",
       "      <td>Sales-Agent-10</td>\n",
       "      <td>NaN</td>\n",
       "      <td>Mode-5</td>\n",
       "      <td>Open</td>\n",
       "    </tr>\n",
       "    <tr>\n",
       "      <th>4461</th>\n",
       "      <td>09-07-2018 14:05</td>\n",
       "      <td>20.0</td>\n",
       "      <td>Live Chat-Direct</td>\n",
       "      <td>Sales-Agent-4</td>\n",
       "      <td>NaN</td>\n",
       "      <td>Mode-5</td>\n",
       "      <td>Not Responding</td>\n",
       "    </tr>\n",
       "    <tr>\n",
       "      <th>4979</th>\n",
       "      <td>25-06-2018 16:31</td>\n",
       "      <td>18.0</td>\n",
       "      <td>Call</td>\n",
       "      <td>Sales-Agent-1</td>\n",
       "      <td>NaN</td>\n",
       "      <td>Mode-5</td>\n",
       "      <td>Open</td>\n",
       "    </tr>\n",
       "    <tr>\n",
       "      <th>5235</th>\n",
       "      <td>19-06-2018 23:41</td>\n",
       "      <td>18.0</td>\n",
       "      <td>Website</td>\n",
       "      <td>Sales-Agent-10</td>\n",
       "      <td>NaN</td>\n",
       "      <td>Mode-5</td>\n",
       "      <td>Open</td>\n",
       "    </tr>\n",
       "    <tr>\n",
       "      <th>5258</th>\n",
       "      <td>19-06-2018 17:12</td>\n",
       "      <td>18.0</td>\n",
       "      <td>Call</td>\n",
       "      <td>Sales-Agent-1</td>\n",
       "      <td>NaN</td>\n",
       "      <td>Mode-5</td>\n",
       "      <td>Open</td>\n",
       "    </tr>\n",
       "    <tr>\n",
       "      <th>5549</th>\n",
       "      <td>12-06-2018 21:00</td>\n",
       "      <td>18.0</td>\n",
       "      <td>Call</td>\n",
       "      <td>Sales-Agent-10</td>\n",
       "      <td>NaN</td>\n",
       "      <td>Mode-5</td>\n",
       "      <td>Open</td>\n",
       "    </tr>\n",
       "    <tr>\n",
       "      <th>5917</th>\n",
       "      <td>04-06-2018 22:32</td>\n",
       "      <td>15.0</td>\n",
       "      <td>Website</td>\n",
       "      <td>Sales-Agent-4</td>\n",
       "      <td>NaN</td>\n",
       "      <td>Mode-1</td>\n",
       "      <td>Not Responding</td>\n",
       "    </tr>\n",
       "    <tr>\n",
       "      <th>7001</th>\n",
       "      <td>08-05-2018 12:05</td>\n",
       "      <td>15.0</td>\n",
       "      <td>US Website</td>\n",
       "      <td>Sales-Agent-11</td>\n",
       "      <td>NaN</td>\n",
       "      <td>Mode-1</td>\n",
       "      <td>Just Enquiry</td>\n",
       "    </tr>\n",
       "    <tr>\n",
       "      <th>7301</th>\n",
       "      <td>01-05-2018 11:05</td>\n",
       "      <td>15.0</td>\n",
       "      <td>US Website</td>\n",
       "      <td>Sales-Agent-3</td>\n",
       "      <td>NaN</td>\n",
       "      <td>Mode-1</td>\n",
       "      <td>Junk Lead</td>\n",
       "    </tr>\n",
       "  </tbody>\n",
       "</table>\n",
       "</div>"
      ],
      "text/plain": [
       "               Created  Product_ID            Source     Sales_Agent Location  \\\n",
       "0     14-11-2018 10:05        18.0           Website  Sales-Agent-11      NaN   \n",
       "1     14-11-2018 09:22        18.0           Website  Sales-Agent-10      NaN   \n",
       "2     14-11-2018 09:21        18.0           Website  Sales-Agent-10      NaN   \n",
       "3     14-11-2018 08:46        18.0           Website  Sales-Agent-10      NaN   \n",
       "4     14-11-2018 07:34        18.0           Website  Sales-Agent-10      NaN   \n",
       "5     14-11-2018 07:33        18.0           Website  Sales-Agent-10      NaN   \n",
       "6     14-11-2018 05:58        18.0           Website  Sales-Agent-10      NaN   \n",
       "7     14-11-2018 05:49        18.0           Website  Sales-Agent-10      NaN   \n",
       "8     14-11-2018 05:40        18.0           Website  Sales-Agent-10      NaN   \n",
       "9     14-11-2018 05:06        18.0           Website  Sales-Agent-10      NaN   \n",
       "10    14-11-2018 05:03        18.0           Website  Sales-Agent-10      NaN   \n",
       "11    14-11-2018 04:52        18.0           Website  Sales-Agent-10      NaN   \n",
       "12    14-11-2018 02:37        18.0           Website  Sales-Agent-10      NaN   \n",
       "13    13-11-2018 23:40        18.0              Call  Sales-Agent-10      NaN   \n",
       "14    13-11-2018 21:14        18.0           Website  Sales-Agent-10      NaN   \n",
       "15    13-11-2018 20:45        18.0              Call  Sales-Agent-10      NaN   \n",
       "16    13-11-2018 20:15        18.0           Website  Sales-Agent-10      NaN   \n",
       "17    13-11-2018 20:14        18.0           Website  Sales-Agent-10      NaN   \n",
       "20    13-11-2018 18:41        18.0           Website  Sales-Agent-10      NaN   \n",
       "21    13-11-2018 18:25        18.0              Call  Sales-Agent-10      NaN   \n",
       "22    13-11-2018 18:03        18.0           Website  Sales-Agent-10      NaN   \n",
       "126   10-11-2018 22:34        18.0           Website  Sales-Agent-10      NaN   \n",
       "127   10-11-2018 21:41        18.0           Website  Sales-Agent-10      NaN   \n",
       "128   10-11-2018 20:40        18.0              Call  Sales-Agent-10      NaN   \n",
       "129   10-11-2018 20:27        18.0           Website  Sales-Agent-10      NaN   \n",
       "131   10-11-2018 20:25        18.0           Website  Sales-Agent-10      NaN   \n",
       "132   10-11-2018 20:20        18.0           Website  Sales-Agent-10      NaN   \n",
       "133   10-11-2018 20:19        18.0           Website  Sales-Agent-10      NaN   \n",
       "134   10-11-2018 20:17        18.0           Website  Sales-Agent-10      NaN   \n",
       "136   10-11-2018 19:39        18.0           Website  Sales-Agent-10      NaN   \n",
       "137   10-11-2018 19:13        18.0           Website  Sales-Agent-10      NaN   \n",
       "138   10-11-2018 18:00        18.0              Call  Sales-Agent-10      NaN   \n",
       "2487  31-08-2018 22:31        18.0           Website  Sales-Agent-10      NaN   \n",
       "2488  31-08-2018 21:26        18.0           Website  Sales-Agent-10      NaN   \n",
       "2489  31-08-2018 20:34        18.0           Website  Sales-Agent-10      NaN   \n",
       "2556  29-08-2018 19:41        18.0              Call   Sales-Agent-1      NaN   \n",
       "2726  24-08-2018 15:20        18.0           Website  Sales-Agent-11      NaN   \n",
       "2727  24-08-2018 14:36        18.0        US Website   Sales-Agent-5      NaN   \n",
       "2729  24-08-2018 13:50        18.0        US Website  Sales-Agent-11      NaN   \n",
       "3051  15-08-2018 21:44        18.0              Call   Sales-Agent-1      NaN   \n",
       "3053  15-08-2018 20:36        18.0           Website  Sales-Agent-10      NaN   \n",
       "3061  14-08-2018 21:43        18.0           Website  Sales-Agent-10      NaN   \n",
       "3130  13-08-2018 16:59        18.0           Website  Sales-Agent-10      NaN   \n",
       "3250  09-08-2018 18:26        18.0           Website  Sales-Agent-10      NaN   \n",
       "3373  07-08-2018 11:19        15.0        US Website   Sales-Agent-4      NaN   \n",
       "3384  06-08-2018 20:42        18.0        US Website  Sales-Agent-10      NaN   \n",
       "3435  06-08-2018 00:39        18.0        US Website   Sales-Agent-5      NaN   \n",
       "3740  28-07-2018 23:11        18.0           Website  Sales-Agent-10      NaN   \n",
       "4461  09-07-2018 14:05        20.0  Live Chat-Direct   Sales-Agent-4      NaN   \n",
       "4979  25-06-2018 16:31        18.0              Call   Sales-Agent-1      NaN   \n",
       "5235  19-06-2018 23:41        18.0           Website  Sales-Agent-10      NaN   \n",
       "5258  19-06-2018 17:12        18.0              Call   Sales-Agent-1      NaN   \n",
       "5549  12-06-2018 21:00        18.0              Call  Sales-Agent-10      NaN   \n",
       "5917  04-06-2018 22:32        15.0           Website   Sales-Agent-4      NaN   \n",
       "7001  08-05-2018 12:05        15.0        US Website  Sales-Agent-11      NaN   \n",
       "7301  01-05-2018 11:05        15.0        US Website   Sales-Agent-3      NaN   \n",
       "\n",
       "     Delivery_Mode          Status  \n",
       "0           Mode-5            Open  \n",
       "1           Mode-5            Open  \n",
       "2           Mode-5            Open  \n",
       "3           Mode-5            Open  \n",
       "4           Mode-5            Open  \n",
       "5           Mode-5            Open  \n",
       "6           Mode-5            Open  \n",
       "7           Mode-5            Open  \n",
       "8           Mode-5            Open  \n",
       "9           Mode-5            Open  \n",
       "10          Mode-5            Open  \n",
       "11          Mode-5            Open  \n",
       "12          Mode-5            Open  \n",
       "13          Mode-5            Open  \n",
       "14          Mode-5            Open  \n",
       "15          Mode-5            Open  \n",
       "16          Mode-5            Open  \n",
       "17          Mode-5            Open  \n",
       "20          Mode-5            Open  \n",
       "21          Mode-5            Open  \n",
       "22          Mode-5            Open  \n",
       "126         Mode-5            Open  \n",
       "127         Mode-5            Open  \n",
       "128         Mode-5            Open  \n",
       "129         Mode-5            Open  \n",
       "131         Mode-5            Open  \n",
       "132         Mode-5            Open  \n",
       "133         Mode-5            Open  \n",
       "134         Mode-5            Open  \n",
       "136         Mode-5            Open  \n",
       "137         Mode-5            Open  \n",
       "138         Mode-5            Open  \n",
       "2487        Mode-5            Open  \n",
       "2488        Mode-5            Open  \n",
       "2489        Mode-5            Open  \n",
       "2556        Mode-5            Open  \n",
       "2726        Mode-5    Just Enquiry  \n",
       "2727        Mode-5  Not Responding  \n",
       "2729        Mode-5    Just Enquiry  \n",
       "3051        Mode-5            Open  \n",
       "3053        Mode-5            Open  \n",
       "3061        Mode-5            Open  \n",
       "3130        Mode-5            Open  \n",
       "3250        Mode-5            Open  \n",
       "3373        Mode-5  Not Responding  \n",
       "3384        Mode-5            Open  \n",
       "3435        Mode-5       Long Term  \n",
       "3740        Mode-5            Open  \n",
       "4461        Mode-5  Not Responding  \n",
       "4979        Mode-5            Open  \n",
       "5235        Mode-5            Open  \n",
       "5258        Mode-5            Open  \n",
       "5549        Mode-5            Open  \n",
       "5917        Mode-1  Not Responding  \n",
       "7001        Mode-1    Just Enquiry  \n",
       "7301        Mode-1       Junk Lead  "
      ]
     },
     "execution_count": 35,
     "metadata": {},
     "output_type": "execute_result"
    }
   ],
   "source": [
    "df.loc[df['Location'].isnull() == True]"
   ]
  },
  {
   "cell_type": "markdown",
   "id": "e0fbe90c-6c61-4f70-a7bc-19571cfffbba",
   "metadata": {},
   "source": [
    "## ***Location preprocess***"
   ]
  },
  {
   "cell_type": "code",
   "execution_count": 36,
   "id": "66f5c26a-ea93-4c55-ab87-c1bac19dff87",
   "metadata": {},
   "outputs": [
    {
     "data": {
      "text/plain": [
       "0    Other Locations\n",
       "Name: Location, dtype: object"
      ]
     },
     "execution_count": 36,
     "metadata": {},
     "output_type": "execute_result"
    }
   ],
   "source": [
    "df.Location.mode()"
   ]
  },
  {
   "cell_type": "code",
   "execution_count": 37,
   "id": "756add2d-7b65-40c7-b225-a764b12d49be",
   "metadata": {},
   "outputs": [],
   "source": [
    "df.loc[df['Location'].isnull() == True,'Location'] = 'Other Locations'"
   ]
  },
  {
   "cell_type": "code",
   "execution_count": 38,
   "id": "73809b72-3d80-40a2-b9a7-0c56028d33d6",
   "metadata": {},
   "outputs": [
    {
     "data": {
      "text/html": [
       "<div>\n",
       "<style scoped>\n",
       "    .dataframe tbody tr th:only-of-type {\n",
       "        vertical-align: middle;\n",
       "    }\n",
       "\n",
       "    .dataframe tbody tr th {\n",
       "        vertical-align: top;\n",
       "    }\n",
       "\n",
       "    .dataframe thead th {\n",
       "        text-align: right;\n",
       "    }\n",
       "</style>\n",
       "<table border=\"1\" class=\"dataframe\">\n",
       "  <thead>\n",
       "    <tr style=\"text-align: right;\">\n",
       "      <th></th>\n",
       "      <th>Created</th>\n",
       "      <th>Product_ID</th>\n",
       "      <th>Source</th>\n",
       "      <th>Sales_Agent</th>\n",
       "      <th>Location</th>\n",
       "      <th>Delivery_Mode</th>\n",
       "      <th>Status</th>\n",
       "    </tr>\n",
       "  </thead>\n",
       "  <tbody>\n",
       "    <tr>\n",
       "      <th>0</th>\n",
       "      <td>14-11-2018 10:05</td>\n",
       "      <td>18.0</td>\n",
       "      <td>Website</td>\n",
       "      <td>Sales-Agent-11</td>\n",
       "      <td>Other Locations</td>\n",
       "      <td>Mode-5</td>\n",
       "      <td>Open</td>\n",
       "    </tr>\n",
       "    <tr>\n",
       "      <th>1</th>\n",
       "      <td>14-11-2018 09:22</td>\n",
       "      <td>18.0</td>\n",
       "      <td>Website</td>\n",
       "      <td>Sales-Agent-10</td>\n",
       "      <td>Other Locations</td>\n",
       "      <td>Mode-5</td>\n",
       "      <td>Open</td>\n",
       "    </tr>\n",
       "    <tr>\n",
       "      <th>2</th>\n",
       "      <td>14-11-2018 09:21</td>\n",
       "      <td>18.0</td>\n",
       "      <td>Website</td>\n",
       "      <td>Sales-Agent-10</td>\n",
       "      <td>Other Locations</td>\n",
       "      <td>Mode-5</td>\n",
       "      <td>Open</td>\n",
       "    </tr>\n",
       "    <tr>\n",
       "      <th>3</th>\n",
       "      <td>14-11-2018 08:46</td>\n",
       "      <td>18.0</td>\n",
       "      <td>Website</td>\n",
       "      <td>Sales-Agent-10</td>\n",
       "      <td>Other Locations</td>\n",
       "      <td>Mode-5</td>\n",
       "      <td>Open</td>\n",
       "    </tr>\n",
       "  </tbody>\n",
       "</table>\n",
       "</div>"
      ],
      "text/plain": [
       "            Created  Product_ID   Source     Sales_Agent         Location  \\\n",
       "0  14-11-2018 10:05        18.0  Website  Sales-Agent-11  Other Locations   \n",
       "1  14-11-2018 09:22        18.0  Website  Sales-Agent-10  Other Locations   \n",
       "2  14-11-2018 09:21        18.0  Website  Sales-Agent-10  Other Locations   \n",
       "3  14-11-2018 08:46        18.0  Website  Sales-Agent-10  Other Locations   \n",
       "\n",
       "  Delivery_Mode Status  \n",
       "0        Mode-5   Open  \n",
       "1        Mode-5   Open  \n",
       "2        Mode-5   Open  \n",
       "3        Mode-5   Open  "
      ]
     },
     "execution_count": 38,
     "metadata": {},
     "output_type": "execute_result"
    }
   ],
   "source": [
    "df.head(4)"
   ]
  },
  {
   "cell_type": "code",
   "execution_count": 39,
   "id": "bfa9cb5b-1cc7-47ec-b03a-b46aa9e0cb0e",
   "metadata": {},
   "outputs": [
    {
     "data": {
      "text/plain": [
       "Created          0\n",
       "Product_ID       0\n",
       "Source           0\n",
       "Sales_Agent      0\n",
       "Location         0\n",
       "Delivery_Mode    0\n",
       "Status           0\n",
       "dtype: int64"
      ]
     },
     "execution_count": 39,
     "metadata": {},
     "output_type": "execute_result"
    }
   ],
   "source": [
    "df.isnull().sum()"
   ]
  },
  {
   "cell_type": "markdown",
   "id": "9c9532aa-58b9-4094-aa31-f0de6996fb5c",
   "metadata": {},
   "source": [
    "# **Status combine into positive and negative response**"
   ]
  },
  {
   "cell_type": "code",
   "execution_count": 40,
   "id": "3ee02f9c-a0f5-4fd9-a835-db011e7220b0",
   "metadata": {},
   "outputs": [
    {
     "data": {
      "text/plain": [
       "Junk Lead               1529\n",
       "Not Responding          1128\n",
       "CONVERTED                833\n",
       "Just Enquiry             760\n",
       "Potential                708\n",
       "Long Term                646\n",
       "In Progress Positive     643\n",
       "In Progress Negative     626\n",
       "LOST                     440\n",
       "Open                      80\n",
       "converted                 18\n",
       "Name: Status, dtype: int64"
      ]
     },
     "execution_count": 40,
     "metadata": {},
     "output_type": "execute_result"
    }
   ],
   "source": [
    "df.Status.value_counts()"
   ]
  },
  {
   "cell_type": "code",
   "execution_count": 41,
   "id": "f69580d0-2aea-4b96-9fab-4e3f00023900",
   "metadata": {},
   "outputs": [],
   "source": [
    "# Combine Status column into form Postive and Negative\n",
    "df.Status.replace(['Junk Lead', 'Not Responding', 'Just Enquiry', 'LOST','In Progress Negative'] ,'Low_potential',inplace = True)\n",
    "df.Status.replace(['CONVERTED', 'Potential', 'Long Term', 'In Progress Positive', 'Open', 'converted'], 'High_potential', inplace = True)  "
   ]
  },
  {
   "cell_type": "code",
   "execution_count": 42,
   "id": "f88058e1-d269-4e6c-af7d-98560208ab97",
   "metadata": {},
   "outputs": [
    {
     "data": {
      "text/html": [
       "<div>\n",
       "<style scoped>\n",
       "    .dataframe tbody tr th:only-of-type {\n",
       "        vertical-align: middle;\n",
       "    }\n",
       "\n",
       "    .dataframe tbody tr th {\n",
       "        vertical-align: top;\n",
       "    }\n",
       "\n",
       "    .dataframe thead th {\n",
       "        text-align: right;\n",
       "    }\n",
       "</style>\n",
       "<table border=\"1\" class=\"dataframe\">\n",
       "  <thead>\n",
       "    <tr style=\"text-align: right;\">\n",
       "      <th></th>\n",
       "      <th>Created</th>\n",
       "      <th>Product_ID</th>\n",
       "      <th>Source</th>\n",
       "      <th>Sales_Agent</th>\n",
       "      <th>Location</th>\n",
       "      <th>Delivery_Mode</th>\n",
       "      <th>Status</th>\n",
       "    </tr>\n",
       "  </thead>\n",
       "  <tbody>\n",
       "    <tr>\n",
       "      <th>0</th>\n",
       "      <td>14-11-2018 10:05</td>\n",
       "      <td>18.0</td>\n",
       "      <td>Website</td>\n",
       "      <td>Sales-Agent-11</td>\n",
       "      <td>Other Locations</td>\n",
       "      <td>Mode-5</td>\n",
       "      <td>High_potential</td>\n",
       "    </tr>\n",
       "    <tr>\n",
       "      <th>1</th>\n",
       "      <td>14-11-2018 09:22</td>\n",
       "      <td>18.0</td>\n",
       "      <td>Website</td>\n",
       "      <td>Sales-Agent-10</td>\n",
       "      <td>Other Locations</td>\n",
       "      <td>Mode-5</td>\n",
       "      <td>High_potential</td>\n",
       "    </tr>\n",
       "    <tr>\n",
       "      <th>2</th>\n",
       "      <td>14-11-2018 09:21</td>\n",
       "      <td>18.0</td>\n",
       "      <td>Website</td>\n",
       "      <td>Sales-Agent-10</td>\n",
       "      <td>Other Locations</td>\n",
       "      <td>Mode-5</td>\n",
       "      <td>High_potential</td>\n",
       "    </tr>\n",
       "    <tr>\n",
       "      <th>3</th>\n",
       "      <td>14-11-2018 08:46</td>\n",
       "      <td>18.0</td>\n",
       "      <td>Website</td>\n",
       "      <td>Sales-Agent-10</td>\n",
       "      <td>Other Locations</td>\n",
       "      <td>Mode-5</td>\n",
       "      <td>High_potential</td>\n",
       "    </tr>\n",
       "  </tbody>\n",
       "</table>\n",
       "</div>"
      ],
      "text/plain": [
       "            Created  Product_ID   Source     Sales_Agent         Location  \\\n",
       "0  14-11-2018 10:05        18.0  Website  Sales-Agent-11  Other Locations   \n",
       "1  14-11-2018 09:22        18.0  Website  Sales-Agent-10  Other Locations   \n",
       "2  14-11-2018 09:21        18.0  Website  Sales-Agent-10  Other Locations   \n",
       "3  14-11-2018 08:46        18.0  Website  Sales-Agent-10  Other Locations   \n",
       "\n",
       "  Delivery_Mode          Status  \n",
       "0        Mode-5  High_potential  \n",
       "1        Mode-5  High_potential  \n",
       "2        Mode-5  High_potential  \n",
       "3        Mode-5  High_potential  "
      ]
     },
     "execution_count": 42,
     "metadata": {},
     "output_type": "execute_result"
    }
   ],
   "source": [
    "df.head(4)"
   ]
  },
  {
   "cell_type": "code",
   "execution_count": 43,
   "id": "ce85c8cc-03f1-4337-99ee-c4ca7f19f513",
   "metadata": {},
   "outputs": [
    {
     "data": {
      "text/plain": [
       "Low_potential     4483\n",
       "High_potential    2928\n",
       "Name: Status, dtype: int64"
      ]
     },
     "execution_count": 43,
     "metadata": {},
     "output_type": "execute_result"
    }
   ],
   "source": [
    "df.Status.value_counts()"
   ]
  },
  {
   "cell_type": "markdown",
   "id": "7aae3d80-350b-4992-a66e-4213ad2712b6",
   "metadata": {},
   "source": [
    "#### Postive process is marked as high potential and negative will be marked as low potential"
   ]
  },
  {
   "cell_type": "markdown",
   "id": "4ab1457f-4dde-416c-babe-1fea1091d05e",
   "metadata": {},
   "source": [
    "# Product and Target"
   ]
  },
  {
   "cell_type": "code",
   "execution_count": 44,
   "id": "3f9e5fed-e152-471c-bf58-6c226267d426",
   "metadata": {},
   "outputs": [
    {
     "data": {
      "image/png": "[encoded data removed]",
      "text/plain": [
       "<Figure size 640x480 with 1 Axes>"
      ]
     },
     "metadata": {},
     "output_type": "display_data"
    }
   ],
   "source": [
    "sns.histplot(x = 'Product_ID',data = df,hue = 'Status')\n",
    "plt.show()"
   ]
  },
  {
   "cell_type": "markdown",
   "id": "1f8ea734-75e8-4f0d-b647-238cd4ab8a11",
   "metadata": {},
   "source": [
    "# Insights\n",
    "- The product 15 you can be avioded and increase 18 to 20 product ID\n",
    "- You used 15th product more but its response negative\r",
    "- \tYou can increase the 18th to 20th product more because it giving positive response.- •\tAnd you can avoid 15th ,5th, and 1st products. \r\n"
   ]
  },
  {
   "cell_type": "markdown",
   "id": "29f24a19-1d4e-4051-b2d4-f81eab5e446a",
   "metadata": {},
   "source": [
    "# Source"
   ]
  },
  {
   "cell_type": "code",
   "execution_count": 45,
   "id": "e2ac657a-30b2-4d16-8884-39d657852f20",
   "metadata": {},
   "outputs": [
    {
     "data": {
      "image/png": "[encoded data removed]",
      "text/plain": [
       "<Figure size 700x600 with 1 Axes>"
      ]
     },
     "metadata": {},
     "output_type": "display_data"
    }
   ],
   "source": [
    "#same way use in Source column\n",
    "plt.figure(figsize = (7,6))\n",
    "sns.countplot(x = 'Source',data = df,hue = 'Status')\n",
    "plt.xticks(fontsize = 8,rotation = 90)\n",
    "plt.show()"
   ]
  },
  {
   "cell_type": "markdown",
   "id": "aa3f7ee5-1921-4420-88e3-bbd79edf52b5",
   "metadata": {},
   "source": [
    "# Insights\n",
    "- you used call source more but it giving half positive response\n",
    "- And live chat is good response\n",
    "- And you can improve customer referral source, because it giving more positive response for small amount of data\n",
    "- And same way you can improve the Existing Client also.o.\r\n"
   ]
  },
  {
   "cell_type": "markdown",
   "id": "4f35d1ca-d645-40e0-8ba4-68fa8f8c0958",
   "metadata": {},
   "source": [
    "# **Live chat**"
   ]
  },
  {
   "cell_type": "code",
   "execution_count": 46,
   "id": "12070033-0f3c-4d4b-9ed0-81ec8e75d98c",
   "metadata": {},
   "outputs": [],
   "source": [
    "#create new data column for Source\n",
    "df.Source.replace(['Live Chat-Direct', 'Live Chat-Google Organic', 'Live Chat -PPC','Live Chat-Blog', 'Live Chat-CPC', 'Live Chat-Google Ads',\n",
    "                   'Live Chat-Adwords Remarketing', 'Live Chat-Quora','Live Chat-Youtube','Live Chat-Justdial'],'Live_chat',inplace = True)"
   ]
  },
  {
   "cell_type": "code",
   "execution_count": 47,
   "id": "19452fdc-1294-4edf-8662-c7c364276d12",
   "metadata": {},
   "outputs": [],
   "source": [
    "df.Source.replace(['Campaign', 'E-mail Campaign', 'SMS Campaign'],'Campaign',inplace = True)"
   ]
  },
  {
   "cell_type": "code",
   "execution_count": 48,
   "id": "afb71ab8-8dc3-4ff2-90dc-c03565f843c4",
   "metadata": {},
   "outputs": [],
   "source": [
    "df.Source.replace(['Website', 'US Website'],'Website',inplace = True)"
   ]
  },
  {
   "cell_type": "code",
   "execution_count": 49,
   "id": "32ffd983-13da-465e-8a32-25fff0be75bf",
   "metadata": {},
   "outputs": [],
   "source": [
    "df.Source.replace(['Personal Contact', 'E-Mail Message','Other'],'Personal_Contact',inplace = True)"
   ]
  },
  {
   "cell_type": "code",
   "execution_count": 50,
   "id": "f737a4fd-ce4d-43b4-8a1b-ff53e31b5aae",
   "metadata": {},
   "outputs": [
    {
     "data": {
      "text/plain": [
       "Live_chat            2677\n",
       "Call                 2556\n",
       "Website              1729\n",
       "Customer Referral     179\n",
       "Just Dial              56\n",
       "Personal_Contact       53\n",
       "Existing Client        51\n",
       "Campaign               33\n",
       "By Recommendation      32\n",
       "CRM form               23\n",
       "Existing Customer      22\n",
       "Name: Source, dtype: int64"
      ]
     },
     "execution_count": 50,
     "metadata": {},
     "output_type": "execute_result"
    }
   ],
   "source": [
    "df.Source.value_counts()"
   ]
  },
  {
   "cell_type": "markdown",
   "id": "7fa441db-0262-4426-8602-4750959ee85f",
   "metadata": {},
   "source": [
    "## After sort it Source."
   ]
  },
  {
   "cell_type": "code",
   "execution_count": 51,
   "id": "e68adec0-3639-4ec6-83f0-ec13181fb034",
   "metadata": {},
   "outputs": [
    {
     "data": {
      "image/png": "[encoded data removed]",
      "text/plain": [
       "<Figure size 700x600 with 1 Axes>"
      ]
     },
     "metadata": {},
     "output_type": "display_data"
    }
   ],
   "source": [
    "plt.figure(figsize = (7,6))\n",
    "sns.countplot(x = 'Source',data = df,hue = 'Status')\n",
    "plt.xticks(fontsize = 8,rotation = 90)\n",
    "plt.show()"
   ]
  },
  {
   "cell_type": "markdown",
   "id": "37a95a69-a0e8-4ef6-8eda-c9ab328b9011",
   "metadata": {},
   "source": [
    "# Location"
   ]
  },
  {
   "cell_type": "code",
   "execution_count": 52,
   "id": "6c0777b8-121a-4681-9ab5-f3bd6f6eb70f",
   "metadata": {},
   "outputs": [
    {
     "data": {
      "image/png": "[encoded data removed]",
      "text/plain": [
       "<Figure size 700x600 with 1 Axes>"
      ]
     },
     "metadata": {},
     "output_type": "display_data"
    }
   ],
   "source": [
    "plt.figure(figsize = (7,6))\n",
    "sns.countplot(x = 'Location',data = df,hue = 'Status')\n",
    "plt.xticks(fontsize = 8,rotation = 90)\n",
    "plt.show()"
   ]
  },
  {
   "cell_type": "markdown",
   "id": "a80805a8-52d6-4187-852c-f01c43cf2eca",
   "metadata": {},
   "source": [
    "# Insights\n",
    "- In Location you used to much of other location but no use, it giving negative response\n",
    "- you can increase the inside India location, particularly in Bangalore and Chennai\n",
    "- you can increase the countries location\n",
    "- you can decrease the other locations.\r\n"
   ]
  },
  {
   "cell_type": "markdown",
   "id": "33900570-59a8-495a-bbe8-6d560695a74a",
   "metadata": {},
   "source": [
    "# **location new column**"
   ]
  },
  {
   "cell_type": "code",
   "execution_count": 53,
   "id": "0762fd9f-71b7-4cf5-8c7a-f82a32fa911b",
   "metadata": {},
   "outputs": [
    {
     "data": {
      "text/plain": [
       "Other Locations    2548\n",
       "Bangalore          2083\n",
       "Chennai             909\n",
       "Hyderabad           528\n",
       "Delhi               471\n",
       "Mumbai              402\n",
       "Pune                142\n",
       "UAE                  79\n",
       "Trivandrum           58\n",
       "Kolkata              55\n",
       "USA                  45\n",
       "UK                   41\n",
       "AUSTRALIA            25\n",
       "Singapore            17\n",
       "Malaysia              4\n",
       "EUROPE                3\n",
       "Howrah                1\n",
       "Name: Location, dtype: int64"
      ]
     },
     "execution_count": 53,
     "metadata": {},
     "output_type": "execute_result"
    }
   ],
   "source": [
    "df.Location.value_counts()"
   ]
  },
  {
   "cell_type": "code",
   "execution_count": 54,
   "id": "5e75ca92-b290-4f12-a0d0-56cc375aae47",
   "metadata": {},
   "outputs": [],
   "source": [
    "df.Location.replace(['USA', 'UK', 'AUSTRALIA','UAE'], 'Countries',inplace = True)"
   ]
  },
  {
   "cell_type": "code",
   "execution_count": 55,
   "id": "b8eec097-6773-4014-89ac-51be6a0591fc",
   "metadata": {},
   "outputs": [],
   "source": [
    "df.Location.replace(['Other Locations','Howrah'],'Other_location',inplace = True)"
   ]
  },
  {
   "cell_type": "code",
   "execution_count": 56,
   "id": "b61722f5-fd87-41e9-a0c0-d6c8a855da18",
   "metadata": {},
   "outputs": [],
   "source": [
    "df.Location.replace(['Singapore','Malaysia','EUROPE'],'Asian_Countries',inplace = True)\n",
    "df.Location.replace(['Bangalore', 'Chennai', 'Hyderabad', 'Delhi', 'Mumbai', 'Pune','Trivandrum','Kolkata'],'In_India',inplace = True)"
   ]
  },
  {
   "cell_type": "code",
   "execution_count": 57,
   "id": "3c5795f8-f1b1-4181-b7f3-75ec86521973",
   "metadata": {},
   "outputs": [
    {
     "data": {
      "text/plain": [
       "In_India           4648\n",
       "Other_location     2549\n",
       "Countries           190\n",
       "Asian_Countries      24\n",
       "Name: Location, dtype: int64"
      ]
     },
     "execution_count": 57,
     "metadata": {},
     "output_type": "execute_result"
    }
   ],
   "source": [
    "df.Location.value_counts()"
   ]
  },
  {
   "cell_type": "markdown",
   "id": "ed6521c0-9d43-439d-be67-d31733805fdb",
   "metadata": {},
   "source": [
    "## After sort it Location."
   ]
  },
  {
   "cell_type": "code",
   "execution_count": 58,
   "id": "0049221f-1e6c-4108-aabf-43d4ccbd8e0f",
   "metadata": {},
   "outputs": [
    {
     "data": {
      "image/png": "[encoded data removed]",
      "text/plain": [
       "<Figure size 700x600 with 1 Axes>"
      ]
     },
     "metadata": {},
     "output_type": "display_data"
    }
   ],
   "source": [
    "plt.figure(figsize = (7,6))\n",
    "sns.countplot(x = 'Location',data = df,hue = 'Status')\n",
    "plt.xticks(fontsize = 8,rotation = 90)\n",
    "plt.show()"
   ]
  },
  {
   "cell_type": "markdown",
   "id": "17823da1-75f3-47f0-a9f1-942935e422d0",
   "metadata": {},
   "source": [
    "# Insights\n",
    "- Indian Location is best.\n",
    "- High potential and low potential is same,in future you increase indian location. "
   ]
  },
  {
   "cell_type": "markdown",
   "id": "0d92acaf-7187-46af-94bc-09911614d21f",
   "metadata": {},
   "source": [
    "# Source*Location"
   ]
  },
  {
   "cell_type": "code",
   "execution_count": 59,
   "id": "fba0a366-bd89-4a75-98a0-31999dc63a20",
   "metadata": {},
   "outputs": [
    {
     "data": {
      "image/png": "[encoded data removed]",
      "text/plain": [
       "<Figure size 640x480 with 1 Axes>"
      ]
     },
     "metadata": {},
     "output_type": "display_data"
    }
   ],
   "source": [
    "sns.countplot(x = 'Source',data = df ,hue = 'Location')\n",
    "plt.xticks(rotation = 90)\n",
    "plt.show()"
   ]
  },
  {
   "cell_type": "code",
   "execution_count": 60,
   "id": "c197c223-3867-4cc1-8299-fe01c0f704b0",
   "metadata": {},
   "outputs": [
    {
     "data": {
      "text/plain": [
       "array(['Other_location', 'In_India', 'Countries', 'Asian_Countries'],\n",
       "      dtype=object)"
      ]
     },
     "execution_count": 60,
     "metadata": {},
     "output_type": "execute_result"
    }
   ],
   "source": [
    "df.Location.unique()"
   ]
  },
  {
   "cell_type": "code",
   "execution_count": 61,
   "id": "475e6117-cc4a-4606-8024-4e46f368189e",
   "metadata": {},
   "outputs": [
    {
     "data": {
      "text/html": [
       "<div>\n",
       "<style scoped>\n",
       "    .dataframe tbody tr th:only-of-type {\n",
       "        vertical-align: middle;\n",
       "    }\n",
       "\n",
       "    .dataframe tbody tr th {\n",
       "        vertical-align: top;\n",
       "    }\n",
       "\n",
       "    .dataframe thead th {\n",
       "        text-align: right;\n",
       "    }\n",
       "</style>\n",
       "<table border=\"1\" class=\"dataframe\">\n",
       "  <thead>\n",
       "    <tr style=\"text-align: right;\">\n",
       "      <th></th>\n",
       "      <th>Created</th>\n",
       "      <th>Product_ID</th>\n",
       "      <th>Source</th>\n",
       "      <th>Sales_Agent</th>\n",
       "      <th>Location</th>\n",
       "      <th>Delivery_Mode</th>\n",
       "      <th>Status</th>\n",
       "    </tr>\n",
       "  </thead>\n",
       "  <tbody>\n",
       "    <tr>\n",
       "      <th>0</th>\n",
       "      <td>14-11-2018 10:05</td>\n",
       "      <td>18.0</td>\n",
       "      <td>Website</td>\n",
       "      <td>Sales-Agent-11</td>\n",
       "      <td>Other_location</td>\n",
       "      <td>Mode-5</td>\n",
       "      <td>High_potential</td>\n",
       "    </tr>\n",
       "    <tr>\n",
       "      <th>1</th>\n",
       "      <td>14-11-2018 09:22</td>\n",
       "      <td>18.0</td>\n",
       "      <td>Website</td>\n",
       "      <td>Sales-Agent-10</td>\n",
       "      <td>Other_location</td>\n",
       "      <td>Mode-5</td>\n",
       "      <td>High_potential</td>\n",
       "    </tr>\n",
       "    <tr>\n",
       "      <th>2</th>\n",
       "      <td>14-11-2018 09:21</td>\n",
       "      <td>18.0</td>\n",
       "      <td>Website</td>\n",
       "      <td>Sales-Agent-10</td>\n",
       "      <td>Other_location</td>\n",
       "      <td>Mode-5</td>\n",
       "      <td>High_potential</td>\n",
       "    </tr>\n",
       "    <tr>\n",
       "      <th>3</th>\n",
       "      <td>14-11-2018 08:46</td>\n",
       "      <td>18.0</td>\n",
       "      <td>Website</td>\n",
       "      <td>Sales-Agent-10</td>\n",
       "      <td>Other_location</td>\n",
       "      <td>Mode-5</td>\n",
       "      <td>High_potential</td>\n",
       "    </tr>\n",
       "    <tr>\n",
       "      <th>4</th>\n",
       "      <td>14-11-2018 07:34</td>\n",
       "      <td>18.0</td>\n",
       "      <td>Website</td>\n",
       "      <td>Sales-Agent-10</td>\n",
       "      <td>Other_location</td>\n",
       "      <td>Mode-5</td>\n",
       "      <td>High_potential</td>\n",
       "    </tr>\n",
       "  </tbody>\n",
       "</table>\n",
       "</div>"
      ],
      "text/plain": [
       "            Created  Product_ID   Source     Sales_Agent        Location  \\\n",
       "0  14-11-2018 10:05        18.0  Website  Sales-Agent-11  Other_location   \n",
       "1  14-11-2018 09:22        18.0  Website  Sales-Agent-10  Other_location   \n",
       "2  14-11-2018 09:21        18.0  Website  Sales-Agent-10  Other_location   \n",
       "3  14-11-2018 08:46        18.0  Website  Sales-Agent-10  Other_location   \n",
       "4  14-11-2018 07:34        18.0  Website  Sales-Agent-10  Other_location   \n",
       "\n",
       "  Delivery_Mode          Status  \n",
       "0        Mode-5  High_potential  \n",
       "1        Mode-5  High_potential  \n",
       "2        Mode-5  High_potential  \n",
       "3        Mode-5  High_potential  \n",
       "4        Mode-5  High_potential  "
      ]
     },
     "execution_count": 61,
     "metadata": {},
     "output_type": "execute_result"
    }
   ],
   "source": [
    "df.head()"
   ]
  },
  {
   "cell_type": "markdown",
   "id": "8d3a5dbb-a28b-4f27-a47f-f5fb1ce860b0",
   "metadata": {},
   "source": [
    "# Sales Agent"
   ]
  },
  {
   "cell_type": "code",
   "execution_count": 62,
   "id": "344c2475-53fc-436f-9efb-09e780ef229d",
   "metadata": {},
   "outputs": [
    {
     "data": {
      "image/png": "[encoded data removed]",
      "text/plain": [
       "<Figure size 700x600 with 1 Axes>"
      ]
     },
     "metadata": {},
     "output_type": "display_data"
    }
   ],
   "source": [
    "plt.figure(figsize = (7,6))\n",
    "sns.countplot(x = 'Sales_Agent',hue = 'Status',data = df)\n",
    "plt.xticks(fontsize = 8,rotation = 90)\n",
    "plt.show()"
   ]
  },
  {
   "cell_type": "markdown",
   "id": "f8e6dfe8-96e0-4215-9558-a0ecb741286b",
   "metadata": {},
   "source": [
    "# Insights\n",
    "- you used Agent 4, 11, 5 more and 4, 11 its ok, it giving half off positive response but 5 works waste you can remove Agent 5.\n",
    "- And you can increase the Agent 9, 10 tasks ,because it works well\n",
    "- And you can decrease the task for Agent 11, 9, 5..\r\n"
   ]
  },
  {
   "cell_type": "markdown",
   "id": "533a7501-e2c8-45b0-ae6d-b91609266891",
   "metadata": {},
   "source": [
    "# Sales Agent in location "
   ]
  },
  {
   "cell_type": "code",
   "execution_count": 63,
   "id": "604dc726-df52-40c0-b0e7-f93a01a58760",
   "metadata": {},
   "outputs": [
    {
     "data": {
      "image/png": "[encoded data removed]",
      "text/plain": [
       "<Figure size 700x600 with 1 Axes>"
      ]
     },
     "metadata": {},
     "output_type": "display_data"
    }
   ],
   "source": [
    "s = sns.color_palette(\"Set2\")\n",
    "plt.figure(figsize = (7,6))\n",
    "sns.countplot(x = 'Sales_Agent',hue = 'Location',data = df,palette = s)\n",
    "plt.xticks(fontsize = 8,rotation = 90)\n",
    "plt.show()"
   ]
  },
  {
   "cell_type": "markdown",
   "id": "1d50015b-a92b-4ad3-b50d-ae60c35d6a4d",
   "metadata": {},
   "source": [
    "# Insights\n",
    "- Every Agent is performs more in India Location and other location.\n",
    "- least count is Asian counties"
   ]
  },
  {
   "cell_type": "markdown",
   "id": "ec8e0b76-115d-4b15-b002-983cce69146d",
   "metadata": {},
   "source": [
    "# **Sales Agent Encoding**"
   ]
  },
  {
   "cell_type": "code",
   "execution_count": 64,
   "id": "f670cd8a-5f6a-4502-8e3f-a1789774fd56",
   "metadata": {},
   "outputs": [
    {
     "data": {
      "text/plain": [
       "Sales-Agent-4     1518\n",
       "Sales-Agent-11    1418\n",
       "Sales-Agent-5     1189\n",
       "Sales-Agent-9      879\n",
       "Sales-Agent-3      780\n",
       "Sales-Agent-7      736\n",
       "Sales-Agent-2      389\n",
       "Sales-Agent-12     269\n",
       "Sales-Agent-6      114\n",
       "Sales-Agent-8       68\n",
       "Sales-Agent-10      47\n",
       "Sales-Agent-1        4\n",
       "Name: Sales_Agent, dtype: int64"
      ]
     },
     "execution_count": 64,
     "metadata": {},
     "output_type": "execute_result"
    }
   ],
   "source": [
    "df.Sales_Agent.value_counts()"
   ]
  },
  {
   "cell_type": "code",
   "execution_count": 65,
   "id": "357cc260-3e1a-4c50-be2a-77041a35de72",
   "metadata": {},
   "outputs": [],
   "source": [
    "df['Sales_Agent'] = df.Sales_Agent.map({'Sales-Agent-4':4 ,'Sales-Agent-11':11 , 'Sales-Agent-5':5,'Sales-Agent-9':9,\n",
    "                                        'Sales-Agent-3':3,'Sales-Agent-7':7,'Sales-Agent-2':2,'Sales-Agent-12':12,'Sales-Agent-6':6,\n",
    "                                        'Sales-Agent-8':8,'Sales-Agent-10':10,'Sales-Agent-1':1})"
   ]
  },
  {
   "cell_type": "code",
   "execution_count": 66,
   "id": "36440a25-fb58-40dc-92d8-acdb7767fa2b",
   "metadata": {},
   "outputs": [
    {
     "data": {
      "text/html": [
       "<div>\n",
       "<style scoped>\n",
       "    .dataframe tbody tr th:only-of-type {\n",
       "        vertical-align: middle;\n",
       "    }\n",
       "\n",
       "    .dataframe tbody tr th {\n",
       "        vertical-align: top;\n",
       "    }\n",
       "\n",
       "    .dataframe thead th {\n",
       "        text-align: right;\n",
       "    }\n",
       "</style>\n",
       "<table border=\"1\" class=\"dataframe\">\n",
       "  <thead>\n",
       "    <tr style=\"text-align: right;\">\n",
       "      <th></th>\n",
       "      <th>Created</th>\n",
       "      <th>Product_ID</th>\n",
       "      <th>Source</th>\n",
       "      <th>Sales_Agent</th>\n",
       "      <th>Location</th>\n",
       "      <th>Delivery_Mode</th>\n",
       "      <th>Status</th>\n",
       "    </tr>\n",
       "  </thead>\n",
       "  <tbody>\n",
       "    <tr>\n",
       "      <th>0</th>\n",
       "      <td>14-11-2018 10:05</td>\n",
       "      <td>18.0</td>\n",
       "      <td>Website</td>\n",
       "      <td>11</td>\n",
       "      <td>Other_location</td>\n",
       "      <td>Mode-5</td>\n",
       "      <td>High_potential</td>\n",
       "    </tr>\n",
       "    <tr>\n",
       "      <th>1</th>\n",
       "      <td>14-11-2018 09:22</td>\n",
       "      <td>18.0</td>\n",
       "      <td>Website</td>\n",
       "      <td>10</td>\n",
       "      <td>Other_location</td>\n",
       "      <td>Mode-5</td>\n",
       "      <td>High_potential</td>\n",
       "    </tr>\n",
       "    <tr>\n",
       "      <th>2</th>\n",
       "      <td>14-11-2018 09:21</td>\n",
       "      <td>18.0</td>\n",
       "      <td>Website</td>\n",
       "      <td>10</td>\n",
       "      <td>Other_location</td>\n",
       "      <td>Mode-5</td>\n",
       "      <td>High_potential</td>\n",
       "    </tr>\n",
       "    <tr>\n",
       "      <th>3</th>\n",
       "      <td>14-11-2018 08:46</td>\n",
       "      <td>18.0</td>\n",
       "      <td>Website</td>\n",
       "      <td>10</td>\n",
       "      <td>Other_location</td>\n",
       "      <td>Mode-5</td>\n",
       "      <td>High_potential</td>\n",
       "    </tr>\n",
       "    <tr>\n",
       "      <th>4</th>\n",
       "      <td>14-11-2018 07:34</td>\n",
       "      <td>18.0</td>\n",
       "      <td>Website</td>\n",
       "      <td>10</td>\n",
       "      <td>Other_location</td>\n",
       "      <td>Mode-5</td>\n",
       "      <td>High_potential</td>\n",
       "    </tr>\n",
       "  </tbody>\n",
       "</table>\n",
       "</div>"
      ],
      "text/plain": [
       "            Created  Product_ID   Source  Sales_Agent        Location  \\\n",
       "0  14-11-2018 10:05        18.0  Website           11  Other_location   \n",
       "1  14-11-2018 09:22        18.0  Website           10  Other_location   \n",
       "2  14-11-2018 09:21        18.0  Website           10  Other_location   \n",
       "3  14-11-2018 08:46        18.0  Website           10  Other_location   \n",
       "4  14-11-2018 07:34        18.0  Website           10  Other_location   \n",
       "\n",
       "  Delivery_Mode          Status  \n",
       "0        Mode-5  High_potential  \n",
       "1        Mode-5  High_potential  \n",
       "2        Mode-5  High_potential  \n",
       "3        Mode-5  High_potential  \n",
       "4        Mode-5  High_potential  "
      ]
     },
     "execution_count": 66,
     "metadata": {},
     "output_type": "execute_result"
    }
   ],
   "source": [
    "df.head()"
   ]
  },
  {
   "cell_type": "markdown",
   "id": "031fa632-7410-4f7a-a560-bb2a5904d0c4",
   "metadata": {},
   "source": [
    "## Delivery mode"
   ]
  },
  {
   "cell_type": "code",
   "execution_count": 67,
   "id": "3030823c-b9f9-4429-a606-b5b54c176551",
   "metadata": {},
   "outputs": [
    {
     "data": {
      "image/png": "[encoded data removed]",
      "text/plain": [
       "<Figure size 700x600 with 1 Axes>"
      ]
     },
     "metadata": {},
     "output_type": "display_data"
    }
   ],
   "source": [
    "s = sns.color_palette(\"Set2\")\n",
    "plt.figure(figsize = (7,6))\n",
    "sns.countplot(x = 'Delivery_Mode',hue = 'Status',data = df,palette = s)\n",
    "plt.xticks(fontsize = 8,rotation = 90)\n",
    "plt.show()"
   ]
  },
  {
   "cell_type": "markdown",
   "id": "34ed2831-7be6-49a7-84f1-239ed9fc486c",
   "metadata": {},
   "source": [
    "# Insights\n",
    "- Mode-2 and 3 is performs good\n",
    "- And you can remove the Mode-5"
   ]
  },
  {
   "cell_type": "markdown",
   "id": "85e64c7c-fc85-4f0b-9a7b-f11d96ed2d0e",
   "metadata": {},
   "source": [
    "## Delivery mode in location."
   ]
  },
  {
   "cell_type": "code",
   "execution_count": 68,
   "id": "4dfad02a-999a-4d25-b466-53d13a8948b4",
   "metadata": {},
   "outputs": [
    {
     "data": {
      "image/png": "[encoded data removed]",
      "text/plain": [
       "<Figure size 700x600 with 1 Axes>"
      ]
     },
     "metadata": {},
     "output_type": "display_data"
    }
   ],
   "source": [
    "s = sns.color_palette(\"Set2\")\n",
    "plt.figure(figsize = (7,6))\n",
    "sns.countplot(x = 'Delivery_Mode',hue = 'Location',data = df,palette = s)\n",
    "plt.xticks(fontsize = 8,rotation = 90)\n",
    "plt.show()"
   ]
  },
  {
   "cell_type": "markdown",
   "id": "89441288-2bd1-4aff-b765-a281227df457",
   "metadata": {},
   "source": [
    "# Insights \n",
    "- Delivery mode, in India and Other location is higher level\n",
    "- Asian COuntries count is least"
   ]
  },
  {
   "cell_type": "markdown",
   "id": "d78c4df2-a5f0-45a3-b17f-059332196d22",
   "metadata": {},
   "source": [
    "# Encoding"
   ]
  },
  {
   "cell_type": "code",
   "execution_count": 69,
   "id": "84ae2a1d-c254-44af-9a57-efc09646d414",
   "metadata": {},
   "outputs": [
    {
     "data": {
      "text/html": [
       "<div>\n",
       "<style scoped>\n",
       "    .dataframe tbody tr th:only-of-type {\n",
       "        vertical-align: middle;\n",
       "    }\n",
       "\n",
       "    .dataframe tbody tr th {\n",
       "        vertical-align: top;\n",
       "    }\n",
       "\n",
       "    .dataframe thead th {\n",
       "        text-align: right;\n",
       "    }\n",
       "</style>\n",
       "<table border=\"1\" class=\"dataframe\">\n",
       "  <thead>\n",
       "    <tr style=\"text-align: right;\">\n",
       "      <th></th>\n",
       "      <th>Created</th>\n",
       "      <th>Product_ID</th>\n",
       "      <th>Source</th>\n",
       "      <th>Sales_Agent</th>\n",
       "      <th>Location</th>\n",
       "      <th>Delivery_Mode</th>\n",
       "      <th>Status</th>\n",
       "    </tr>\n",
       "  </thead>\n",
       "  <tbody>\n",
       "    <tr>\n",
       "      <th>0</th>\n",
       "      <td>14-11-2018 10:05</td>\n",
       "      <td>18.0</td>\n",
       "      <td>Website</td>\n",
       "      <td>11</td>\n",
       "      <td>Other_location</td>\n",
       "      <td>Mode-5</td>\n",
       "      <td>High_potential</td>\n",
       "    </tr>\n",
       "    <tr>\n",
       "      <th>1</th>\n",
       "      <td>14-11-2018 09:22</td>\n",
       "      <td>18.0</td>\n",
       "      <td>Website</td>\n",
       "      <td>10</td>\n",
       "      <td>Other_location</td>\n",
       "      <td>Mode-5</td>\n",
       "      <td>High_potential</td>\n",
       "    </tr>\n",
       "    <tr>\n",
       "      <th>2</th>\n",
       "      <td>14-11-2018 09:21</td>\n",
       "      <td>18.0</td>\n",
       "      <td>Website</td>\n",
       "      <td>10</td>\n",
       "      <td>Other_location</td>\n",
       "      <td>Mode-5</td>\n",
       "      <td>High_potential</td>\n",
       "    </tr>\n",
       "    <tr>\n",
       "      <th>3</th>\n",
       "      <td>14-11-2018 08:46</td>\n",
       "      <td>18.0</td>\n",
       "      <td>Website</td>\n",
       "      <td>10</td>\n",
       "      <td>Other_location</td>\n",
       "      <td>Mode-5</td>\n",
       "      <td>High_potential</td>\n",
       "    </tr>\n",
       "    <tr>\n",
       "      <th>4</th>\n",
       "      <td>14-11-2018 07:34</td>\n",
       "      <td>18.0</td>\n",
       "      <td>Website</td>\n",
       "      <td>10</td>\n",
       "      <td>Other_location</td>\n",
       "      <td>Mode-5</td>\n",
       "      <td>High_potential</td>\n",
       "    </tr>\n",
       "  </tbody>\n",
       "</table>\n",
       "</div>"
      ],
      "text/plain": [
       "            Created  Product_ID   Source  Sales_Agent        Location  \\\n",
       "0  14-11-2018 10:05        18.0  Website           11  Other_location   \n",
       "1  14-11-2018 09:22        18.0  Website           10  Other_location   \n",
       "2  14-11-2018 09:21        18.0  Website           10  Other_location   \n",
       "3  14-11-2018 08:46        18.0  Website           10  Other_location   \n",
       "4  14-11-2018 07:34        18.0  Website           10  Other_location   \n",
       "\n",
       "  Delivery_Mode          Status  \n",
       "0        Mode-5  High_potential  \n",
       "1        Mode-5  High_potential  \n",
       "2        Mode-5  High_potential  \n",
       "3        Mode-5  High_potential  \n",
       "4        Mode-5  High_potential  "
      ]
     },
     "execution_count": 69,
     "metadata": {},
     "output_type": "execute_result"
    }
   ],
   "source": [
    "df.head()"
   ]
  },
  {
   "cell_type": "markdown",
   "id": "0035d67b-ceff-441f-bfeb-a352b46c5a32",
   "metadata": {},
   "source": [
    "## **Source Encoding**"
   ]
  },
  {
   "cell_type": "code",
   "execution_count": 70,
   "id": "3e6c781a-ea00-423f-b507-d2b3474dc284",
   "metadata": {},
   "outputs": [
    {
     "data": {
      "text/plain": [
       "array(['Website', 'Call', 'Live_chat', 'By Recommendation',\n",
       "       'Customer Referral', 'Personal_Contact', 'Existing Client',\n",
       "       'Existing Customer', 'Just Dial', 'Campaign', 'CRM form'],\n",
       "      dtype=object)"
      ]
     },
     "execution_count": 70,
     "metadata": {},
     "output_type": "execute_result"
    }
   ],
   "source": [
    "df.Source.unique()"
   ]
  },
  {
   "cell_type": "code",
   "execution_count": 71,
   "id": "846f0c93-6f40-4e4f-bc2f-2cbb71eddcae",
   "metadata": {},
   "outputs": [],
   "source": [
    "df['Source'] = df.Source.map({'Call':1,'Live_chat':2,'Website':3,'Customer Referral':4,'By Recommendation':5,'Personal_Contact':6,\n",
    "                              'Existing Client':7,'Just Dial':8,'Campaign':9,'CRM form':10,'Existing Customer':11})"
   ]
  },
  {
   "cell_type": "code",
   "execution_count": 72,
   "id": "0459341c-9fbe-4631-906b-ca4c882bb3e3",
   "metadata": {},
   "outputs": [
    {
     "data": {
      "text/html": [
       "<div>\n",
       "<style scoped>\n",
       "    .dataframe tbody tr th:only-of-type {\n",
       "        vertical-align: middle;\n",
       "    }\n",
       "\n",
       "    .dataframe tbody tr th {\n",
       "        vertical-align: top;\n",
       "    }\n",
       "\n",
       "    .dataframe thead th {\n",
       "        text-align: right;\n",
       "    }\n",
       "</style>\n",
       "<table border=\"1\" class=\"dataframe\">\n",
       "  <thead>\n",
       "    <tr style=\"text-align: right;\">\n",
       "      <th></th>\n",
       "      <th>Created</th>\n",
       "      <th>Product_ID</th>\n",
       "      <th>Source</th>\n",
       "      <th>Sales_Agent</th>\n",
       "      <th>Location</th>\n",
       "      <th>Delivery_Mode</th>\n",
       "      <th>Status</th>\n",
       "    </tr>\n",
       "  </thead>\n",
       "  <tbody>\n",
       "    <tr>\n",
       "      <th>0</th>\n",
       "      <td>14-11-2018 10:05</td>\n",
       "      <td>18.0</td>\n",
       "      <td>3</td>\n",
       "      <td>11</td>\n",
       "      <td>Other_location</td>\n",
       "      <td>Mode-5</td>\n",
       "      <td>High_potential</td>\n",
       "    </tr>\n",
       "    <tr>\n",
       "      <th>1</th>\n",
       "      <td>14-11-2018 09:22</td>\n",
       "      <td>18.0</td>\n",
       "      <td>3</td>\n",
       "      <td>10</td>\n",
       "      <td>Other_location</td>\n",
       "      <td>Mode-5</td>\n",
       "      <td>High_potential</td>\n",
       "    </tr>\n",
       "    <tr>\n",
       "      <th>2</th>\n",
       "      <td>14-11-2018 09:21</td>\n",
       "      <td>18.0</td>\n",
       "      <td>3</td>\n",
       "      <td>10</td>\n",
       "      <td>Other_location</td>\n",
       "      <td>Mode-5</td>\n",
       "      <td>High_potential</td>\n",
       "    </tr>\n",
       "    <tr>\n",
       "      <th>3</th>\n",
       "      <td>14-11-2018 08:46</td>\n",
       "      <td>18.0</td>\n",
       "      <td>3</td>\n",
       "      <td>10</td>\n",
       "      <td>Other_location</td>\n",
       "      <td>Mode-5</td>\n",
       "      <td>High_potential</td>\n",
       "    </tr>\n",
       "    <tr>\n",
       "      <th>4</th>\n",
       "      <td>14-11-2018 07:34</td>\n",
       "      <td>18.0</td>\n",
       "      <td>3</td>\n",
       "      <td>10</td>\n",
       "      <td>Other_location</td>\n",
       "      <td>Mode-5</td>\n",
       "      <td>High_potential</td>\n",
       "    </tr>\n",
       "  </tbody>\n",
       "</table>\n",
       "</div>"
      ],
      "text/plain": [
       "            Created  Product_ID  Source  Sales_Agent        Location  \\\n",
       "0  14-11-2018 10:05        18.0       3           11  Other_location   \n",
       "1  14-11-2018 09:22        18.0       3           10  Other_location   \n",
       "2  14-11-2018 09:21        18.0       3           10  Other_location   \n",
       "3  14-11-2018 08:46        18.0       3           10  Other_location   \n",
       "4  14-11-2018 07:34        18.0       3           10  Other_location   \n",
       "\n",
       "  Delivery_Mode          Status  \n",
       "0        Mode-5  High_potential  \n",
       "1        Mode-5  High_potential  \n",
       "2        Mode-5  High_potential  \n",
       "3        Mode-5  High_potential  \n",
       "4        Mode-5  High_potential  "
      ]
     },
     "execution_count": 72,
     "metadata": {},
     "output_type": "execute_result"
    }
   ],
   "source": [
    "df.head()"
   ]
  },
  {
   "cell_type": "markdown",
   "id": "207a6202-4d70-4676-bc3a-12731d455e49",
   "metadata": {},
   "source": [
    "## **Location Encoding**"
   ]
  },
  {
   "cell_type": "code",
   "execution_count": 73,
   "id": "735d7204-21ca-4dd0-9e69-0bce974cd347",
   "metadata": {},
   "outputs": [
    {
     "data": {
      "text/plain": [
       "array(['Other_location', 'In_India', 'Countries', 'Asian_Countries'],\n",
       "      dtype=object)"
      ]
     },
     "execution_count": 73,
     "metadata": {},
     "output_type": "execute_result"
    }
   ],
   "source": [
    "df.Location.unique()"
   ]
  },
  {
   "cell_type": "code",
   "execution_count": 74,
   "id": "ab358a94-09f7-4572-a32e-c4ac496e661a",
   "metadata": {},
   "outputs": [],
   "source": [
    "df['Location'] = df.Location.map({'Other_location':2,'In_India':1,'Asian_Countries':3,'Countries':4})"
   ]
  },
  {
   "cell_type": "code",
   "execution_count": 75,
   "id": "47233b8c-f4eb-4a44-9249-942d944c929e",
   "metadata": {},
   "outputs": [
    {
     "data": {
      "text/html": [
       "<div>\n",
       "<style scoped>\n",
       "    .dataframe tbody tr th:only-of-type {\n",
       "        vertical-align: middle;\n",
       "    }\n",
       "\n",
       "    .dataframe tbody tr th {\n",
       "        vertical-align: top;\n",
       "    }\n",
       "\n",
       "    .dataframe thead th {\n",
       "        text-align: right;\n",
       "    }\n",
       "</style>\n",
       "<table border=\"1\" class=\"dataframe\">\n",
       "  <thead>\n",
       "    <tr style=\"text-align: right;\">\n",
       "      <th></th>\n",
       "      <th>Created</th>\n",
       "      <th>Product_ID</th>\n",
       "      <th>Source</th>\n",
       "      <th>Sales_Agent</th>\n",
       "      <th>Location</th>\n",
       "      <th>Delivery_Mode</th>\n",
       "      <th>Status</th>\n",
       "    </tr>\n",
       "  </thead>\n",
       "  <tbody>\n",
       "    <tr>\n",
       "      <th>0</th>\n",
       "      <td>14-11-2018 10:05</td>\n",
       "      <td>18.0</td>\n",
       "      <td>3</td>\n",
       "      <td>11</td>\n",
       "      <td>2</td>\n",
       "      <td>Mode-5</td>\n",
       "      <td>High_potential</td>\n",
       "    </tr>\n",
       "    <tr>\n",
       "      <th>1</th>\n",
       "      <td>14-11-2018 09:22</td>\n",
       "      <td>18.0</td>\n",
       "      <td>3</td>\n",
       "      <td>10</td>\n",
       "      <td>2</td>\n",
       "      <td>Mode-5</td>\n",
       "      <td>High_potential</td>\n",
       "    </tr>\n",
       "    <tr>\n",
       "      <th>2</th>\n",
       "      <td>14-11-2018 09:21</td>\n",
       "      <td>18.0</td>\n",
       "      <td>3</td>\n",
       "      <td>10</td>\n",
       "      <td>2</td>\n",
       "      <td>Mode-5</td>\n",
       "      <td>High_potential</td>\n",
       "    </tr>\n",
       "    <tr>\n",
       "      <th>3</th>\n",
       "      <td>14-11-2018 08:46</td>\n",
       "      <td>18.0</td>\n",
       "      <td>3</td>\n",
       "      <td>10</td>\n",
       "      <td>2</td>\n",
       "      <td>Mode-5</td>\n",
       "      <td>High_potential</td>\n",
       "    </tr>\n",
       "    <tr>\n",
       "      <th>4</th>\n",
       "      <td>14-11-2018 07:34</td>\n",
       "      <td>18.0</td>\n",
       "      <td>3</td>\n",
       "      <td>10</td>\n",
       "      <td>2</td>\n",
       "      <td>Mode-5</td>\n",
       "      <td>High_potential</td>\n",
       "    </tr>\n",
       "  </tbody>\n",
       "</table>\n",
       "</div>"
      ],
      "text/plain": [
       "            Created  Product_ID  Source  Sales_Agent  Location Delivery_Mode  \\\n",
       "0  14-11-2018 10:05        18.0       3           11         2        Mode-5   \n",
       "1  14-11-2018 09:22        18.0       3           10         2        Mode-5   \n",
       "2  14-11-2018 09:21        18.0       3           10         2        Mode-5   \n",
       "3  14-11-2018 08:46        18.0       3           10         2        Mode-5   \n",
       "4  14-11-2018 07:34        18.0       3           10         2        Mode-5   \n",
       "\n",
       "           Status  \n",
       "0  High_potential  \n",
       "1  High_potential  \n",
       "2  High_potential  \n",
       "3  High_potential  \n",
       "4  High_potential  "
      ]
     },
     "execution_count": 75,
     "metadata": {},
     "output_type": "execute_result"
    }
   ],
   "source": [
    "df.head()"
   ]
  },
  {
   "cell_type": "markdown",
   "id": "29f583b9-558f-4f7d-99dd-ea161124edca",
   "metadata": {},
   "source": [
    "## **Delivery mode Encoding**"
   ]
  },
  {
   "cell_type": "code",
   "execution_count": 76,
   "id": "24214a3a-5678-4998-a7a6-2210aa0ffd03",
   "metadata": {},
   "outputs": [
    {
     "data": {
      "text/plain": [
       "array(['Mode-5', 'Mode-1', 'Mode-3', 'Mode-2', 'Mode-4'], dtype=object)"
      ]
     },
     "execution_count": 76,
     "metadata": {},
     "output_type": "execute_result"
    }
   ],
   "source": [
    "df.Delivery_Mode.unique()"
   ]
  },
  {
   "cell_type": "code",
   "execution_count": 77,
   "id": "5faec243-654b-4ace-86cd-8b1293ce3c13",
   "metadata": {},
   "outputs": [],
   "source": [
    "df['Delivery_Mode'] = df.Delivery_Mode.map({'Mode-1':1, 'Mode-2':2, 'Mode-3':3,'Mode-4':4,'Mode-5':5})"
   ]
  },
  {
   "cell_type": "code",
   "execution_count": 78,
   "id": "6f239ade-51f6-4b7a-afc4-1d264ad15ecf",
   "metadata": {},
   "outputs": [
    {
     "data": {
      "text/html": [
       "<div>\n",
       "<style scoped>\n",
       "    .dataframe tbody tr th:only-of-type {\n",
       "        vertical-align: middle;\n",
       "    }\n",
       "\n",
       "    .dataframe tbody tr th {\n",
       "        vertical-align: top;\n",
       "    }\n",
       "\n",
       "    .dataframe thead th {\n",
       "        text-align: right;\n",
       "    }\n",
       "</style>\n",
       "<table border=\"1\" class=\"dataframe\">\n",
       "  <thead>\n",
       "    <tr style=\"text-align: right;\">\n",
       "      <th></th>\n",
       "      <th>Created</th>\n",
       "      <th>Product_ID</th>\n",
       "      <th>Source</th>\n",
       "      <th>Sales_Agent</th>\n",
       "      <th>Location</th>\n",
       "      <th>Delivery_Mode</th>\n",
       "      <th>Status</th>\n",
       "    </tr>\n",
       "  </thead>\n",
       "  <tbody>\n",
       "    <tr>\n",
       "      <th>0</th>\n",
       "      <td>14-11-2018 10:05</td>\n",
       "      <td>18.0</td>\n",
       "      <td>3</td>\n",
       "      <td>11</td>\n",
       "      <td>2</td>\n",
       "      <td>5</td>\n",
       "      <td>High_potential</td>\n",
       "    </tr>\n",
       "    <tr>\n",
       "      <th>1</th>\n",
       "      <td>14-11-2018 09:22</td>\n",
       "      <td>18.0</td>\n",
       "      <td>3</td>\n",
       "      <td>10</td>\n",
       "      <td>2</td>\n",
       "      <td>5</td>\n",
       "      <td>High_potential</td>\n",
       "    </tr>\n",
       "    <tr>\n",
       "      <th>2</th>\n",
       "      <td>14-11-2018 09:21</td>\n",
       "      <td>18.0</td>\n",
       "      <td>3</td>\n",
       "      <td>10</td>\n",
       "      <td>2</td>\n",
       "      <td>5</td>\n",
       "      <td>High_potential</td>\n",
       "    </tr>\n",
       "    <tr>\n",
       "      <th>3</th>\n",
       "      <td>14-11-2018 08:46</td>\n",
       "      <td>18.0</td>\n",
       "      <td>3</td>\n",
       "      <td>10</td>\n",
       "      <td>2</td>\n",
       "      <td>5</td>\n",
       "      <td>High_potential</td>\n",
       "    </tr>\n",
       "    <tr>\n",
       "      <th>4</th>\n",
       "      <td>14-11-2018 07:34</td>\n",
       "      <td>18.0</td>\n",
       "      <td>3</td>\n",
       "      <td>10</td>\n",
       "      <td>2</td>\n",
       "      <td>5</td>\n",
       "      <td>High_potential</td>\n",
       "    </tr>\n",
       "  </tbody>\n",
       "</table>\n",
       "</div>"
      ],
      "text/plain": [
       "            Created  Product_ID  Source  Sales_Agent  Location  Delivery_Mode  \\\n",
       "0  14-11-2018 10:05        18.0       3           11         2              5   \n",
       "1  14-11-2018 09:22        18.0       3           10         2              5   \n",
       "2  14-11-2018 09:21        18.0       3           10         2              5   \n",
       "3  14-11-2018 08:46        18.0       3           10         2              5   \n",
       "4  14-11-2018 07:34        18.0       3           10         2              5   \n",
       "\n",
       "           Status  \n",
       "0  High_potential  \n",
       "1  High_potential  \n",
       "2  High_potential  \n",
       "3  High_potential  \n",
       "4  High_potential  "
      ]
     },
     "execution_count": 78,
     "metadata": {},
     "output_type": "execute_result"
    }
   ],
   "source": [
    "df.head()"
   ]
  },
  {
   "cell_type": "markdown",
   "id": "34cbe19c-7d61-4917-894b-cb63719e5073",
   "metadata": {},
   "source": [
    "## **Status Encoding**"
   ]
  },
  {
   "cell_type": "code",
   "execution_count": 79,
   "id": "9698fc35-e67a-4577-9e7e-2d67e6abefda",
   "metadata": {},
   "outputs": [
    {
     "data": {
      "text/plain": [
       "array(['High_potential', 'Low_potential'], dtype=object)"
      ]
     },
     "execution_count": 79,
     "metadata": {},
     "output_type": "execute_result"
    }
   ],
   "source": [
    "df.Status.unique()"
   ]
  },
  {
   "cell_type": "code",
   "execution_count": 80,
   "id": "b5dc0d29-fc6e-4372-917b-335cca82d81a",
   "metadata": {},
   "outputs": [],
   "source": [
    "df['Status'] = df.Status.map({'Low_potential':0,'High_potential':1})"
   ]
  },
  {
   "cell_type": "code",
   "execution_count": 81,
   "id": "ff5e4f80-a74c-4484-98ea-f44c83e3630a",
   "metadata": {},
   "outputs": [
    {
     "data": {
      "text/html": [
       "<div>\n",
       "<style scoped>\n",
       "    .dataframe tbody tr th:only-of-type {\n",
       "        vertical-align: middle;\n",
       "    }\n",
       "\n",
       "    .dataframe tbody tr th {\n",
       "        vertical-align: top;\n",
       "    }\n",
       "\n",
       "    .dataframe thead th {\n",
       "        text-align: right;\n",
       "    }\n",
       "</style>\n",
       "<table border=\"1\" class=\"dataframe\">\n",
       "  <thead>\n",
       "    <tr style=\"text-align: right;\">\n",
       "      <th></th>\n",
       "      <th>Created</th>\n",
       "      <th>Product_ID</th>\n",
       "      <th>Source</th>\n",
       "      <th>Sales_Agent</th>\n",
       "      <th>Location</th>\n",
       "      <th>Delivery_Mode</th>\n",
       "      <th>Status</th>\n",
       "    </tr>\n",
       "  </thead>\n",
       "  <tbody>\n",
       "    <tr>\n",
       "      <th>0</th>\n",
       "      <td>14-11-2018 10:05</td>\n",
       "      <td>18.0</td>\n",
       "      <td>3</td>\n",
       "      <td>11</td>\n",
       "      <td>2</td>\n",
       "      <td>5</td>\n",
       "      <td>1</td>\n",
       "    </tr>\n",
       "    <tr>\n",
       "      <th>1</th>\n",
       "      <td>14-11-2018 09:22</td>\n",
       "      <td>18.0</td>\n",
       "      <td>3</td>\n",
       "      <td>10</td>\n",
       "      <td>2</td>\n",
       "      <td>5</td>\n",
       "      <td>1</td>\n",
       "    </tr>\n",
       "    <tr>\n",
       "      <th>2</th>\n",
       "      <td>14-11-2018 09:21</td>\n",
       "      <td>18.0</td>\n",
       "      <td>3</td>\n",
       "      <td>10</td>\n",
       "      <td>2</td>\n",
       "      <td>5</td>\n",
       "      <td>1</td>\n",
       "    </tr>\n",
       "    <tr>\n",
       "      <th>3</th>\n",
       "      <td>14-11-2018 08:46</td>\n",
       "      <td>18.0</td>\n",
       "      <td>3</td>\n",
       "      <td>10</td>\n",
       "      <td>2</td>\n",
       "      <td>5</td>\n",
       "      <td>1</td>\n",
       "    </tr>\n",
       "    <tr>\n",
       "      <th>4</th>\n",
       "      <td>14-11-2018 07:34</td>\n",
       "      <td>18.0</td>\n",
       "      <td>3</td>\n",
       "      <td>10</td>\n",
       "      <td>2</td>\n",
       "      <td>5</td>\n",
       "      <td>1</td>\n",
       "    </tr>\n",
       "  </tbody>\n",
       "</table>\n",
       "</div>"
      ],
      "text/plain": [
       "            Created  Product_ID  Source  Sales_Agent  Location  Delivery_Mode  \\\n",
       "0  14-11-2018 10:05        18.0       3           11         2              5   \n",
       "1  14-11-2018 09:22        18.0       3           10         2              5   \n",
       "2  14-11-2018 09:21        18.0       3           10         2              5   \n",
       "3  14-11-2018 08:46        18.0       3           10         2              5   \n",
       "4  14-11-2018 07:34        18.0       3           10         2              5   \n",
       "\n",
       "   Status  \n",
       "0       1  \n",
       "1       1  \n",
       "2       1  \n",
       "3       1  \n",
       "4       1  "
      ]
     },
     "execution_count": 81,
     "metadata": {},
     "output_type": "execute_result"
    }
   ],
   "source": [
    "df.head()"
   ]
  },
  {
   "cell_type": "code",
   "execution_count": 82,
   "id": "1e011c17-ea88-4c1d-b743-3a1cb39b427b",
   "metadata": {},
   "outputs": [
    {
     "name": "stdout",
     "output_type": "stream",
     "text": [
      "<class 'pandas.core.frame.DataFrame'>\n",
      "Int64Index: 7411 entries, 0 to 7421\n",
      "Data columns (total 7 columns):\n",
      " #   Column         Non-Null Count  Dtype  \n",
      "---  ------         --------------  -----  \n",
      " 0   Created        7411 non-null   object \n",
      " 1   Product_ID     7411 non-null   float64\n",
      " 2   Source         7411 non-null   int64  \n",
      " 3   Sales_Agent    7411 non-null   int64  \n",
      " 4   Location       7411 non-null   int64  \n",
      " 5   Delivery_Mode  7411 non-null   int64  \n",
      " 6   Status         7411 non-null   int64  \n",
      "dtypes: float64(1), int64(5), object(1)\n",
      "memory usage: 463.2+ KB\n"
     ]
    }
   ],
   "source": [
    "df.info()"
   ]
  },
  {
   "cell_type": "code",
   "execution_count": 83,
   "id": "4a4c1ff3-c0f7-4fbd-8acd-923838ec0af7",
   "metadata": {},
   "outputs": [],
   "source": [
    "# drop unwanted column\n",
    "df.drop('Created' ,axis = 1,inplace = True)"
   ]
  },
  {
   "cell_type": "code",
   "execution_count": 84,
   "id": "44f7afba-2598-4142-8a9d-4bfb8e9b75b7",
   "metadata": {},
   "outputs": [
    {
     "data": {
      "text/html": [
       "<div>\n",
       "<style scoped>\n",
       "    .dataframe tbody tr th:only-of-type {\n",
       "        vertical-align: middle;\n",
       "    }\n",
       "\n",
       "    .dataframe tbody tr th {\n",
       "        vertical-align: top;\n",
       "    }\n",
       "\n",
       "    .dataframe thead th {\n",
       "        text-align: right;\n",
       "    }\n",
       "</style>\n",
       "<table border=\"1\" class=\"dataframe\">\n",
       "  <thead>\n",
       "    <tr style=\"text-align: right;\">\n",
       "      <th></th>\n",
       "      <th>Product_ID</th>\n",
       "      <th>Source</th>\n",
       "      <th>Sales_Agent</th>\n",
       "      <th>Location</th>\n",
       "      <th>Delivery_Mode</th>\n",
       "      <th>Status</th>\n",
       "    </tr>\n",
       "  </thead>\n",
       "  <tbody>\n",
       "    <tr>\n",
       "      <th>0</th>\n",
       "      <td>18.0</td>\n",
       "      <td>3</td>\n",
       "      <td>11</td>\n",
       "      <td>2</td>\n",
       "      <td>5</td>\n",
       "      <td>1</td>\n",
       "    </tr>\n",
       "    <tr>\n",
       "      <th>1</th>\n",
       "      <td>18.0</td>\n",
       "      <td>3</td>\n",
       "      <td>10</td>\n",
       "      <td>2</td>\n",
       "      <td>5</td>\n",
       "      <td>1</td>\n",
       "    </tr>\n",
       "    <tr>\n",
       "      <th>2</th>\n",
       "      <td>18.0</td>\n",
       "      <td>3</td>\n",
       "      <td>10</td>\n",
       "      <td>2</td>\n",
       "      <td>5</td>\n",
       "      <td>1</td>\n",
       "    </tr>\n",
       "    <tr>\n",
       "      <th>3</th>\n",
       "      <td>18.0</td>\n",
       "      <td>3</td>\n",
       "      <td>10</td>\n",
       "      <td>2</td>\n",
       "      <td>5</td>\n",
       "      <td>1</td>\n",
       "    </tr>\n",
       "    <tr>\n",
       "      <th>4</th>\n",
       "      <td>18.0</td>\n",
       "      <td>3</td>\n",
       "      <td>10</td>\n",
       "      <td>2</td>\n",
       "      <td>5</td>\n",
       "      <td>1</td>\n",
       "    </tr>\n",
       "  </tbody>\n",
       "</table>\n",
       "</div>"
      ],
      "text/plain": [
       "   Product_ID  Source  Sales_Agent  Location  Delivery_Mode  Status\n",
       "0        18.0       3           11         2              5       1\n",
       "1        18.0       3           10         2              5       1\n",
       "2        18.0       3           10         2              5       1\n",
       "3        18.0       3           10         2              5       1\n",
       "4        18.0       3           10         2              5       1"
      ]
     },
     "execution_count": 84,
     "metadata": {},
     "output_type": "execute_result"
    }
   ],
   "source": [
    "df.head()"
   ]
  },
  {
   "cell_type": "markdown",
   "id": "4e6ecb92-5335-4a92-8be4-7551d27aa66d",
   "metadata": {},
   "source": [
    "# **Correlation**"
   ]
  },
  {
   "cell_type": "code",
   "execution_count": 85,
   "id": "9a05dfef-3fbd-4d6f-8aaa-db1a68df40cd",
   "metadata": {},
   "outputs": [
    {
     "name": "stdout",
     "output_type": "stream",
     "text": [
      "               Product_ID    Source  Sales_Agent  Location  Delivery_Mode  \\\n",
      "Product_ID       1.000000  0.043854    -0.028300 -0.024625      -0.032729   \n",
      "Source           0.043854  1.000000     0.019838 -0.076364      -0.202715   \n",
      "Sales_Agent     -0.028300  0.019838     1.000000 -0.011383       0.080872   \n",
      "Location        -0.024625 -0.076364    -0.011383  1.000000       0.296381   \n",
      "Delivery_Mode   -0.032729 -0.202715     0.080872  0.296381       1.000000   \n",
      "Status           0.086187  0.095858     0.047320 -0.198308      -0.208036   \n",
      "\n",
      "                 Status  \n",
      "Product_ID     0.086187  \n",
      "Source         0.095858  \n",
      "Sales_Agent    0.047320  \n",
      "Location      -0.198308  \n",
      "Delivery_Mode -0.208036  \n",
      "Status         1.000000  \n"
     ]
    }
   ],
   "source": [
    "e = df.corr()\n",
    "print(e)"
   ]
  },
  {
   "cell_type": "code",
   "execution_count": 86,
   "id": "8e7db7e6-b99b-4c8d-b03d-30060524e1e5",
   "metadata": {},
   "outputs": [],
   "source": [
    "#split\n",
    "X = df.drop('Status',axis = 1)\n",
    "y = df['Status']"
   ]
  },
  {
   "cell_type": "code",
   "execution_count": 87,
   "id": "2c48290b-2e0a-4daf-ab25-1c927bc159ea",
   "metadata": {},
   "outputs": [
    {
     "data": {
      "text/html": [
       "<div>\n",
       "<style scoped>\n",
       "    .dataframe tbody tr th:only-of-type {\n",
       "        vertical-align: middle;\n",
       "    }\n",
       "\n",
       "    .dataframe tbody tr th {\n",
       "        vertical-align: top;\n",
       "    }\n",
       "\n",
       "    .dataframe thead th {\n",
       "        text-align: right;\n",
       "    }\n",
       "</style>\n",
       "<table border=\"1\" class=\"dataframe\">\n",
       "  <thead>\n",
       "    <tr style=\"text-align: right;\">\n",
       "      <th></th>\n",
       "      <th>Product_ID</th>\n",
       "      <th>Source</th>\n",
       "      <th>Sales_Agent</th>\n",
       "      <th>Location</th>\n",
       "      <th>Delivery_Mode</th>\n",
       "    </tr>\n",
       "  </thead>\n",
       "  <tbody>\n",
       "    <tr>\n",
       "      <th>0</th>\n",
       "      <td>18.0</td>\n",
       "      <td>3</td>\n",
       "      <td>11</td>\n",
       "      <td>2</td>\n",
       "      <td>5</td>\n",
       "    </tr>\n",
       "    <tr>\n",
       "      <th>1</th>\n",
       "      <td>18.0</td>\n",
       "      <td>3</td>\n",
       "      <td>10</td>\n",
       "      <td>2</td>\n",
       "      <td>5</td>\n",
       "    </tr>\n",
       "    <tr>\n",
       "      <th>2</th>\n",
       "      <td>18.0</td>\n",
       "      <td>3</td>\n",
       "      <td>10</td>\n",
       "      <td>2</td>\n",
       "      <td>5</td>\n",
       "    </tr>\n",
       "    <tr>\n",
       "      <th>3</th>\n",
       "      <td>18.0</td>\n",
       "      <td>3</td>\n",
       "      <td>10</td>\n",
       "      <td>2</td>\n",
       "      <td>5</td>\n",
       "    </tr>\n",
       "    <tr>\n",
       "      <th>4</th>\n",
       "      <td>18.0</td>\n",
       "      <td>3</td>\n",
       "      <td>10</td>\n",
       "      <td>2</td>\n",
       "      <td>5</td>\n",
       "    </tr>\n",
       "  </tbody>\n",
       "</table>\n",
       "</div>"
      ],
      "text/plain": [
       "   Product_ID  Source  Sales_Agent  Location  Delivery_Mode\n",
       "0        18.0       3           11         2              5\n",
       "1        18.0       3           10         2              5\n",
       "2        18.0       3           10         2              5\n",
       "3        18.0       3           10         2              5\n",
       "4        18.0       3           10         2              5"
      ]
     },
     "execution_count": 87,
     "metadata": {},
     "output_type": "execute_result"
    }
   ],
   "source": [
    "X.head()"
   ]
  },
  {
   "cell_type": "code",
   "execution_count": 88,
   "id": "4f7ecf1a-d655-47d8-bdab-074cb34d77a2",
   "metadata": {},
   "outputs": [
    {
     "data": {
      "text/plain": [
       "0    1\n",
       "1    1\n",
       "2    1\n",
       "3    1\n",
       "4    1\n",
       "Name: Status, dtype: int64"
      ]
     },
     "execution_count": 88,
     "metadata": {},
     "output_type": "execute_result"
    }
   ],
   "source": [
    "y.head()"
   ]
  },
  {
   "cell_type": "markdown",
   "id": "594fcf8e-cc1b-4b3a-af7c-351175239efd",
   "metadata": {},
   "source": [
    "# Scaling"
   ]
  },
  {
   "cell_type": "code",
   "execution_count": 89,
   "id": "a84d44ae-8019-486a-bea2-bb2abb61b351",
   "metadata": {},
   "outputs": [],
   "source": [
    "from sklearn.preprocessing import StandardScaler\n",
    "ss = StandardScaler()"
   ]
  },
  {
   "cell_type": "code",
   "execution_count": 90,
   "id": "05b45a56-d1ed-47a1-9f12-db8100f6c481",
   "metadata": {},
   "outputs": [
    {
     "data": {
      "text/plain": [
       "array([[ 0.33606464,  0.62180254,  1.41033752,  0.89982699,  1.08922158],\n",
       "       [ 0.33606464,  0.62180254,  1.09163006,  0.89982699,  1.08922158],\n",
       "       [ 0.33606464,  0.62180254,  1.09163006,  0.89982699,  1.08922158],\n",
       "       ...,\n",
       "       [-1.81112518, -0.1018436 ,  1.41033752, -0.67147787, -1.21088417],\n",
       "       [ 0.83156998,  5.68732552, -0.82061475,  0.89982699, -1.21088417],\n",
       "       [ 1.49224377,  0.62180254, -1.13932221, -0.67147787, -1.21088417]])"
      ]
     },
     "execution_count": 90,
     "metadata": {},
     "output_type": "execute_result"
    }
   ],
   "source": [
    "sel =  ss.fit_transform(X)\n",
    "sel"
   ]
  },
  {
   "cell_type": "code",
   "execution_count": 91,
   "id": "37502a07-22fd-437f-af50-6ff342b24e22",
   "metadata": {},
   "outputs": [],
   "source": [
    "x = pd.DataFrame(data = sel,columns = X.columns)"
   ]
  },
  {
   "cell_type": "code",
   "execution_count": 92,
   "id": "f3ac4ec8-eefd-4253-b1e7-1c0bc7ac46e5",
   "metadata": {},
   "outputs": [
    {
     "data": {
      "text/html": [
       "<div>\n",
       "<style scoped>\n",
       "    .dataframe tbody tr th:only-of-type {\n",
       "        vertical-align: middle;\n",
       "    }\n",
       "\n",
       "    .dataframe tbody tr th {\n",
       "        vertical-align: top;\n",
       "    }\n",
       "\n",
       "    .dataframe thead th {\n",
       "        text-align: right;\n",
       "    }\n",
       "</style>\n",
       "<table border=\"1\" class=\"dataframe\">\n",
       "  <thead>\n",
       "    <tr style=\"text-align: right;\">\n",
       "      <th></th>\n",
       "      <th>Product_ID</th>\n",
       "      <th>Source</th>\n",
       "      <th>Sales_Agent</th>\n",
       "      <th>Location</th>\n",
       "      <th>Delivery_Mode</th>\n",
       "    </tr>\n",
       "  </thead>\n",
       "  <tbody>\n",
       "    <tr>\n",
       "      <th>0</th>\n",
       "      <td>0.336065</td>\n",
       "      <td>0.621803</td>\n",
       "      <td>1.410338</td>\n",
       "      <td>0.899827</td>\n",
       "      <td>1.089222</td>\n",
       "    </tr>\n",
       "    <tr>\n",
       "      <th>1</th>\n",
       "      <td>0.336065</td>\n",
       "      <td>0.621803</td>\n",
       "      <td>1.091630</td>\n",
       "      <td>0.899827</td>\n",
       "      <td>1.089222</td>\n",
       "    </tr>\n",
       "    <tr>\n",
       "      <th>2</th>\n",
       "      <td>0.336065</td>\n",
       "      <td>0.621803</td>\n",
       "      <td>1.091630</td>\n",
       "      <td>0.899827</td>\n",
       "      <td>1.089222</td>\n",
       "    </tr>\n",
       "    <tr>\n",
       "      <th>3</th>\n",
       "      <td>0.336065</td>\n",
       "      <td>0.621803</td>\n",
       "      <td>1.091630</td>\n",
       "      <td>0.899827</td>\n",
       "      <td>1.089222</td>\n",
       "    </tr>\n",
       "    <tr>\n",
       "      <th>4</th>\n",
       "      <td>0.336065</td>\n",
       "      <td>0.621803</td>\n",
       "      <td>1.091630</td>\n",
       "      <td>0.899827</td>\n",
       "      <td>1.089222</td>\n",
       "    </tr>\n",
       "  </tbody>\n",
       "</table>\n",
       "</div>"
      ],
      "text/plain": [
       "   Product_ID    Source  Sales_Agent  Location  Delivery_Mode\n",
       "0    0.336065  0.621803     1.410338  0.899827       1.089222\n",
       "1    0.336065  0.621803     1.091630  0.899827       1.089222\n",
       "2    0.336065  0.621803     1.091630  0.899827       1.089222\n",
       "3    0.336065  0.621803     1.091630  0.899827       1.089222\n",
       "4    0.336065  0.621803     1.091630  0.899827       1.089222"
      ]
     },
     "execution_count": 92,
     "metadata": {},
     "output_type": "execute_result"
    }
   ],
   "source": [
    "x.head()"
   ]
  },
  {
   "cell_type": "code",
   "execution_count": 93,
   "id": "3eae7d2f-266a-45f7-98e5-67bce30d4245",
   "metadata": {},
   "outputs": [
    {
     "data": {
      "text/html": [
       "<div>\n",
       "<style scoped>\n",
       "    .dataframe tbody tr th:only-of-type {\n",
       "        vertical-align: middle;\n",
       "    }\n",
       "\n",
       "    .dataframe tbody tr th {\n",
       "        vertical-align: top;\n",
       "    }\n",
       "\n",
       "    .dataframe thead th {\n",
       "        text-align: right;\n",
       "    }\n",
       "</style>\n",
       "<table border=\"1\" class=\"dataframe\">\n",
       "  <thead>\n",
       "    <tr style=\"text-align: right;\">\n",
       "      <th></th>\n",
       "      <th>Product_ID</th>\n",
       "      <th>Source</th>\n",
       "      <th>Sales_Agent</th>\n",
       "      <th>Location</th>\n",
       "      <th>Delivery_Mode</th>\n",
       "    </tr>\n",
       "  </thead>\n",
       "  <tbody>\n",
       "    <tr>\n",
       "      <th>0</th>\n",
       "      <td>0.336065</td>\n",
       "      <td>0.621803</td>\n",
       "      <td>1.410338</td>\n",
       "      <td>0.899827</td>\n",
       "      <td>1.089222</td>\n",
       "    </tr>\n",
       "    <tr>\n",
       "      <th>1</th>\n",
       "      <td>0.336065</td>\n",
       "      <td>0.621803</td>\n",
       "      <td>1.091630</td>\n",
       "      <td>0.899827</td>\n",
       "      <td>1.089222</td>\n",
       "    </tr>\n",
       "    <tr>\n",
       "      <th>2</th>\n",
       "      <td>0.336065</td>\n",
       "      <td>0.621803</td>\n",
       "      <td>1.091630</td>\n",
       "      <td>0.899827</td>\n",
       "      <td>1.089222</td>\n",
       "    </tr>\n",
       "    <tr>\n",
       "      <th>3</th>\n",
       "      <td>0.336065</td>\n",
       "      <td>0.621803</td>\n",
       "      <td>1.091630</td>\n",
       "      <td>0.899827</td>\n",
       "      <td>1.089222</td>\n",
       "    </tr>\n",
       "    <tr>\n",
       "      <th>4</th>\n",
       "      <td>0.336065</td>\n",
       "      <td>0.621803</td>\n",
       "      <td>1.091630</td>\n",
       "      <td>0.899827</td>\n",
       "      <td>1.089222</td>\n",
       "    </tr>\n",
       "    <tr>\n",
       "      <th>...</th>\n",
       "      <td>...</td>\n",
       "      <td>...</td>\n",
       "      <td>...</td>\n",
       "      <td>...</td>\n",
       "      <td>...</td>\n",
       "    </tr>\n",
       "    <tr>\n",
       "      <th>7406</th>\n",
       "      <td>-1.150451</td>\n",
       "      <td>-0.825490</td>\n",
       "      <td>-0.183200</td>\n",
       "      <td>-0.671478</td>\n",
       "      <td>0.514195</td>\n",
       "    </tr>\n",
       "    <tr>\n",
       "      <th>7407</th>\n",
       "      <td>-0.159441</td>\n",
       "      <td>-0.825490</td>\n",
       "      <td>1.729045</td>\n",
       "      <td>0.899827</td>\n",
       "      <td>1.089222</td>\n",
       "    </tr>\n",
       "    <tr>\n",
       "      <th>7408</th>\n",
       "      <td>-1.811125</td>\n",
       "      <td>-0.101844</td>\n",
       "      <td>1.410338</td>\n",
       "      <td>-0.671478</td>\n",
       "      <td>-1.210884</td>\n",
       "    </tr>\n",
       "    <tr>\n",
       "      <th>7409</th>\n",
       "      <td>0.831570</td>\n",
       "      <td>5.687326</td>\n",
       "      <td>-0.820615</td>\n",
       "      <td>0.899827</td>\n",
       "      <td>-1.210884</td>\n",
       "    </tr>\n",
       "    <tr>\n",
       "      <th>7410</th>\n",
       "      <td>1.492244</td>\n",
       "      <td>0.621803</td>\n",
       "      <td>-1.139322</td>\n",
       "      <td>-0.671478</td>\n",
       "      <td>-1.210884</td>\n",
       "    </tr>\n",
       "  </tbody>\n",
       "</table>\n",
       "<p>7411 rows × 5 columns</p>\n",
       "</div>"
      ],
      "text/plain": [
       "      Product_ID    Source  Sales_Agent  Location  Delivery_Mode\n",
       "0       0.336065  0.621803     1.410338  0.899827       1.089222\n",
       "1       0.336065  0.621803     1.091630  0.899827       1.089222\n",
       "2       0.336065  0.621803     1.091630  0.899827       1.089222\n",
       "3       0.336065  0.621803     1.091630  0.899827       1.089222\n",
       "4       0.336065  0.621803     1.091630  0.899827       1.089222\n",
       "...          ...       ...          ...       ...            ...\n",
       "7406   -1.150451 -0.825490    -0.183200 -0.671478       0.514195\n",
       "7407   -0.159441 -0.825490     1.729045  0.899827       1.089222\n",
       "7408   -1.811125 -0.101844     1.410338 -0.671478      -1.210884\n",
       "7409    0.831570  5.687326    -0.820615  0.899827      -1.210884\n",
       "7410    1.492244  0.621803    -1.139322 -0.671478      -1.210884\n",
       "\n",
       "[7411 rows x 5 columns]"
      ]
     },
     "execution_count": 93,
     "metadata": {},
     "output_type": "execute_result"
    }
   ],
   "source": [
    "x"
   ]
  },
  {
   "cell_type": "markdown",
   "id": "1b6047a9-877d-45f4-8e2b-747447c4b7ce",
   "metadata": {},
   "source": [
    "# **Spliting**\n"
   ]
  },
  {
   "cell_type": "code",
   "execution_count": 94,
   "id": "73212d12-d2bb-4aff-a0c8-b5a4b5356dd4",
   "metadata": {},
   "outputs": [],
   "source": [
    "from sklearn.model_selection import train_test_split\n",
    "x_train,x_test,y_train,y_test = train_test_split(x,y,test_size = 0.2,random_state = 42)"
   ]
  },
  {
   "cell_type": "code",
   "execution_count": 95,
   "id": "6385b00b-1c29-4440-a66b-69713344451a",
   "metadata": {},
   "outputs": [
    {
     "data": {
      "text/plain": [
       "(5928, 5)"
      ]
     },
     "execution_count": 95,
     "metadata": {},
     "output_type": "execute_result"
    }
   ],
   "source": [
    "x_train.shape"
   ]
  },
  {
   "cell_type": "code",
   "execution_count": 96,
   "id": "95a2b74a-acd5-478e-ad9c-3f0e6169410a",
   "metadata": {},
   "outputs": [
    {
     "data": {
      "text/html": [
       "<div>\n",
       "<style scoped>\n",
       "    .dataframe tbody tr th:only-of-type {\n",
       "        vertical-align: middle;\n",
       "    }\n",
       "\n",
       "    .dataframe tbody tr th {\n",
       "        vertical-align: top;\n",
       "    }\n",
       "\n",
       "    .dataframe thead th {\n",
       "        text-align: right;\n",
       "    }\n",
       "</style>\n",
       "<table border=\"1\" class=\"dataframe\">\n",
       "  <thead>\n",
       "    <tr style=\"text-align: right;\">\n",
       "      <th></th>\n",
       "      <th>Product_ID</th>\n",
       "      <th>Source</th>\n",
       "      <th>Sales_Agent</th>\n",
       "      <th>Location</th>\n",
       "      <th>Delivery_Mode</th>\n",
       "    </tr>\n",
       "  </thead>\n",
       "  <tbody>\n",
       "    <tr>\n",
       "      <th>7288</th>\n",
       "      <td>1.822581</td>\n",
       "      <td>0.621803</td>\n",
       "      <td>-0.820615</td>\n",
       "      <td>-0.671478</td>\n",
       "      <td>-1.210884</td>\n",
       "    </tr>\n",
       "    <tr>\n",
       "      <th>1049</th>\n",
       "      <td>-0.820114</td>\n",
       "      <td>-0.101844</td>\n",
       "      <td>0.772923</td>\n",
       "      <td>0.899827</td>\n",
       "      <td>-0.060831</td>\n",
       "    </tr>\n",
       "    <tr>\n",
       "      <th>626</th>\n",
       "      <td>0.336065</td>\n",
       "      <td>-0.101844</td>\n",
       "      <td>0.135508</td>\n",
       "      <td>-0.671478</td>\n",
       "      <td>-1.210884</td>\n",
       "    </tr>\n",
       "    <tr>\n",
       "      <th>2018</th>\n",
       "      <td>-0.159441</td>\n",
       "      <td>0.621803</td>\n",
       "      <td>-0.501907</td>\n",
       "      <td>0.899827</td>\n",
       "      <td>-0.060831</td>\n",
       "    </tr>\n",
       "    <tr>\n",
       "      <th>1223</th>\n",
       "      <td>1.822581</td>\n",
       "      <td>-0.825490</td>\n",
       "      <td>0.772923</td>\n",
       "      <td>-0.671478</td>\n",
       "      <td>-1.210884</td>\n",
       "    </tr>\n",
       "    <tr>\n",
       "      <th>...</th>\n",
       "      <td>...</td>\n",
       "      <td>...</td>\n",
       "      <td>...</td>\n",
       "      <td>...</td>\n",
       "      <td>...</td>\n",
       "    </tr>\n",
       "    <tr>\n",
       "      <th>5191</th>\n",
       "      <td>-1.150451</td>\n",
       "      <td>-0.101844</td>\n",
       "      <td>-0.820615</td>\n",
       "      <td>-0.671478</td>\n",
       "      <td>1.089222</td>\n",
       "    </tr>\n",
       "    <tr>\n",
       "      <th>5226</th>\n",
       "      <td>-1.150451</td>\n",
       "      <td>0.621803</td>\n",
       "      <td>-0.820615</td>\n",
       "      <td>0.899827</td>\n",
       "      <td>1.089222</td>\n",
       "    </tr>\n",
       "    <tr>\n",
       "      <th>5390</th>\n",
       "      <td>-0.159441</td>\n",
       "      <td>0.621803</td>\n",
       "      <td>1.410338</td>\n",
       "      <td>0.899827</td>\n",
       "      <td>1.089222</td>\n",
       "    </tr>\n",
       "    <tr>\n",
       "      <th>860</th>\n",
       "      <td>-1.811125</td>\n",
       "      <td>-0.825490</td>\n",
       "      <td>-0.820615</td>\n",
       "      <td>-0.671478</td>\n",
       "      <td>-1.210884</td>\n",
       "    </tr>\n",
       "    <tr>\n",
       "      <th>7270</th>\n",
       "      <td>0.336065</td>\n",
       "      <td>-0.101844</td>\n",
       "      <td>-0.820615</td>\n",
       "      <td>-0.671478</td>\n",
       "      <td>-1.210884</td>\n",
       "    </tr>\n",
       "  </tbody>\n",
       "</table>\n",
       "<p>5928 rows × 5 columns</p>\n",
       "</div>"
      ],
      "text/plain": [
       "      Product_ID    Source  Sales_Agent  Location  Delivery_Mode\n",
       "7288    1.822581  0.621803    -0.820615 -0.671478      -1.210884\n",
       "1049   -0.820114 -0.101844     0.772923  0.899827      -0.060831\n",
       "626     0.336065 -0.101844     0.135508 -0.671478      -1.210884\n",
       "2018   -0.159441  0.621803    -0.501907  0.899827      -0.060831\n",
       "1223    1.822581 -0.825490     0.772923 -0.671478      -1.210884\n",
       "...          ...       ...          ...       ...            ...\n",
       "5191   -1.150451 -0.101844    -0.820615 -0.671478       1.089222\n",
       "5226   -1.150451  0.621803    -0.820615  0.899827       1.089222\n",
       "5390   -0.159441  0.621803     1.410338  0.899827       1.089222\n",
       "860    -1.811125 -0.825490    -0.820615 -0.671478      -1.210884\n",
       "7270    0.336065 -0.101844    -0.820615 -0.671478      -1.210884\n",
       "\n",
       "[5928 rows x 5 columns]"
      ]
     },
     "execution_count": 96,
     "metadata": {},
     "output_type": "execute_result"
    }
   ],
   "source": [
    "x_train"
   ]
  },
  {
   "cell_type": "code",
   "execution_count": 97,
   "id": "bffd36a0-cae7-41c5-91d2-37735f3d0634",
   "metadata": {},
   "outputs": [
    {
     "data": {
      "text/plain": [
       "7299    0\n",
       "1051    0\n",
       "628     0\n",
       "2021    0\n",
       "1225    1\n",
       "       ..\n",
       "5199    0\n",
       "5234    0\n",
       "5399    0\n",
       "862     1\n",
       "7281    0\n",
       "Name: Status, Length: 5928, dtype: int64"
      ]
     },
     "execution_count": 97,
     "metadata": {},
     "output_type": "execute_result"
    }
   ],
   "source": [
    "y_train"
   ]
  },
  {
   "cell_type": "markdown",
   "id": "bfa60b9b-27d3-4812-86f2-ad5010b95583",
   "metadata": {},
   "source": [
    "# **Model Creation**"
   ]
  },
  {
   "cell_type": "code",
   "execution_count": 98,
   "id": "6a5f279f-e894-4cf1-b025-256d711c7379",
   "metadata": {},
   "outputs": [],
   "source": [
    "from sklearn.metrics import accuracy_score,classification_report,f1_score"
   ]
  },
  {
   "cell_type": "markdown",
   "id": "1d054930-afec-40c4-8e45-d010d622a161",
   "metadata": {},
   "source": [
    "# *****Existing Algorithms*****"
   ]
  },
  {
   "cell_type": "markdown",
   "id": "614341da-6257-46c9-9616-7620221d7946",
   "metadata": {},
   "source": [
    "# ***ANN***"
   ]
  },
  {
   "cell_type": "code",
   "execution_count": 99,
   "id": "c8aa48f7-f267-4e07-adc2-eb8016f4b1b6",
   "metadata": {},
   "outputs": [],
   "source": [
    "from sklearn.neural_network import MLPClassifier\n",
    "mlp = MLPClassifier(hidden_layer_sizes = (100,3), max_iter = 50, learning_rate_init = 0.1,random_state = 2)"
   ]
  },
  {
   "cell_type": "code",
   "execution_count": 100,
   "id": "19e80d37-21fc-4900-8ab1-46052c3f99b1",
   "metadata": {},
   "outputs": [
    {
     "data": {
      "text/html": [
       "<style>#sk-container-id-1 {color: black;background-color: white;}#sk-container-id-1 pre{padding: 0;}#sk-container-id-1 div.sk-toggleable {background-color: white;}#sk-container-id-1 label.sk-toggleable__label {cursor: pointer;display: block;width: 100%;margin-bottom: 0;padding: 0.3em;box-sizing: border-box;text-align: center;}#sk-container-id-1 label.sk-toggleable__label-arrow:before {content: \"▸\";float: left;margin-right: 0.25em;color: #696969;}#sk-container-id-1 label.sk-toggleable__label-arrow:hover:before {color: black;}#sk-container-id-1 div.sk-estimator:hover label.sk-toggleable__label-arrow:before {color: black;}#sk-container-id-1 div.sk-toggleable__content {max-height: 0;max-width: 0;overflow: hidden;text-align: left;background-color: #f0f8ff;}#sk-container-id-1 div.sk-toggleable__content pre {margin: 0.2em;color: black;border-radius: 0.25em;background-color: #f0f8ff;}#sk-container-id-1 input.sk-toggleable__control:checked~div.sk-toggleable__content {max-height: 200px;max-width: 100%;overflow: auto;}#sk-container-id-1 input.sk-toggleable__control:checked~label.sk-toggleable__label-arrow:before {content: \"▾\";}#sk-container-id-1 div.sk-estimator input.sk-toggleable__control:checked~label.sk-toggleable__label {background-color: #d4ebff;}#sk-container-id-1 div.sk-label input.sk-toggleable__control:checked~label.sk-toggleable__label {background-color: #d4ebff;}#sk-container-id-1 input.sk-hidden--visually {border: 0;clip: rect(1px 1px 1px 1px);clip: rect(1px, 1px, 1px, 1px);height: 1px;margin: -1px;overflow: hidden;padding: 0;position: absolute;width: 1px;}#sk-container-id-1 div.sk-estimator {font-family: monospace;background-color: #f0f8ff;border: 1px dotted black;border-radius: 0.25em;box-sizing: border-box;margin-bottom: 0.5em;}#sk-container-id-1 div.sk-estimator:hover {background-color: #d4ebff;}#sk-container-id-1 div.sk-parallel-item::after {content: \"\";width: 100%;border-bottom: 1px solid gray;flex-grow: 1;}#sk-container-id-1 div.sk-label:hover label.sk-toggleable__label {background-color: #d4ebff;}#sk-container-id-1 div.sk-serial::before {content: \"\";position: absolute;border-left: 1px solid gray;box-sizing: border-box;top: 0;bottom: 0;left: 50%;z-index: 0;}#sk-container-id-1 div.sk-serial {display: flex;flex-direction: column;align-items: center;background-color: white;padding-right: 0.2em;padding-left: 0.2em;position: relative;}#sk-container-id-1 div.sk-item {position: relative;z-index: 1;}#sk-container-id-1 div.sk-parallel {display: flex;align-items: stretch;justify-content: center;background-color: white;position: relative;}#sk-container-id-1 div.sk-item::before, #sk-container-id-1 div.sk-parallel-item::before {content: \"\";position: absolute;border-left: 1px solid gray;box-sizing: border-box;top: 0;bottom: 0;left: 50%;z-index: -1;}#sk-container-id-1 div.sk-parallel-item {display: flex;flex-direction: column;z-index: 1;position: relative;background-color: white;}#sk-container-id-1 div.sk-parallel-item:first-child::after {align-self: flex-end;width: 50%;}#sk-container-id-1 div.sk-parallel-item:last-child::after {align-self: flex-start;width: 50%;}#sk-container-id-1 div.sk-parallel-item:only-child::after {width: 0;}#sk-container-id-1 div.sk-dashed-wrapped {border: 1px dashed gray;margin: 0 0.4em 0.5em 0.4em;box-sizing: border-box;padding-bottom: 0.4em;background-color: white;}#sk-container-id-1 div.sk-label label {font-family: monospace;font-weight: bold;display: inline-block;line-height: 1.2em;}#sk-container-id-1 div.sk-label-container {text-align: center;}#sk-container-id-1 div.sk-container {/* jupyter's `normalize.less` sets `[hidden] { display: none; }` but bootstrap.min.css set `[hidden] { display: none !important; }` so we also need the `!important` here to be able to override the default hidden behavior on the sphinx rendered scikit-learn.org. See: https://github.com/scikit-learn/scikit-learn/issues/21755 */display: inline-block !important;position: relative;}#sk-container-id-1 div.sk-text-repr-fallback {display: none;}</style><div id=\"sk-container-id-1\" class=\"sk-top-container\"><div class=\"sk-text-repr-fallback\"><pre>MLPClassifier(hidden_layer_sizes=(100, 3), learning_rate_init=0.1, max_iter=50,\n",
       "              random_state=2)</pre><b>In a Jupyter environment, please rerun this cell to show the HTML representation or trust the notebook. <br />On GitHub, the HTML representation is unable to render, please try loading this page with nbviewer.org.</b></div><div class=\"sk-container\" hidden><div class=\"sk-item\"><div class=\"sk-estimator sk-toggleable\"><input class=\"sk-toggleable__control sk-hidden--visually\" id=\"sk-estimator-id-1\" type=\"checkbox\" checked><label for=\"sk-estimator-id-1\" class=\"sk-toggleable__label sk-toggleable__label-arrow\">MLPClassifier</label><div class=\"sk-toggleable__content\"><pre>MLPClassifier(hidden_layer_sizes=(100, 3), learning_rate_init=0.1, max_iter=50,\n",
       "              random_state=2)</pre></div></div></div></div></div>"
      ],
      "text/plain": [
       "MLPClassifier(hidden_layer_sizes=(100, 3), learning_rate_init=0.1, max_iter=50,\n",
       "              random_state=2)"
      ]
     },
     "execution_count": 100,
     "metadata": {},
     "output_type": "execute_result"
    }
   ],
   "source": [
    "mlp.fit(x_train,y_train)"
   ]
  },
  {
   "cell_type": "code",
   "execution_count": 101,
   "id": "5554ac8d-5511-4f85-95ca-c2cf6e49dd64",
   "metadata": {},
   "outputs": [
    {
     "data": {
      "text/plain": [
       "array([0, 0, 1, ..., 0, 0, 0], dtype=int64)"
      ]
     },
     "execution_count": 101,
     "metadata": {},
     "output_type": "execute_result"
    }
   ],
   "source": [
    "#Testing\n",
    "y1_pred = mlp.predict(x_test)\n",
    "y1_pred"
   ]
  },
  {
   "cell_type": "code",
   "execution_count": 102,
   "id": "66546a59-d1de-4bfa-9d49-bd59c45380c7",
   "metadata": {},
   "outputs": [
    {
     "data": {
      "text/plain": [
       "array([0, 0, 1, ..., 0, 0, 0], dtype=int64)"
      ]
     },
     "execution_count": 102,
     "metadata": {},
     "output_type": "execute_result"
    }
   ],
   "source": [
    "#Training\n",
    "x1_pred = mlp.predict(x_train)\n",
    "x1_pred"
   ]
  },
  {
   "cell_type": "code",
   "execution_count": 103,
   "id": "4db6c2ae-f55a-45fe-857a-2e5087e00311",
   "metadata": {},
   "outputs": [
    {
     "name": "stdout",
     "output_type": "stream",
     "text": [
      "Trianing score:0.6825236167341431\n",
      "Testing score:0.6911665542818611\n"
     ]
    }
   ],
   "source": [
    "print(f'Trianing score:{accuracy_score(y_train,x1_pred)}')\n",
    "print(f'Testing score:{accuracy_score(y_test,y1_pred)}')"
   ]
  },
  {
   "cell_type": "code",
   "execution_count": 104,
   "id": "8dd5afff-7c76-4c47-9895-bf4e0458ed84",
   "metadata": {},
   "outputs": [
    {
     "name": "stdout",
     "output_type": "stream",
     "text": [
      "TR:              precision    recall  f1-score   support\n",
      "\n",
      "           0       0.70      0.84      0.76      3580\n",
      "           1       0.64      0.45      0.53      2348\n",
      "\n",
      "    accuracy                           0.68      5928\n",
      "   macro avg       0.67      0.64      0.64      5928\n",
      "weighted avg       0.68      0.68      0.67      5928\n",
      "\n",
      "TE:              precision    recall  f1-score   support\n",
      "\n",
      "           0       0.70      0.86      0.77       903\n",
      "           1       0.66      0.43      0.52       580\n",
      "\n",
      "    accuracy                           0.69      1483\n",
      "   macro avg       0.68      0.64      0.65      1483\n",
      "weighted avg       0.69      0.69      0.67      1483\n",
      "\n"
     ]
    }
   ],
   "source": [
    "print(f'TR:{classification_report(y_train,x1_pred)}')\n",
    "print(f'TE:{classification_report(y_test,y1_pred)}')"
   ]
  },
  {
   "cell_type": "markdown",
   "id": "dffbeec9-1a04-4258-9224-8b663c43fbd1",
   "metadata": {},
   "source": [
    "#### **This model performs good but little overfitted because ANN model needs large amount data.**"
   ]
  },
  {
   "cell_type": "markdown",
   "id": "e9d33b2c-e5fb-4fcd-8502-2e28caa6c1d7",
   "metadata": {},
   "source": [
    "# ***SVC***"
   ]
  },
  {
   "cell_type": "code",
   "execution_count": 105,
   "id": "c1d6053e-2bf6-40fe-8aee-171324f3867f",
   "metadata": {},
   "outputs": [],
   "source": [
    "from sklearn.svm import SVC\n",
    "sv = SVC()"
   ]
  },
  {
   "cell_type": "code",
   "execution_count": 106,
   "id": "57c22baa-3f26-4fcd-bbb7-058f74e4eb8a",
   "metadata": {},
   "outputs": [
    {
     "data": {
      "text/html": [
       "<style>#sk-container-id-2 {color: black;background-color: white;}#sk-container-id-2 pre{padding: 0;}#sk-container-id-2 div.sk-toggleable {background-color: white;}#sk-container-id-2 label.sk-toggleable__label {cursor: pointer;display: block;width: 100%;margin-bottom: 0;padding: 0.3em;box-sizing: border-box;text-align: center;}#sk-container-id-2 label.sk-toggleable__label-arrow:before {content: \"▸\";float: left;margin-right: 0.25em;color: #696969;}#sk-container-id-2 label.sk-toggleable__label-arrow:hover:before {color: black;}#sk-container-id-2 div.sk-estimator:hover label.sk-toggleable__label-arrow:before {color: black;}#sk-container-id-2 div.sk-toggleable__content {max-height: 0;max-width: 0;overflow: hidden;text-align: left;background-color: #f0f8ff;}#sk-container-id-2 div.sk-toggleable__content pre {margin: 0.2em;color: black;border-radius: 0.25em;background-color: #f0f8ff;}#sk-container-id-2 input.sk-toggleable__control:checked~div.sk-toggleable__content {max-height: 200px;max-width: 100%;overflow: auto;}#sk-container-id-2 input.sk-toggleable__control:checked~label.sk-toggleable__label-arrow:before {content: \"▾\";}#sk-container-id-2 div.sk-estimator input.sk-toggleable__control:checked~label.sk-toggleable__label {background-color: #d4ebff;}#sk-container-id-2 div.sk-label input.sk-toggleable__control:checked~label.sk-toggleable__label {background-color: #d4ebff;}#sk-container-id-2 input.sk-hidden--visually {border: 0;clip: rect(1px 1px 1px 1px);clip: rect(1px, 1px, 1px, 1px);height: 1px;margin: -1px;overflow: hidden;padding: 0;position: absolute;width: 1px;}#sk-container-id-2 div.sk-estimator {font-family: monospace;background-color: #f0f8ff;border: 1px dotted black;border-radius: 0.25em;box-sizing: border-box;margin-bottom: 0.5em;}#sk-container-id-2 div.sk-estimator:hover {background-color: #d4ebff;}#sk-container-id-2 div.sk-parallel-item::after {content: \"\";width: 100%;border-bottom: 1px solid gray;flex-grow: 1;}#sk-container-id-2 div.sk-label:hover label.sk-toggleable__label {background-color: #d4ebff;}#sk-container-id-2 div.sk-serial::before {content: \"\";position: absolute;border-left: 1px solid gray;box-sizing: border-box;top: 0;bottom: 0;left: 50%;z-index: 0;}#sk-container-id-2 div.sk-serial {display: flex;flex-direction: column;align-items: center;background-color: white;padding-right: 0.2em;padding-left: 0.2em;position: relative;}#sk-container-id-2 div.sk-item {position: relative;z-index: 1;}#sk-container-id-2 div.sk-parallel {display: flex;align-items: stretch;justify-content: center;background-color: white;position: relative;}#sk-container-id-2 div.sk-item::before, #sk-container-id-2 div.sk-parallel-item::before {content: \"\";position: absolute;border-left: 1px solid gray;box-sizing: border-box;top: 0;bottom: 0;left: 50%;z-index: -1;}#sk-container-id-2 div.sk-parallel-item {display: flex;flex-direction: column;z-index: 1;position: relative;background-color: white;}#sk-container-id-2 div.sk-parallel-item:first-child::after {align-self: flex-end;width: 50%;}#sk-container-id-2 div.sk-parallel-item:last-child::after {align-self: flex-start;width: 50%;}#sk-container-id-2 div.sk-parallel-item:only-child::after {width: 0;}#sk-container-id-2 div.sk-dashed-wrapped {border: 1px dashed gray;margin: 0 0.4em 0.5em 0.4em;box-sizing: border-box;padding-bottom: 0.4em;background-color: white;}#sk-container-id-2 div.sk-label label {font-family: monospace;font-weight: bold;display: inline-block;line-height: 1.2em;}#sk-container-id-2 div.sk-label-container {text-align: center;}#sk-container-id-2 div.sk-container {/* jupyter's `normalize.less` sets `[hidden] { display: none; }` but bootstrap.min.css set `[hidden] { display: none !important; }` so we also need the `!important` here to be able to override the default hidden behavior on the sphinx rendered scikit-learn.org. See: https://github.com/scikit-learn/scikit-learn/issues/21755 */display: inline-block !important;position: relative;}#sk-container-id-2 div.sk-text-repr-fallback {display: none;}</style><div id=\"sk-container-id-2\" class=\"sk-top-container\"><div class=\"sk-text-repr-fallback\"><pre>SVC()</pre><b>In a Jupyter environment, please rerun this cell to show the HTML representation or trust the notebook. <br />On GitHub, the HTML representation is unable to render, please try loading this page with nbviewer.org.</b></div><div class=\"sk-container\" hidden><div class=\"sk-item\"><div class=\"sk-estimator sk-toggleable\"><input class=\"sk-toggleable__control sk-hidden--visually\" id=\"sk-estimator-id-2\" type=\"checkbox\" checked><label for=\"sk-estimator-id-2\" class=\"sk-toggleable__label sk-toggleable__label-arrow\">SVC</label><div class=\"sk-toggleable__content\"><pre>SVC()</pre></div></div></div></div></div>"
      ],
      "text/plain": [
       "SVC()"
      ]
     },
     "execution_count": 106,
     "metadata": {},
     "output_type": "execute_result"
    }
   ],
   "source": [
    "sv.fit(x_train,y_train)"
   ]
  },
  {
   "cell_type": "code",
   "execution_count": 107,
   "id": "7ff95101-ff98-4797-b096-afd94e096514",
   "metadata": {},
   "outputs": [
    {
     "data": {
      "text/plain": [
       "array([0, 0, 1, ..., 0, 0, 0], dtype=int64)"
      ]
     },
     "execution_count": 107,
     "metadata": {},
     "output_type": "execute_result"
    }
   ],
   "source": [
    "#Testing\n",
    "y2_pred = sv.predict(x_test)\n",
    "y2_pred"
   ]
  },
  {
   "cell_type": "code",
   "execution_count": 108,
   "id": "0f5b3c4d-c09e-4ed8-bb17-e68c044ce0dd",
   "metadata": {},
   "outputs": [
    {
     "data": {
      "text/plain": [
       "array([0, 0, 1, ..., 0, 0, 1], dtype=int64)"
      ]
     },
     "execution_count": 108,
     "metadata": {},
     "output_type": "execute_result"
    }
   ],
   "source": [
    "#Training\n",
    "x2_pred = sv.predict(x_train)\n",
    "x2_pred"
   ]
  },
  {
   "cell_type": "code",
   "execution_count": 109,
   "id": "f818d119-be27-4c6c-acbf-1405f4a37542",
   "metadata": {},
   "outputs": [
    {
     "name": "stdout",
     "output_type": "stream",
     "text": [
      "Training score:0.6950067476383266\n",
      "Testing score:0.6958867161159811\n"
     ]
    }
   ],
   "source": [
    "print(f'Training score:{accuracy_score(y_train,x2_pred)}')\n",
    "print(f'Testing score:{accuracy_score(y_test,y2_pred)}')"
   ]
  },
  {
   "cell_type": "code",
   "execution_count": 110,
   "id": "4f4c2344-f89a-43f5-b94f-5f4fbcee1f6a",
   "metadata": {},
   "outputs": [
    {
     "name": "stdout",
     "output_type": "stream",
     "text": [
      "Tr:              precision    recall  f1-score   support\n",
      "\n",
      "           0       0.70      0.85      0.77      3580\n",
      "           1       0.67      0.45      0.54      2348\n",
      "\n",
      "    accuracy                           0.70      5928\n",
      "   macro avg       0.69      0.65      0.66      5928\n",
      "weighted avg       0.69      0.70      0.68      5928\n",
      "\n",
      "Ts:              precision    recall  f1-score   support\n",
      "\n",
      "           0       0.71      0.85      0.77       903\n",
      "           1       0.66      0.45      0.54       580\n",
      "\n",
      "    accuracy                           0.70      1483\n",
      "   macro avg       0.69      0.65      0.65      1483\n",
      "weighted avg       0.69      0.70      0.68      1483\n",
      "\n"
     ]
    }
   ],
   "source": [
    "print(f'Tr:{classification_report(y_train,x2_pred)}')\n",
    "print(f'Ts:{classification_report(y_test,y2_pred)}')"
   ]
  },
  {
   "cell_type": "markdown",
   "id": "ea98d823-300b-41d5-8eb1-5a25ebacc0e6",
   "metadata": {},
   "source": [
    "# ****Cross valid score****"
   ]
  },
  {
   "cell_type": "code",
   "execution_count": 111,
   "id": "b4fe77b2-da5c-4150-802e-af44e3c52e2e",
   "metadata": {},
   "outputs": [
    {
     "name": "stdout",
     "output_type": "stream",
     "text": [
      "[0.4043051  0.54018006]\n",
      "c_v_s: 0.47224258031416805\n",
      "std: 0.06793747970583858\n"
     ]
    }
   ],
   "source": [
    "from sklearn.model_selection import cross_val_score\n",
    "score = cross_val_score(sv,x,y,cv = 2,scoring = 'f1')\n",
    "print(score)\n",
    "print('c_v_s:',score.mean())\n",
    "print('std:',score.std())\n",
    "#std of < 0.05 is good model"
   ]
  },
  {
   "cell_type": "markdown",
   "id": "27e6a507-d252-478e-b85b-d08432d5a1de",
   "metadata": {},
   "source": [
    "### ***SVC is not fit for this data.***"
   ]
  },
  {
   "cell_type": "markdown",
   "id": "44b97ef5-27dc-45b3-af24-cfd42ccc4ce2",
   "metadata": {},
   "source": [
    "# ***Proposed Algorithms***"
   ]
  },
  {
   "cell_type": "markdown",
   "id": "d57c2c85-b76f-4841-a636-09be6e30cdd3",
   "metadata": {},
   "source": [
    "# ***DecisionTreeClassifier***"
   ]
  },
  {
   "cell_type": "code",
   "execution_count": 112,
   "id": "dad1d518-6a4e-4f17-80c6-89390252895c",
   "metadata": {},
   "outputs": [
    {
     "data": {
      "text/html": [
       "<style>#sk-container-id-3 {color: black;background-color: white;}#sk-container-id-3 pre{padding: 0;}#sk-container-id-3 div.sk-toggleable {background-color: white;}#sk-container-id-3 label.sk-toggleable__label {cursor: pointer;display: block;width: 100%;margin-bottom: 0;padding: 0.3em;box-sizing: border-box;text-align: center;}#sk-container-id-3 label.sk-toggleable__label-arrow:before {content: \"▸\";float: left;margin-right: 0.25em;color: #696969;}#sk-container-id-3 label.sk-toggleable__label-arrow:hover:before {color: black;}#sk-container-id-3 div.sk-estimator:hover label.sk-toggleable__label-arrow:before {color: black;}#sk-container-id-3 div.sk-toggleable__content {max-height: 0;max-width: 0;overflow: hidden;text-align: left;background-color: #f0f8ff;}#sk-container-id-3 div.sk-toggleable__content pre {margin: 0.2em;color: black;border-radius: 0.25em;background-color: #f0f8ff;}#sk-container-id-3 input.sk-toggleable__control:checked~div.sk-toggleable__content {max-height: 200px;max-width: 100%;overflow: auto;}#sk-container-id-3 input.sk-toggleable__control:checked~label.sk-toggleable__label-arrow:before {content: \"▾\";}#sk-container-id-3 div.sk-estimator input.sk-toggleable__control:checked~label.sk-toggleable__label {background-color: #d4ebff;}#sk-container-id-3 div.sk-label input.sk-toggleable__control:checked~label.sk-toggleable__label {background-color: #d4ebff;}#sk-container-id-3 input.sk-hidden--visually {border: 0;clip: rect(1px 1px 1px 1px);clip: rect(1px, 1px, 1px, 1px);height: 1px;margin: -1px;overflow: hidden;padding: 0;position: absolute;width: 1px;}#sk-container-id-3 div.sk-estimator {font-family: monospace;background-color: #f0f8ff;border: 1px dotted black;border-radius: 0.25em;box-sizing: border-box;margin-bottom: 0.5em;}#sk-container-id-3 div.sk-estimator:hover {background-color: #d4ebff;}#sk-container-id-3 div.sk-parallel-item::after {content: \"\";width: 100%;border-bottom: 1px solid gray;flex-grow: 1;}#sk-container-id-3 div.sk-label:hover label.sk-toggleable__label {background-color: #d4ebff;}#sk-container-id-3 div.sk-serial::before {content: \"\";position: absolute;border-left: 1px solid gray;box-sizing: border-box;top: 0;bottom: 0;left: 50%;z-index: 0;}#sk-container-id-3 div.sk-serial {display: flex;flex-direction: column;align-items: center;background-color: white;padding-right: 0.2em;padding-left: 0.2em;position: relative;}#sk-container-id-3 div.sk-item {position: relative;z-index: 1;}#sk-container-id-3 div.sk-parallel {display: flex;align-items: stretch;justify-content: center;background-color: white;position: relative;}#sk-container-id-3 div.sk-item::before, #sk-container-id-3 div.sk-parallel-item::before {content: \"\";position: absolute;border-left: 1px solid gray;box-sizing: border-box;top: 0;bottom: 0;left: 50%;z-index: -1;}#sk-container-id-3 div.sk-parallel-item {display: flex;flex-direction: column;z-index: 1;position: relative;background-color: white;}#sk-container-id-3 div.sk-parallel-item:first-child::after {align-self: flex-end;width: 50%;}#sk-container-id-3 div.sk-parallel-item:last-child::after {align-self: flex-start;width: 50%;}#sk-container-id-3 div.sk-parallel-item:only-child::after {width: 0;}#sk-container-id-3 div.sk-dashed-wrapped {border: 1px dashed gray;margin: 0 0.4em 0.5em 0.4em;box-sizing: border-box;padding-bottom: 0.4em;background-color: white;}#sk-container-id-3 div.sk-label label {font-family: monospace;font-weight: bold;display: inline-block;line-height: 1.2em;}#sk-container-id-3 div.sk-label-container {text-align: center;}#sk-container-id-3 div.sk-container {/* jupyter's `normalize.less` sets `[hidden] { display: none; }` but bootstrap.min.css set `[hidden] { display: none !important; }` so we also need the `!important` here to be able to override the default hidden behavior on the sphinx rendered scikit-learn.org. See: https://github.com/scikit-learn/scikit-learn/issues/21755 */display: inline-block !important;position: relative;}#sk-container-id-3 div.sk-text-repr-fallback {display: none;}</style><div id=\"sk-container-id-3\" class=\"sk-top-container\"><div class=\"sk-text-repr-fallback\"><pre>DecisionTreeClassifier()</pre><b>In a Jupyter environment, please rerun this cell to show the HTML representation or trust the notebook. <br />On GitHub, the HTML representation is unable to render, please try loading this page with nbviewer.org.</b></div><div class=\"sk-container\" hidden><div class=\"sk-item\"><div class=\"sk-estimator sk-toggleable\"><input class=\"sk-toggleable__control sk-hidden--visually\" id=\"sk-estimator-id-3\" type=\"checkbox\" checked><label for=\"sk-estimator-id-3\" class=\"sk-toggleable__label sk-toggleable__label-arrow\">DecisionTreeClassifier</label><div class=\"sk-toggleable__content\"><pre>DecisionTreeClassifier()</pre></div></div></div></div></div>"
      ],
      "text/plain": [
       "DecisionTreeClassifier()"
      ]
     },
     "execution_count": 112,
     "metadata": {},
     "output_type": "execute_result"
    }
   ],
   "source": [
    "from sklearn.tree import DecisionTreeClassifier\n",
    "te = DecisionTreeClassifier()\n",
    "te.fit(x_train,y_train)"
   ]
  },
  {
   "cell_type": "code",
   "execution_count": 113,
   "id": "5c0c5752-3d07-4eb2-9c85-f12d05a6df9c",
   "metadata": {},
   "outputs": [
    {
     "data": {
      "text/plain": [
       "array([0, 0, 0, ..., 0, 0, 0], dtype=int64)"
      ]
     },
     "execution_count": 113,
     "metadata": {},
     "output_type": "execute_result"
    }
   ],
   "source": [
    "pred1 = te.predict(x_test)\n",
    "pred1"
   ]
  },
  {
   "cell_type": "code",
   "execution_count": 114,
   "id": "ce542e43-0db0-4a65-98ea-4a2013e8196a",
   "metadata": {},
   "outputs": [
    {
     "data": {
      "text/plain": [
       "array([0, 0, 1, ..., 0, 0, 1], dtype=int64)"
      ]
     },
     "execution_count": 114,
     "metadata": {},
     "output_type": "execute_result"
    }
   ],
   "source": [
    "p_train1 = te.predict(x_train)\n",
    "p_train1"
   ]
  },
  {
   "cell_type": "code",
   "execution_count": 115,
   "id": "cce525ac-8c92-42c8-a4d9-5af342cffb10",
   "metadata": {},
   "outputs": [
    {
     "name": "stdout",
     "output_type": "stream",
     "text": [
      " Training score:0.7828947368421053\n",
      " Testing score:0.7161159811193527\n"
     ]
    }
   ],
   "source": [
    "#Scores\n",
    "#Training score\n",
    "train2 =  accuracy_score(y_train,p_train1)\n",
    "print(f' Training score:{train2}')\n",
    "test2 = accuracy_score(y_test,pred1)\n",
    "print(f' Testing score:{test2}')"
   ]
  },
  {
   "cell_type": "code",
   "execution_count": 116,
   "id": "6208c77f-93d3-495b-8d37-0e61956a106a",
   "metadata": {},
   "outputs": [
    {
     "name": "stdout",
     "output_type": "stream",
     "text": [
      "Ts:              precision    recall  f1-score   support\n",
      "\n",
      "           0       0.79      0.88      0.83      3580\n",
      "           1       0.77      0.64      0.70      2348\n",
      "\n",
      "    accuracy                           0.78      5928\n",
      "   macro avg       0.78      0.76      0.77      5928\n",
      "weighted avg       0.78      0.78      0.78      5928\n",
      "\n",
      "T:              precision    recall  f1-score   support\n",
      "\n",
      "           0       0.74      0.82      0.78       903\n",
      "           1       0.66      0.55      0.60       580\n",
      "\n",
      "    accuracy                           0.72      1483\n",
      "   macro avg       0.70      0.69      0.69      1483\n",
      "weighted avg       0.71      0.72      0.71      1483\n",
      "\n"
     ]
    }
   ],
   "source": [
    "#report\n",
    "print(f'Ts:{classification_report(y_train,p_train1)}')\n",
    "print(f'T:{classification_report(y_test,pred1)}')"
   ]
  },
  {
   "cell_type": "markdown",
   "id": "20a90dae-0911-40dc-89dc-1dcb147af779",
   "metadata": {},
   "source": [
    "# ***Hyper parameter tunning***"
   ]
  },
  {
   "cell_type": "code",
   "execution_count": 117,
   "id": "0c214884-9739-4a2c-a461-d9822ea1be77",
   "metadata": {},
   "outputs": [
    {
     "data": {
      "text/html": [
       "<style>#sk-container-id-4 {color: black;background-color: white;}#sk-container-id-4 pre{padding: 0;}#sk-container-id-4 div.sk-toggleable {background-color: white;}#sk-container-id-4 label.sk-toggleable__label {cursor: pointer;display: block;width: 100%;margin-bottom: 0;padding: 0.3em;box-sizing: border-box;text-align: center;}#sk-container-id-4 label.sk-toggleable__label-arrow:before {content: \"▸\";float: left;margin-right: 0.25em;color: #696969;}#sk-container-id-4 label.sk-toggleable__label-arrow:hover:before {color: black;}#sk-container-id-4 div.sk-estimator:hover label.sk-toggleable__label-arrow:before {color: black;}#sk-container-id-4 div.sk-toggleable__content {max-height: 0;max-width: 0;overflow: hidden;text-align: left;background-color: #f0f8ff;}#sk-container-id-4 div.sk-toggleable__content pre {margin: 0.2em;color: black;border-radius: 0.25em;background-color: #f0f8ff;}#sk-container-id-4 input.sk-toggleable__control:checked~div.sk-toggleable__content {max-height: 200px;max-width: 100%;overflow: auto;}#sk-container-id-4 input.sk-toggleable__control:checked~label.sk-toggleable__label-arrow:before {content: \"▾\";}#sk-container-id-4 div.sk-estimator input.sk-toggleable__control:checked~label.sk-toggleable__label {background-color: #d4ebff;}#sk-container-id-4 div.sk-label input.sk-toggleable__control:checked~label.sk-toggleable__label {background-color: #d4ebff;}#sk-container-id-4 input.sk-hidden--visually {border: 0;clip: rect(1px 1px 1px 1px);clip: rect(1px, 1px, 1px, 1px);height: 1px;margin: -1px;overflow: hidden;padding: 0;position: absolute;width: 1px;}#sk-container-id-4 div.sk-estimator {font-family: monospace;background-color: #f0f8ff;border: 1px dotted black;border-radius: 0.25em;box-sizing: border-box;margin-bottom: 0.5em;}#sk-container-id-4 div.sk-estimator:hover {background-color: #d4ebff;}#sk-container-id-4 div.sk-parallel-item::after {content: \"\";width: 100%;border-bottom: 1px solid gray;flex-grow: 1;}#sk-container-id-4 div.sk-label:hover label.sk-toggleable__label {background-color: #d4ebff;}#sk-container-id-4 div.sk-serial::before {content: \"\";position: absolute;border-left: 1px solid gray;box-sizing: border-box;top: 0;bottom: 0;left: 50%;z-index: 0;}#sk-container-id-4 div.sk-serial {display: flex;flex-direction: column;align-items: center;background-color: white;padding-right: 0.2em;padding-left: 0.2em;position: relative;}#sk-container-id-4 div.sk-item {position: relative;z-index: 1;}#sk-container-id-4 div.sk-parallel {display: flex;align-items: stretch;justify-content: center;background-color: white;position: relative;}#sk-container-id-4 div.sk-item::before, #sk-container-id-4 div.sk-parallel-item::before {content: \"\";position: absolute;border-left: 1px solid gray;box-sizing: border-box;top: 0;bottom: 0;left: 50%;z-index: -1;}#sk-container-id-4 div.sk-parallel-item {display: flex;flex-direction: column;z-index: 1;position: relative;background-color: white;}#sk-container-id-4 div.sk-parallel-item:first-child::after {align-self: flex-end;width: 50%;}#sk-container-id-4 div.sk-parallel-item:last-child::after {align-self: flex-start;width: 50%;}#sk-container-id-4 div.sk-parallel-item:only-child::after {width: 0;}#sk-container-id-4 div.sk-dashed-wrapped {border: 1px dashed gray;margin: 0 0.4em 0.5em 0.4em;box-sizing: border-box;padding-bottom: 0.4em;background-color: white;}#sk-container-id-4 div.sk-label label {font-family: monospace;font-weight: bold;display: inline-block;line-height: 1.2em;}#sk-container-id-4 div.sk-label-container {text-align: center;}#sk-container-id-4 div.sk-container {/* jupyter's `normalize.less` sets `[hidden] { display: none; }` but bootstrap.min.css set `[hidden] { display: none !important; }` so we also need the `!important` here to be able to override the default hidden behavior on the sphinx rendered scikit-learn.org. See: https://github.com/scikit-learn/scikit-learn/issues/21755 */display: inline-block !important;position: relative;}#sk-container-id-4 div.sk-text-repr-fallback {display: none;}</style><div id=\"sk-container-id-4\" class=\"sk-top-container\"><div class=\"sk-text-repr-fallback\"><pre>GridSearchCV(cv=5, estimator=DecisionTreeClassifier(),\n",
       "             param_grid={&#x27;criterion&#x27;: [&#x27;gini&#x27;, &#x27;entropy&#x27;],\n",
       "                         &#x27;max_depth&#x27;: [None, 5, 10, 15],\n",
       "                         &#x27;min_samples_leaf&#x27;: [1, 2, 4],\n",
       "                         &#x27;min_samples_split&#x27;: [2, 5, 10]},\n",
       "             scoring=&#x27;f1&#x27;)</pre><b>In a Jupyter environment, please rerun this cell to show the HTML representation or trust the notebook. <br />On GitHub, the HTML representation is unable to render, please try loading this page with nbviewer.org.</b></div><div class=\"sk-container\" hidden><div class=\"sk-item sk-dashed-wrapped\"><div class=\"sk-label-container\"><div class=\"sk-label sk-toggleable\"><input class=\"sk-toggleable__control sk-hidden--visually\" id=\"sk-estimator-id-4\" type=\"checkbox\" ><label for=\"sk-estimator-id-4\" class=\"sk-toggleable__label sk-toggleable__label-arrow\">GridSearchCV</label><div class=\"sk-toggleable__content\"><pre>GridSearchCV(cv=5, estimator=DecisionTreeClassifier(),\n",
       "             param_grid={&#x27;criterion&#x27;: [&#x27;gini&#x27;, &#x27;entropy&#x27;],\n",
       "                         &#x27;max_depth&#x27;: [None, 5, 10, 15],\n",
       "                         &#x27;min_samples_leaf&#x27;: [1, 2, 4],\n",
       "                         &#x27;min_samples_split&#x27;: [2, 5, 10]},\n",
       "             scoring=&#x27;f1&#x27;)</pre></div></div></div><div class=\"sk-parallel\"><div class=\"sk-parallel-item\"><div class=\"sk-item\"><div class=\"sk-label-container\"><div class=\"sk-label sk-toggleable\"><input class=\"sk-toggleable__control sk-hidden--visually\" id=\"sk-estimator-id-5\" type=\"checkbox\" ><label for=\"sk-estimator-id-5\" class=\"sk-toggleable__label sk-toggleable__label-arrow\">estimator: DecisionTreeClassifier</label><div class=\"sk-toggleable__content\"><pre>DecisionTreeClassifier()</pre></div></div></div><div class=\"sk-serial\"><div class=\"sk-item\"><div class=\"sk-estimator sk-toggleable\"><input class=\"sk-toggleable__control sk-hidden--visually\" id=\"sk-estimator-id-6\" type=\"checkbox\" ><label for=\"sk-estimator-id-6\" class=\"sk-toggleable__label sk-toggleable__label-arrow\">DecisionTreeClassifier</label><div class=\"sk-toggleable__content\"><pre>DecisionTreeClassifier()</pre></div></div></div></div></div></div></div></div></div></div>"
      ],
      "text/plain": [
       "GridSearchCV(cv=5, estimator=DecisionTreeClassifier(),\n",
       "             param_grid={'criterion': ['gini', 'entropy'],\n",
       "                         'max_depth': [None, 5, 10, 15],\n",
       "                         'min_samples_leaf': [1, 2, 4],\n",
       "                         'min_samples_split': [2, 5, 10]},\n",
       "             scoring='f1')"
      ]
     },
     "execution_count": 117,
     "metadata": {},
     "output_type": "execute_result"
    }
   ],
   "source": [
    "from sklearn.model_selection import GridSearchCV\n",
    "param_grid = {\n",
    "    'max_depth': [None, 5, 10, 15],\n",
    "    'min_samples_split': [2, 5, 10],\n",
    "    'min_samples_leaf': [1, 2, 4],\n",
    "    'criterion': ['gini', 'entropy']}\n",
    "dc = DecisionTreeClassifier()\n",
    "ad = GridSearchCV(dc,param_grid,scoring = 'f1',cv = 5)\n",
    "ad.fit(x_train,y_train)"
   ]
  },
  {
   "cell_type": "code",
   "execution_count": 118,
   "id": "944dd742-1e82-4fde-aa9d-4d18e803657e",
   "metadata": {},
   "outputs": [
    {
     "name": "stdout",
     "output_type": "stream",
     "text": [
      "Best parameter:{'criterion': 'entropy', 'max_depth': 10, 'min_samples_leaf': 1, 'min_samples_split': 10}\n"
     ]
    }
   ],
   "source": [
    "best_para1 = ad.best_params_\n",
    "print(f'Best parameter:{best_para1}')"
   ]
  },
  {
   "cell_type": "code",
   "execution_count": 119,
   "id": "ab86c88e-c49a-4682-91a1-ac11c7fadead",
   "metadata": {},
   "outputs": [
    {
     "data": {
      "text/html": [
       "<style>#sk-container-id-5 {color: black;background-color: white;}#sk-container-id-5 pre{padding: 0;}#sk-container-id-5 div.sk-toggleable {background-color: white;}#sk-container-id-5 label.sk-toggleable__label {cursor: pointer;display: block;width: 100%;margin-bottom: 0;padding: 0.3em;box-sizing: border-box;text-align: center;}#sk-container-id-5 label.sk-toggleable__label-arrow:before {content: \"▸\";float: left;margin-right: 0.25em;color: #696969;}#sk-container-id-5 label.sk-toggleable__label-arrow:hover:before {color: black;}#sk-container-id-5 div.sk-estimator:hover label.sk-toggleable__label-arrow:before {color: black;}#sk-container-id-5 div.sk-toggleable__content {max-height: 0;max-width: 0;overflow: hidden;text-align: left;background-color: #f0f8ff;}#sk-container-id-5 div.sk-toggleable__content pre {margin: 0.2em;color: black;border-radius: 0.25em;background-color: #f0f8ff;}#sk-container-id-5 input.sk-toggleable__control:checked~div.sk-toggleable__content {max-height: 200px;max-width: 100%;overflow: auto;}#sk-container-id-5 input.sk-toggleable__control:checked~label.sk-toggleable__label-arrow:before {content: \"▾\";}#sk-container-id-5 div.sk-estimator input.sk-toggleable__control:checked~label.sk-toggleable__label {background-color: #d4ebff;}#sk-container-id-5 div.sk-label input.sk-toggleable__control:checked~label.sk-toggleable__label {background-color: #d4ebff;}#sk-container-id-5 input.sk-hidden--visually {border: 0;clip: rect(1px 1px 1px 1px);clip: rect(1px, 1px, 1px, 1px);height: 1px;margin: -1px;overflow: hidden;padding: 0;position: absolute;width: 1px;}#sk-container-id-5 div.sk-estimator {font-family: monospace;background-color: #f0f8ff;border: 1px dotted black;border-radius: 0.25em;box-sizing: border-box;margin-bottom: 0.5em;}#sk-container-id-5 div.sk-estimator:hover {background-color: #d4ebff;}#sk-container-id-5 div.sk-parallel-item::after {content: \"\";width: 100%;border-bottom: 1px solid gray;flex-grow: 1;}#sk-container-id-5 div.sk-label:hover label.sk-toggleable__label {background-color: #d4ebff;}#sk-container-id-5 div.sk-serial::before {content: \"\";position: absolute;border-left: 1px solid gray;box-sizing: border-box;top: 0;bottom: 0;left: 50%;z-index: 0;}#sk-container-id-5 div.sk-serial {display: flex;flex-direction: column;align-items: center;background-color: white;padding-right: 0.2em;padding-left: 0.2em;position: relative;}#sk-container-id-5 div.sk-item {position: relative;z-index: 1;}#sk-container-id-5 div.sk-parallel {display: flex;align-items: stretch;justify-content: center;background-color: white;position: relative;}#sk-container-id-5 div.sk-item::before, #sk-container-id-5 div.sk-parallel-item::before {content: \"\";position: absolute;border-left: 1px solid gray;box-sizing: border-box;top: 0;bottom: 0;left: 50%;z-index: -1;}#sk-container-id-5 div.sk-parallel-item {display: flex;flex-direction: column;z-index: 1;position: relative;background-color: white;}#sk-container-id-5 div.sk-parallel-item:first-child::after {align-self: flex-end;width: 50%;}#sk-container-id-5 div.sk-parallel-item:last-child::after {align-self: flex-start;width: 50%;}#sk-container-id-5 div.sk-parallel-item:only-child::after {width: 0;}#sk-container-id-5 div.sk-dashed-wrapped {border: 1px dashed gray;margin: 0 0.4em 0.5em 0.4em;box-sizing: border-box;padding-bottom: 0.4em;background-color: white;}#sk-container-id-5 div.sk-label label {font-family: monospace;font-weight: bold;display: inline-block;line-height: 1.2em;}#sk-container-id-5 div.sk-label-container {text-align: center;}#sk-container-id-5 div.sk-container {/* jupyter's `normalize.less` sets `[hidden] { display: none; }` but bootstrap.min.css set `[hidden] { display: none !important; }` so we also need the `!important` here to be able to override the default hidden behavior on the sphinx rendered scikit-learn.org. See: https://github.com/scikit-learn/scikit-learn/issues/21755 */display: inline-block !important;position: relative;}#sk-container-id-5 div.sk-text-repr-fallback {display: none;}</style><div id=\"sk-container-id-5\" class=\"sk-top-container\"><div class=\"sk-text-repr-fallback\"><pre>DecisionTreeClassifier(criterion=&#x27;entropy&#x27;, max_depth=10, min_samples_split=5)</pre><b>In a Jupyter environment, please rerun this cell to show the HTML representation or trust the notebook. <br />On GitHub, the HTML representation is unable to render, please try loading this page with nbviewer.org.</b></div><div class=\"sk-container\" hidden><div class=\"sk-item\"><div class=\"sk-estimator sk-toggleable\"><input class=\"sk-toggleable__control sk-hidden--visually\" id=\"sk-estimator-id-7\" type=\"checkbox\" checked><label for=\"sk-estimator-id-7\" class=\"sk-toggleable__label sk-toggleable__label-arrow\">DecisionTreeClassifier</label><div class=\"sk-toggleable__content\"><pre>DecisionTreeClassifier(criterion=&#x27;entropy&#x27;, max_depth=10, min_samples_split=5)</pre></div></div></div></div></div>"
      ],
      "text/plain": [
       "DecisionTreeClassifier(criterion='entropy', max_depth=10, min_samples_split=5)"
      ]
     },
     "execution_count": 119,
     "metadata": {},
     "output_type": "execute_result"
    }
   ],
   "source": [
    "dc1 = DecisionTreeClassifier(criterion = 'entropy',max_depth = 10, min_samples_leaf= 1,min_samples_split= 5)\n",
    "dc1.fit(x_train,y_train)"
   ]
  },
  {
   "cell_type": "code",
   "execution_count": 120,
   "id": "7b01dce8-e12f-41f6-9f82-e684edbf7e17",
   "metadata": {},
   "outputs": [
    {
     "data": {
      "text/plain": [
       "array([0, 0, 0, ..., 0, 0, 0], dtype=int64)"
      ]
     },
     "execution_count": 120,
     "metadata": {},
     "output_type": "execute_result"
    }
   ],
   "source": [
    "pred2 = dc1.predict(x_test)\n",
    "pred2"
   ]
  },
  {
   "cell_type": "code",
   "execution_count": 121,
   "id": "d8d97f5c-6a31-4f23-a615-70d5012df097",
   "metadata": {},
   "outputs": [
    {
     "data": {
      "text/plain": [
       "array([1, 0, 1, ..., 0, 1, 1], dtype=int64)"
      ]
     },
     "execution_count": 121,
     "metadata": {},
     "output_type": "execute_result"
    }
   ],
   "source": [
    "tr2 = dc1.predict(x_train)\n",
    "tr2"
   ]
  },
  {
   "cell_type": "code",
   "execution_count": 122,
   "id": "9c71ed16-eeb8-4ee6-9f1d-48ac6f3301b0",
   "metadata": {},
   "outputs": [
    {
     "name": "stdout",
     "output_type": "stream",
     "text": [
      " Training score:0.7828947368421053\n",
      " Testing score:0.7161159811193527\n"
     ]
    }
   ],
   "source": [
    "#Scores\n",
    "#Training score\n",
    "tr =  accuracy_score(y_train,tr2)\n",
    "print(f' Training score:{train2}')\n",
    "te = accuracy_score(y_test,pred2)\n",
    "print(f' Testing score:{test2}')"
   ]
  },
  {
   "cell_type": "code",
   "execution_count": 123,
   "id": "2f70ec67-58f6-481a-89b6-7aefe955c8e5",
   "metadata": {},
   "outputs": [
    {
     "name": "stdout",
     "output_type": "stream",
     "text": [
      "Ts:              precision    recall  f1-score   support\n",
      "\n",
      "           0       0.75      0.86      0.80      3580\n",
      "           1       0.73      0.55      0.63      2348\n",
      "\n",
      "    accuracy                           0.74      5928\n",
      "   macro avg       0.74      0.71      0.71      5928\n",
      "weighted avg       0.74      0.74      0.73      5928\n",
      "\n",
      "T:              precision    recall  f1-score   support\n",
      "\n",
      "           0       0.73      0.85      0.79       903\n",
      "           1       0.69      0.52      0.59       580\n",
      "\n",
      "    accuracy                           0.72      1483\n",
      "   macro avg       0.71      0.68      0.69      1483\n",
      "weighted avg       0.71      0.72      0.71      1483\n",
      "\n"
     ]
    }
   ],
   "source": [
    "#report\n",
    "print(f'Ts:{classification_report(y_train,tr2)}')\n",
    "print(f'T:{classification_report(y_test,pred2)}')"
   ]
  },
  {
   "cell_type": "markdown",
   "id": "2a2ec064-fe9d-4812-a13a-6ac027f4691f",
   "metadata": {},
   "source": [
    "# ***Cross Valuate Score***"
   ]
  },
  {
   "cell_type": "code",
   "execution_count": 124,
   "id": "d43a8834-538d-4d94-abc8-a95fc7f4e02e",
   "metadata": {},
   "outputs": [
    {
     "name": "stdout",
     "output_type": "stream",
     "text": [
      "[0.54500354 0.54590222]\n",
      "c_v_s: 0.545452879777578\n",
      "std: 0.00044933619146880766\n"
     ]
    }
   ],
   "source": [
    "from sklearn.model_selection import cross_val_score\n",
    "score = cross_val_score(dc1,x,y,cv = 2,scoring = 'f1')\n",
    "print(score)\n",
    "print('c_v_s:',score.mean())\n",
    "print('std:',score.std())\n",
    "#std of < 0.05 is good model"
   ]
  },
  {
   "cell_type": "markdown",
   "id": "95e3ea22-23b6-4147-a7d5-4c63637124f1",
   "metadata": {},
   "source": [
    "#### ***IN Decision tree before and after parameter tunning it comes same score and cross_Value Score is 0.004.***"
   ]
  },
  {
   "cell_type": "markdown",
   "id": "1c7b712e-3efb-4e98-9b1c-deb33dda0c02",
   "metadata": {},
   "source": [
    "# ***RandomForestClassifier***"
   ]
  },
  {
   "cell_type": "code",
   "execution_count": 125,
   "id": "44d56274-8874-4763-bd31-6c22afb0ca6b",
   "metadata": {},
   "outputs": [],
   "source": [
    "from sklearn.ensemble import RandomForestClassifier"
   ]
  },
  {
   "cell_type": "code",
   "execution_count": 126,
   "id": "8137558d-b4f3-48c9-8e47-a1a938b5137c",
   "metadata": {},
   "outputs": [],
   "source": [
    "model1 = RandomForestClassifier(n_estimators = 100)"
   ]
  },
  {
   "cell_type": "code",
   "execution_count": 127,
   "id": "e4ad8394-d057-46ed-b784-921b26480746",
   "metadata": {},
   "outputs": [
    {
     "data": {
      "text/html": [
       "<style>#sk-container-id-6 {color: black;background-color: white;}#sk-container-id-6 pre{padding: 0;}#sk-container-id-6 div.sk-toggleable {background-color: white;}#sk-container-id-6 label.sk-toggleable__label {cursor: pointer;display: block;width: 100%;margin-bottom: 0;padding: 0.3em;box-sizing: border-box;text-align: center;}#sk-container-id-6 label.sk-toggleable__label-arrow:before {content: \"▸\";float: left;margin-right: 0.25em;color: #696969;}#sk-container-id-6 label.sk-toggleable__label-arrow:hover:before {color: black;}#sk-container-id-6 div.sk-estimator:hover label.sk-toggleable__label-arrow:before {color: black;}#sk-container-id-6 div.sk-toggleable__content {max-height: 0;max-width: 0;overflow: hidden;text-align: left;background-color: #f0f8ff;}#sk-container-id-6 div.sk-toggleable__content pre {margin: 0.2em;color: black;border-radius: 0.25em;background-color: #f0f8ff;}#sk-container-id-6 input.sk-toggleable__control:checked~div.sk-toggleable__content {max-height: 200px;max-width: 100%;overflow: auto;}#sk-container-id-6 input.sk-toggleable__control:checked~label.sk-toggleable__label-arrow:before {content: \"▾\";}#sk-container-id-6 div.sk-estimator input.sk-toggleable__control:checked~label.sk-toggleable__label {background-color: #d4ebff;}#sk-container-id-6 div.sk-label input.sk-toggleable__control:checked~label.sk-toggleable__label {background-color: #d4ebff;}#sk-container-id-6 input.sk-hidden--visually {border: 0;clip: rect(1px 1px 1px 1px);clip: rect(1px, 1px, 1px, 1px);height: 1px;margin: -1px;overflow: hidden;padding: 0;position: absolute;width: 1px;}#sk-container-id-6 div.sk-estimator {font-family: monospace;background-color: #f0f8ff;border: 1px dotted black;border-radius: 0.25em;box-sizing: border-box;margin-bottom: 0.5em;}#sk-container-id-6 div.sk-estimator:hover {background-color: #d4ebff;}#sk-container-id-6 div.sk-parallel-item::after {content: \"\";width: 100%;border-bottom: 1px solid gray;flex-grow: 1;}#sk-container-id-6 div.sk-label:hover label.sk-toggleable__label {background-color: #d4ebff;}#sk-container-id-6 div.sk-serial::before {content: \"\";position: absolute;border-left: 1px solid gray;box-sizing: border-box;top: 0;bottom: 0;left: 50%;z-index: 0;}#sk-container-id-6 div.sk-serial {display: flex;flex-direction: column;align-items: center;background-color: white;padding-right: 0.2em;padding-left: 0.2em;position: relative;}#sk-container-id-6 div.sk-item {position: relative;z-index: 1;}#sk-container-id-6 div.sk-parallel {display: flex;align-items: stretch;justify-content: center;background-color: white;position: relative;}#sk-container-id-6 div.sk-item::before, #sk-container-id-6 div.sk-parallel-item::before {content: \"\";position: absolute;border-left: 1px solid gray;box-sizing: border-box;top: 0;bottom: 0;left: 50%;z-index: -1;}#sk-container-id-6 div.sk-parallel-item {display: flex;flex-direction: column;z-index: 1;position: relative;background-color: white;}#sk-container-id-6 div.sk-parallel-item:first-child::after {align-self: flex-end;width: 50%;}#sk-container-id-6 div.sk-parallel-item:last-child::after {align-self: flex-start;width: 50%;}#sk-container-id-6 div.sk-parallel-item:only-child::after {width: 0;}#sk-container-id-6 div.sk-dashed-wrapped {border: 1px dashed gray;margin: 0 0.4em 0.5em 0.4em;box-sizing: border-box;padding-bottom: 0.4em;background-color: white;}#sk-container-id-6 div.sk-label label {font-family: monospace;font-weight: bold;display: inline-block;line-height: 1.2em;}#sk-container-id-6 div.sk-label-container {text-align: center;}#sk-container-id-6 div.sk-container {/* jupyter's `normalize.less` sets `[hidden] { display: none; }` but bootstrap.min.css set `[hidden] { display: none !important; }` so we also need the `!important` here to be able to override the default hidden behavior on the sphinx rendered scikit-learn.org. See: https://github.com/scikit-learn/scikit-learn/issues/21755 */display: inline-block !important;position: relative;}#sk-container-id-6 div.sk-text-repr-fallback {display: none;}</style><div id=\"sk-container-id-6\" class=\"sk-top-container\"><div class=\"sk-text-repr-fallback\"><pre>RandomForestClassifier()</pre><b>In a Jupyter environment, please rerun this cell to show the HTML representation or trust the notebook. <br />On GitHub, the HTML representation is unable to render, please try loading this page with nbviewer.org.</b></div><div class=\"sk-container\" hidden><div class=\"sk-item\"><div class=\"sk-estimator sk-toggleable\"><input class=\"sk-toggleable__control sk-hidden--visually\" id=\"sk-estimator-id-8\" type=\"checkbox\" checked><label for=\"sk-estimator-id-8\" class=\"sk-toggleable__label sk-toggleable__label-arrow\">RandomForestClassifier</label><div class=\"sk-toggleable__content\"><pre>RandomForestClassifier()</pre></div></div></div></div></div>"
      ],
      "text/plain": [
       "RandomForestClassifier()"
      ]
     },
     "execution_count": 127,
     "metadata": {},
     "output_type": "execute_result"
    }
   ],
   "source": [
    "model1.fit(x_train,y_train)"
   ]
  },
  {
   "cell_type": "code",
   "execution_count": 128,
   "id": "5b973c17-c46c-4dfb-a860-6b6562656872",
   "metadata": {},
   "outputs": [
    {
     "data": {
      "text/plain": [
       "array([0, 0, 0, ..., 0, 0, 0], dtype=int64)"
      ]
     },
     "execution_count": 128,
     "metadata": {},
     "output_type": "execute_result"
    }
   ],
   "source": [
    "pred = model1.predict(x_test)\n",
    "pred"
   ]
  },
  {
   "cell_type": "code",
   "execution_count": 129,
   "id": "0622a3c2-9b99-4eb6-8377-a2f7c9a18b04",
   "metadata": {},
   "outputs": [
    {
     "data": {
      "text/plain": [
       "array([0, 0, 1, ..., 0, 0, 1], dtype=int64)"
      ]
     },
     "execution_count": 129,
     "metadata": {},
     "output_type": "execute_result"
    }
   ],
   "source": [
    "p_train = model1.predict(x_train)\n",
    "p_train"
   ]
  },
  {
   "cell_type": "code",
   "execution_count": 130,
   "id": "dabfa972-31de-4852-9196-c0a5b1b8b3fc",
   "metadata": {},
   "outputs": [
    {
     "name": "stdout",
     "output_type": "stream",
     "text": [
      " Training score:0.7828947368421053\n",
      " Testing score:0.7154416722859069\n"
     ]
    }
   ],
   "source": [
    "#Scores\n",
    "#Training score\n",
    "train1 =  accuracy_score(y_train,p_train)\n",
    "print(f' Training score:{train1}')\n",
    "test1 = accuracy_score(y_test,pred)\n",
    "print(f' Testing score:{test1}')"
   ]
  },
  {
   "cell_type": "code",
   "execution_count": 131,
   "id": "9bd5cd3c-b8b0-4aeb-8d85-384ee16e3575",
   "metadata": {},
   "outputs": [
    {
     "name": "stdout",
     "output_type": "stream",
     "text": [
      "              precision    recall  f1-score   support\n",
      "\n",
      "           0       0.81      0.84      0.82      3580\n",
      "           1       0.74      0.69      0.72      2348\n",
      "\n",
      "    accuracy                           0.78      5928\n",
      "   macro avg       0.77      0.77      0.77      5928\n",
      "weighted avg       0.78      0.78      0.78      5928\n",
      "\n"
     ]
    }
   ],
   "source": [
    "#Training report\n",
    "tra = classification_report(y_train,p_train)\n",
    "print(tra)"
   ]
  },
  {
   "cell_type": "code",
   "execution_count": 132,
   "id": "576e39bb-faff-4b72-8378-eeaba9b481cb",
   "metadata": {},
   "outputs": [
    {
     "name": "stdout",
     "output_type": "stream",
     "text": [
      "              precision    recall  f1-score   support\n",
      "\n",
      "           0       0.75      0.80      0.77       903\n",
      "           1       0.65      0.59      0.62       580\n",
      "\n",
      "    accuracy                           0.72      1483\n",
      "   macro avg       0.70      0.69      0.70      1483\n",
      "weighted avg       0.71      0.72      0.71      1483\n",
      "\n"
     ]
    }
   ],
   "source": [
    "#testing report\n",
    "tes = classification_report(y_test,pred)\n",
    "print(tes)"
   ]
  },
  {
   "cell_type": "markdown",
   "id": "4df8192f-0434-4d1b-897f-370a1770960f",
   "metadata": {},
   "source": [
    "# ***Hyperparameter tuning for RandomForestClassifier***"
   ]
  },
  {
   "cell_type": "code",
   "execution_count": 133,
   "id": "51bcaaef-491f-4211-91c6-09db7862731b",
   "metadata": {},
   "outputs": [],
   "source": [
    "from sklearn.model_selection import RandomizedSearchCV"
   ]
  },
  {
   "cell_type": "code",
   "execution_count": 134,
   "id": "b438867f-6b94-46d3-976e-4759617fb038",
   "metadata": {},
   "outputs": [
    {
     "name": "stdout",
     "output_type": "stream",
     "text": [
      "Fitting 5 folds for each of 20 candidates, totalling 100 fits\n"
     ]
    },
    {
     "data": {
      "text/html": [
       "<style>#sk-container-id-7 {color: black;background-color: white;}#sk-container-id-7 pre{padding: 0;}#sk-container-id-7 div.sk-toggleable {background-color: white;}#sk-container-id-7 label.sk-toggleable__label {cursor: pointer;display: block;width: 100%;margin-bottom: 0;padding: 0.3em;box-sizing: border-box;text-align: center;}#sk-container-id-7 label.sk-toggleable__label-arrow:before {content: \"▸\";float: left;margin-right: 0.25em;color: #696969;}#sk-container-id-7 label.sk-toggleable__label-arrow:hover:before {color: black;}#sk-container-id-7 div.sk-estimator:hover label.sk-toggleable__label-arrow:before {color: black;}#sk-container-id-7 div.sk-toggleable__content {max-height: 0;max-width: 0;overflow: hidden;text-align: left;background-color: #f0f8ff;}#sk-container-id-7 div.sk-toggleable__content pre {margin: 0.2em;color: black;border-radius: 0.25em;background-color: #f0f8ff;}#sk-container-id-7 input.sk-toggleable__control:checked~div.sk-toggleable__content {max-height: 200px;max-width: 100%;overflow: auto;}#sk-container-id-7 input.sk-toggleable__control:checked~label.sk-toggleable__label-arrow:before {content: \"▾\";}#sk-container-id-7 div.sk-estimator input.sk-toggleable__control:checked~label.sk-toggleable__label {background-color: #d4ebff;}#sk-container-id-7 div.sk-label input.sk-toggleable__control:checked~label.sk-toggleable__label {background-color: #d4ebff;}#sk-container-id-7 input.sk-hidden--visually {border: 0;clip: rect(1px 1px 1px 1px);clip: rect(1px, 1px, 1px, 1px);height: 1px;margin: -1px;overflow: hidden;padding: 0;position: absolute;width: 1px;}#sk-container-id-7 div.sk-estimator {font-family: monospace;background-color: #f0f8ff;border: 1px dotted black;border-radius: 0.25em;box-sizing: border-box;margin-bottom: 0.5em;}#sk-container-id-7 div.sk-estimator:hover {background-color: #d4ebff;}#sk-container-id-7 div.sk-parallel-item::after {content: \"\";width: 100%;border-bottom: 1px solid gray;flex-grow: 1;}#sk-container-id-7 div.sk-label:hover label.sk-toggleable__label {background-color: #d4ebff;}#sk-container-id-7 div.sk-serial::before {content: \"\";position: absolute;border-left: 1px solid gray;box-sizing: border-box;top: 0;bottom: 0;left: 50%;z-index: 0;}#sk-container-id-7 div.sk-serial {display: flex;flex-direction: column;align-items: center;background-color: white;padding-right: 0.2em;padding-left: 0.2em;position: relative;}#sk-container-id-7 div.sk-item {position: relative;z-index: 1;}#sk-container-id-7 div.sk-parallel {display: flex;align-items: stretch;justify-content: center;background-color: white;position: relative;}#sk-container-id-7 div.sk-item::before, #sk-container-id-7 div.sk-parallel-item::before {content: \"\";position: absolute;border-left: 1px solid gray;box-sizing: border-box;top: 0;bottom: 0;left: 50%;z-index: -1;}#sk-container-id-7 div.sk-parallel-item {display: flex;flex-direction: column;z-index: 1;position: relative;background-color: white;}#sk-container-id-7 div.sk-parallel-item:first-child::after {align-self: flex-end;width: 50%;}#sk-container-id-7 div.sk-parallel-item:last-child::after {align-self: flex-start;width: 50%;}#sk-container-id-7 div.sk-parallel-item:only-child::after {width: 0;}#sk-container-id-7 div.sk-dashed-wrapped {border: 1px dashed gray;margin: 0 0.4em 0.5em 0.4em;box-sizing: border-box;padding-bottom: 0.4em;background-color: white;}#sk-container-id-7 div.sk-label label {font-family: monospace;font-weight: bold;display: inline-block;line-height: 1.2em;}#sk-container-id-7 div.sk-label-container {text-align: center;}#sk-container-id-7 div.sk-container {/* jupyter's `normalize.less` sets `[hidden] { display: none; }` but bootstrap.min.css set `[hidden] { display: none !important; }` so we also need the `!important` here to be able to override the default hidden behavior on the sphinx rendered scikit-learn.org. See: https://github.com/scikit-learn/scikit-learn/issues/21755 */display: inline-block !important;position: relative;}#sk-container-id-7 div.sk-text-repr-fallback {display: none;}</style><div id=\"sk-container-id-7\" class=\"sk-top-container\"><div class=\"sk-text-repr-fallback\"><pre>RandomizedSearchCV(cv=5, estimator=RandomForestClassifier(random_state=42),\n",
       "                   n_iter=20, n_jobs=-1,\n",
       "                   param_distributions={&#x27;max_depth&#x27;: [None, 10, 20, 30],\n",
       "                                        &#x27;max_features&#x27;: [&#x27;log&#x27;, &#x27;sqrt&#x27;],\n",
       "                                        &#x27;min_samples_leaf&#x27;: [1, 2, 3, 4],\n",
       "                                        &#x27;min_samples_split&#x27;: [2, 3, 4, 5, 6, 7,\n",
       "                                                              8, 9, 10],\n",
       "                                        &#x27;n_estimators&#x27;: [200, 400, 600, 800,\n",
       "                                                         1000, 1200, 1400, 1600,\n",
       "                                                         1800, 2000]},\n",
       "                   random_state=42, scoring=&#x27;f1&#x27;, verbose=3)</pre><b>In a Jupyter environment, please rerun this cell to show the HTML representation or trust the notebook. <br />On GitHub, the HTML representation is unable to render, please try loading this page with nbviewer.org.</b></div><div class=\"sk-container\" hidden><div class=\"sk-item sk-dashed-wrapped\"><div class=\"sk-label-container\"><div class=\"sk-label sk-toggleable\"><input class=\"sk-toggleable__control sk-hidden--visually\" id=\"sk-estimator-id-9\" type=\"checkbox\" ><label for=\"sk-estimator-id-9\" class=\"sk-toggleable__label sk-toggleable__label-arrow\">RandomizedSearchCV</label><div class=\"sk-toggleable__content\"><pre>RandomizedSearchCV(cv=5, estimator=RandomForestClassifier(random_state=42),\n",
       "                   n_iter=20, n_jobs=-1,\n",
       "                   param_distributions={&#x27;max_depth&#x27;: [None, 10, 20, 30],\n",
       "                                        &#x27;max_features&#x27;: [&#x27;log&#x27;, &#x27;sqrt&#x27;],\n",
       "                                        &#x27;min_samples_leaf&#x27;: [1, 2, 3, 4],\n",
       "                                        &#x27;min_samples_split&#x27;: [2, 3, 4, 5, 6, 7,\n",
       "                                                              8, 9, 10],\n",
       "                                        &#x27;n_estimators&#x27;: [200, 400, 600, 800,\n",
       "                                                         1000, 1200, 1400, 1600,\n",
       "                                                         1800, 2000]},\n",
       "                   random_state=42, scoring=&#x27;f1&#x27;, verbose=3)</pre></div></div></div><div class=\"sk-parallel\"><div class=\"sk-parallel-item\"><div class=\"sk-item\"><div class=\"sk-label-container\"><div class=\"sk-label sk-toggleable\"><input class=\"sk-toggleable__control sk-hidden--visually\" id=\"sk-estimator-id-10\" type=\"checkbox\" ><label for=\"sk-estimator-id-10\" class=\"sk-toggleable__label sk-toggleable__label-arrow\">estimator: RandomForestClassifier</label><div class=\"sk-toggleable__content\"><pre>RandomForestClassifier(random_state=42)</pre></div></div></div><div class=\"sk-serial\"><div class=\"sk-item\"><div class=\"sk-estimator sk-toggleable\"><input class=\"sk-toggleable__control sk-hidden--visually\" id=\"sk-estimator-id-11\" type=\"checkbox\" ><label for=\"sk-estimator-id-11\" class=\"sk-toggleable__label sk-toggleable__label-arrow\">RandomForestClassifier</label><div class=\"sk-toggleable__content\"><pre>RandomForestClassifier(random_state=42)</pre></div></div></div></div></div></div></div></div></div></div>"
      ],
      "text/plain": [
       "RandomizedSearchCV(cv=5, estimator=RandomForestClassifier(random_state=42),\n",
       "                   n_iter=20, n_jobs=-1,\n",
       "                   param_distributions={'max_depth': [None, 10, 20, 30],\n",
       "                                        'max_features': ['log', 'sqrt'],\n",
       "                                        'min_samples_leaf': [1, 2, 3, 4],\n",
       "                                        'min_samples_split': [2, 3, 4, 5, 6, 7,\n",
       "                                                              8, 9, 10],\n",
       "                                        'n_estimators': [200, 400, 600, 800,\n",
       "                                                         1000, 1200, 1400, 1600,\n",
       "                                                         1800, 2000]},\n",
       "                   random_state=42, scoring='f1', verbose=3)"
      ]
     },
     "execution_count": 134,
     "metadata": {},
     "output_type": "execute_result"
    }
   ],
   "source": [
    "params = {'n_estimators' :[int(x) for x in np.linspace(200,2000,10)],\n",
    "           'max_features' : ['log', 'sqrt'],'max_depth' : [None, 10, 20, 30],\n",
    "          'min_samples_split' : [2,3,4,5,6,7,8,9,10],\n",
    "          'min_samples_leaf':[1,2,3,4]\n",
    "         }\n",
    "rc = RandomForestClassifier(random_state = 42)\n",
    "rscv = RandomizedSearchCV(rc,params,scoring = 'f1',n_iter = 20,cv = 5,verbose = 3,n_jobs = -1,\n",
    "                          random_state = 42)\n",
    "\n",
    "rscv.fit(x_train,y_train)"
   ]
  },
  {
   "cell_type": "code",
   "execution_count": 135,
   "id": "26cd7ea9-7794-4d73-87a5-f884834fc08e",
   "metadata": {},
   "outputs": [
    {
     "name": "stdout",
     "output_type": "stream",
     "text": [
      "Best parameter:{'n_estimators': 1400, 'min_samples_split': 3, 'min_samples_leaf': 2, 'max_features': 'sqrt', 'max_depth': None}\n"
     ]
    }
   ],
   "source": [
    "best_para = rscv.best_params_\n",
    "print(f'Best parameter:{best_para}')"
   ]
  },
  {
   "cell_type": "code",
   "execution_count": 136,
   "id": "0fb73113-9f88-42f9-96aa-96901c896a57",
   "metadata": {},
   "outputs": [],
   "source": [
    "model2 = RandomForestClassifier(n_estimators = 1400,min_samples_split = 3,min_samples_leaf = 2,max_features = 'sqrt',\n",
    "                                max_depth = None)"
   ]
  },
  {
   "cell_type": "code",
   "execution_count": 137,
   "id": "59249faf-c0c4-4794-80dd-2b8d3f01061c",
   "metadata": {},
   "outputs": [
    {
     "data": {
      "text/html": [
       "<style>#sk-container-id-8 {color: black;background-color: white;}#sk-container-id-8 pre{padding: 0;}#sk-container-id-8 div.sk-toggleable {background-color: white;}#sk-container-id-8 label.sk-toggleable__label {cursor: pointer;display: block;width: 100%;margin-bottom: 0;padding: 0.3em;box-sizing: border-box;text-align: center;}#sk-container-id-8 label.sk-toggleable__label-arrow:before {content: \"▸\";float: left;margin-right: 0.25em;color: #696969;}#sk-container-id-8 label.sk-toggleable__label-arrow:hover:before {color: black;}#sk-container-id-8 div.sk-estimator:hover label.sk-toggleable__label-arrow:before {color: black;}#sk-container-id-8 div.sk-toggleable__content {max-height: 0;max-width: 0;overflow: hidden;text-align: left;background-color: #f0f8ff;}#sk-container-id-8 div.sk-toggleable__content pre {margin: 0.2em;color: black;border-radius: 0.25em;background-color: #f0f8ff;}#sk-container-id-8 input.sk-toggleable__control:checked~div.sk-toggleable__content {max-height: 200px;max-width: 100%;overflow: auto;}#sk-container-id-8 input.sk-toggleable__control:checked~label.sk-toggleable__label-arrow:before {content: \"▾\";}#sk-container-id-8 div.sk-estimator input.sk-toggleable__control:checked~label.sk-toggleable__label {background-color: #d4ebff;}#sk-container-id-8 div.sk-label input.sk-toggleable__control:checked~label.sk-toggleable__label {background-color: #d4ebff;}#sk-container-id-8 input.sk-hidden--visually {border: 0;clip: rect(1px 1px 1px 1px);clip: rect(1px, 1px, 1px, 1px);height: 1px;margin: -1px;overflow: hidden;padding: 0;position: absolute;width: 1px;}#sk-container-id-8 div.sk-estimator {font-family: monospace;background-color: #f0f8ff;border: 1px dotted black;border-radius: 0.25em;box-sizing: border-box;margin-bottom: 0.5em;}#sk-container-id-8 div.sk-estimator:hover {background-color: #d4ebff;}#sk-container-id-8 div.sk-parallel-item::after {content: \"\";width: 100%;border-bottom: 1px solid gray;flex-grow: 1;}#sk-container-id-8 div.sk-label:hover label.sk-toggleable__label {background-color: #d4ebff;}#sk-container-id-8 div.sk-serial::before {content: \"\";position: absolute;border-left: 1px solid gray;box-sizing: border-box;top: 0;bottom: 0;left: 50%;z-index: 0;}#sk-container-id-8 div.sk-serial {display: flex;flex-direction: column;align-items: center;background-color: white;padding-right: 0.2em;padding-left: 0.2em;position: relative;}#sk-container-id-8 div.sk-item {position: relative;z-index: 1;}#sk-container-id-8 div.sk-parallel {display: flex;align-items: stretch;justify-content: center;background-color: white;position: relative;}#sk-container-id-8 div.sk-item::before, #sk-container-id-8 div.sk-parallel-item::before {content: \"\";position: absolute;border-left: 1px solid gray;box-sizing: border-box;top: 0;bottom: 0;left: 50%;z-index: -1;}#sk-container-id-8 div.sk-parallel-item {display: flex;flex-direction: column;z-index: 1;position: relative;background-color: white;}#sk-container-id-8 div.sk-parallel-item:first-child::after {align-self: flex-end;width: 50%;}#sk-container-id-8 div.sk-parallel-item:last-child::after {align-self: flex-start;width: 50%;}#sk-container-id-8 div.sk-parallel-item:only-child::after {width: 0;}#sk-container-id-8 div.sk-dashed-wrapped {border: 1px dashed gray;margin: 0 0.4em 0.5em 0.4em;box-sizing: border-box;padding-bottom: 0.4em;background-color: white;}#sk-container-id-8 div.sk-label label {font-family: monospace;font-weight: bold;display: inline-block;line-height: 1.2em;}#sk-container-id-8 div.sk-label-container {text-align: center;}#sk-container-id-8 div.sk-container {/* jupyter's `normalize.less` sets `[hidden] { display: none; }` but bootstrap.min.css set `[hidden] { display: none !important; }` so we also need the `!important` here to be able to override the default hidden behavior on the sphinx rendered scikit-learn.org. See: https://github.com/scikit-learn/scikit-learn/issues/21755 */display: inline-block !important;position: relative;}#sk-container-id-8 div.sk-text-repr-fallback {display: none;}</style><div id=\"sk-container-id-8\" class=\"sk-top-container\"><div class=\"sk-text-repr-fallback\"><pre>RandomForestClassifier(min_samples_leaf=2, min_samples_split=3,\n",
       "                       n_estimators=1400)</pre><b>In a Jupyter environment, please rerun this cell to show the HTML representation or trust the notebook. <br />On GitHub, the HTML representation is unable to render, please try loading this page with nbviewer.org.</b></div><div class=\"sk-container\" hidden><div class=\"sk-item\"><div class=\"sk-estimator sk-toggleable\"><input class=\"sk-toggleable__control sk-hidden--visually\" id=\"sk-estimator-id-12\" type=\"checkbox\" checked><label for=\"sk-estimator-id-12\" class=\"sk-toggleable__label sk-toggleable__label-arrow\">RandomForestClassifier</label><div class=\"sk-toggleable__content\"><pre>RandomForestClassifier(min_samples_leaf=2, min_samples_split=3,\n",
       "                       n_estimators=1400)</pre></div></div></div></div></div>"
      ],
      "text/plain": [
       "RandomForestClassifier(min_samples_leaf=2, min_samples_split=3,\n",
       "                       n_estimators=1400)"
      ]
     },
     "execution_count": 137,
     "metadata": {},
     "output_type": "execute_result"
    }
   ],
   "source": [
    "model2.fit(x_train,y_train)"
   ]
  },
  {
   "cell_type": "code",
   "execution_count": 138,
   "id": "365a99a0-e8a3-4af0-9dfd-07531efb2b7d",
   "metadata": {},
   "outputs": [
    {
     "data": {
      "text/plain": [
       "array([0, 0, 0, ..., 0, 0, 0], dtype=int64)"
      ]
     },
     "execution_count": 138,
     "metadata": {},
     "output_type": "execute_result"
    }
   ],
   "source": [
    "#testing\n",
    "y_pred = model2.predict(x_test)\n",
    "y_pred"
   ]
  },
  {
   "cell_type": "code",
   "execution_count": 139,
   "id": "43da1bb3-3a49-4e46-a4f7-b38e69e8f2af",
   "metadata": {},
   "outputs": [
    {
     "data": {
      "text/plain": [
       "array([0, 0, 1, ..., 0, 0, 1], dtype=int64)"
      ]
     },
     "execution_count": 139,
     "metadata": {},
     "output_type": "execute_result"
    }
   ],
   "source": [
    "#training\n",
    "x_pred = model2.predict(x_train)\n",
    "x_pred"
   ]
  },
  {
   "cell_type": "code",
   "execution_count": 140,
   "id": "f0cb4eee-2276-479e-9a26-e5a1db8b72f4",
   "metadata": {},
   "outputs": [
    {
     "name": "stdout",
     "output_type": "stream",
     "text": [
      "Training score:0.770748987854251\n",
      "Testing score:0.7181389076196898\n"
     ]
    }
   ],
   "source": [
    "print(f'Training score:{accuracy_score(y_train,x_pred)}')\n",
    "print(f'Testing score:{accuracy_score(y_test,y_pred)}')"
   ]
  },
  {
   "cell_type": "code",
   "execution_count": 141,
   "id": "c61fca69-483c-4ec1-8c60-09f6769bd221",
   "metadata": {},
   "outputs": [
    {
     "name": "stdout",
     "output_type": "stream",
     "text": [
      "Ts:              precision    recall  f1-score   support\n",
      "\n",
      "           0       0.79      0.85      0.82      3580\n",
      "           1       0.74      0.66      0.69      2348\n",
      "\n",
      "    accuracy                           0.77      5928\n",
      "   macro avg       0.76      0.75      0.76      5928\n",
      "weighted avg       0.77      0.77      0.77      5928\n",
      "\n",
      "T:              precision    recall  f1-score   support\n",
      "\n",
      "           0       0.75      0.81      0.78       903\n",
      "           1       0.66      0.57      0.61       580\n",
      "\n",
      "    accuracy                           0.72      1483\n",
      "   macro avg       0.70      0.69      0.70      1483\n",
      "weighted avg       0.71      0.72      0.71      1483\n",
      "\n"
     ]
    }
   ],
   "source": [
    "#report\n",
    "print(f'Ts:{classification_report(y_train,x_pred)}')\n",
    "print(f'T:{classification_report(y_test,y_pred)}')"
   ]
  },
  {
   "cell_type": "code",
   "execution_count": 142,
   "id": "8dd4f27e-3caf-4ede-96e6-49c88f752b42",
   "metadata": {},
   "outputs": [
    {
     "name": "stdout",
     "output_type": "stream",
     "text": [
      "[0.59391396 0.5810209 ]\n",
      "c_v_s: 0.5874674267481532\n",
      "std: 0.0064465291804931\n"
     ]
    }
   ],
   "source": [
    "score = cross_val_score(model2,x,y,cv = 2,scoring = 'f1')\n",
    "print(score)\n",
    "print('c_v_s:',score.mean())\n",
    "print('std:',score.std())\n",
    "#std of < 0.05 is good model"
   ]
  },
  {
   "cell_type": "markdown",
   "id": "25d8c97d-cd19-4295-a20d-3e4e22575dc6",
   "metadata": {},
   "source": [
    "#### *RandomForestClassifier is performs good,it comes 0.71 ,its a good score.it is a good model*"
   ]
  },
  {
   "cell_type": "markdown",
   "id": "fdfe0603-7764-4b44-aba4-67655e9b77f5",
   "metadata": {},
   "source": [
    "# ***Boosting models***"
   ]
  },
  {
   "cell_type": "markdown",
   "id": "70a3235d-13f3-423b-822f-22c0997f2d8c",
   "metadata": {},
   "source": [
    "## XGBoosting"
   ]
  },
  {
   "cell_type": "code",
   "execution_count": 143,
   "id": "b2fa87e9-a289-4c15-9878-cb0bd2f0b7fa",
   "metadata": {},
   "outputs": [
    {
     "data": {
      "text/html": [
       "<style>#sk-container-id-9 {color: black;background-color: white;}#sk-container-id-9 pre{padding: 0;}#sk-container-id-9 div.sk-toggleable {background-color: white;}#sk-container-id-9 label.sk-toggleable__label {cursor: pointer;display: block;width: 100%;margin-bottom: 0;padding: 0.3em;box-sizing: border-box;text-align: center;}#sk-container-id-9 label.sk-toggleable__label-arrow:before {content: \"▸\";float: left;margin-right: 0.25em;color: #696969;}#sk-container-id-9 label.sk-toggleable__label-arrow:hover:before {color: black;}#sk-container-id-9 div.sk-estimator:hover label.sk-toggleable__label-arrow:before {color: black;}#sk-container-id-9 div.sk-toggleable__content {max-height: 0;max-width: 0;overflow: hidden;text-align: left;background-color: #f0f8ff;}#sk-container-id-9 div.sk-toggleable__content pre {margin: 0.2em;color: black;border-radius: 0.25em;background-color: #f0f8ff;}#sk-container-id-9 input.sk-toggleable__control:checked~div.sk-toggleable__content {max-height: 200px;max-width: 100%;overflow: auto;}#sk-container-id-9 input.sk-toggleable__control:checked~label.sk-toggleable__label-arrow:before {content: \"▾\";}#sk-container-id-9 div.sk-estimator input.sk-toggleable__control:checked~label.sk-toggleable__label {background-color: #d4ebff;}#sk-container-id-9 div.sk-label input.sk-toggleable__control:checked~label.sk-toggleable__label {background-color: #d4ebff;}#sk-container-id-9 input.sk-hidden--visually {border: 0;clip: rect(1px 1px 1px 1px);clip: rect(1px, 1px, 1px, 1px);height: 1px;margin: -1px;overflow: hidden;padding: 0;position: absolute;width: 1px;}#sk-container-id-9 div.sk-estimator {font-family: monospace;background-color: #f0f8ff;border: 1px dotted black;border-radius: 0.25em;box-sizing: border-box;margin-bottom: 0.5em;}#sk-container-id-9 div.sk-estimator:hover {background-color: #d4ebff;}#sk-container-id-9 div.sk-parallel-item::after {content: \"\";width: 100%;border-bottom: 1px solid gray;flex-grow: 1;}#sk-container-id-9 div.sk-label:hover label.sk-toggleable__label {background-color: #d4ebff;}#sk-container-id-9 div.sk-serial::before {content: \"\";position: absolute;border-left: 1px solid gray;box-sizing: border-box;top: 0;bottom: 0;left: 50%;z-index: 0;}#sk-container-id-9 div.sk-serial {display: flex;flex-direction: column;align-items: center;background-color: white;padding-right: 0.2em;padding-left: 0.2em;position: relative;}#sk-container-id-9 div.sk-item {position: relative;z-index: 1;}#sk-container-id-9 div.sk-parallel {display: flex;align-items: stretch;justify-content: center;background-color: white;position: relative;}#sk-container-id-9 div.sk-item::before, #sk-container-id-9 div.sk-parallel-item::before {content: \"\";position: absolute;border-left: 1px solid gray;box-sizing: border-box;top: 0;bottom: 0;left: 50%;z-index: -1;}#sk-container-id-9 div.sk-parallel-item {display: flex;flex-direction: column;z-index: 1;position: relative;background-color: white;}#sk-container-id-9 div.sk-parallel-item:first-child::after {align-self: flex-end;width: 50%;}#sk-container-id-9 div.sk-parallel-item:last-child::after {align-self: flex-start;width: 50%;}#sk-container-id-9 div.sk-parallel-item:only-child::after {width: 0;}#sk-container-id-9 div.sk-dashed-wrapped {border: 1px dashed gray;margin: 0 0.4em 0.5em 0.4em;box-sizing: border-box;padding-bottom: 0.4em;background-color: white;}#sk-container-id-9 div.sk-label label {font-family: monospace;font-weight: bold;display: inline-block;line-height: 1.2em;}#sk-container-id-9 div.sk-label-container {text-align: center;}#sk-container-id-9 div.sk-container {/* jupyter's `normalize.less` sets `[hidden] { display: none; }` but bootstrap.min.css set `[hidden] { display: none !important; }` so we also need the `!important` here to be able to override the default hidden behavior on the sphinx rendered scikit-learn.org. See: https://github.com/scikit-learn/scikit-learn/issues/21755 */display: inline-block !important;position: relative;}#sk-container-id-9 div.sk-text-repr-fallback {display: none;}</style><div id=\"sk-container-id-9\" class=\"sk-top-container\"><div class=\"sk-text-repr-fallback\"><pre>XGBClassifier(base_score=None, booster=None, callbacks=None,\n",
       "              colsample_bylevel=None, colsample_bynode=None,\n",
       "              colsample_bytree=None, early_stopping_rounds=None,\n",
       "              enable_categorical=False, eval_metric=None, feature_types=None,\n",
       "              gamma=None, gpu_id=None, grow_policy=None, importance_type=None,\n",
       "              interaction_constraints=None, learning_rate=None, max_bin=None,\n",
       "              max_cat_threshold=None, max_cat_to_onehot=None,\n",
       "              max_delta_step=None, max_depth=None, max_leaves=None,\n",
       "              min_child_weight=None, missing=nan, monotone_constraints=None,\n",
       "              n_estimators=100, n_jobs=None, num_parallel_tree=None,\n",
       "              predictor=None, random_state=None, ...)</pre><b>In a Jupyter environment, please rerun this cell to show the HTML representation or trust the notebook. <br />On GitHub, the HTML representation is unable to render, please try loading this page with nbviewer.org.</b></div><div class=\"sk-container\" hidden><div class=\"sk-item\"><div class=\"sk-estimator sk-toggleable\"><input class=\"sk-toggleable__control sk-hidden--visually\" id=\"sk-estimator-id-13\" type=\"checkbox\" checked><label for=\"sk-estimator-id-13\" class=\"sk-toggleable__label sk-toggleable__label-arrow\">XGBClassifier</label><div class=\"sk-toggleable__content\"><pre>XGBClassifier(base_score=None, booster=None, callbacks=None,\n",
       "              colsample_bylevel=None, colsample_bynode=None,\n",
       "              colsample_bytree=None, early_stopping_rounds=None,\n",
       "              enable_categorical=False, eval_metric=None, feature_types=None,\n",
       "              gamma=None, gpu_id=None, grow_policy=None, importance_type=None,\n",
       "              interaction_constraints=None, learning_rate=None, max_bin=None,\n",
       "              max_cat_threshold=None, max_cat_to_onehot=None,\n",
       "              max_delta_step=None, max_depth=None, max_leaves=None,\n",
       "              min_child_weight=None, missing=nan, monotone_constraints=None,\n",
       "              n_estimators=100, n_jobs=None, num_parallel_tree=None,\n",
       "              predictor=None, random_state=None, ...)</pre></div></div></div></div></div>"
      ],
      "text/plain": [
       "XGBClassifier(base_score=None, booster=None, callbacks=None,\n",
       "              colsample_bylevel=None, colsample_bynode=None,\n",
       "              colsample_bytree=None, early_stopping_rounds=None,\n",
       "              enable_categorical=False, eval_metric=None, feature_types=None,\n",
       "              gamma=None, gpu_id=None, grow_policy=None, importance_type=None,\n",
       "              interaction_constraints=None, learning_rate=None, max_bin=None,\n",
       "              max_cat_threshold=None, max_cat_to_onehot=None,\n",
       "              max_delta_step=None, max_depth=None, max_leaves=None,\n",
       "              min_child_weight=None, missing=nan, monotone_constraints=None,\n",
       "              n_estimators=100, n_jobs=None, num_parallel_tree=None,\n",
       "              predictor=None, random_state=None, ...)"
      ]
     },
     "execution_count": 143,
     "metadata": {},
     "output_type": "execute_result"
    }
   ],
   "source": [
    "from xgboost import XGBClassifier\n",
    "c = XGBClassifier(n_estimators = 100)\n",
    "c.fit(x_train,y_train)"
   ]
  },
  {
   "cell_type": "code",
   "execution_count": 144,
   "id": "2999acc3-26d7-42e5-9de0-a9e750bed378",
   "metadata": {},
   "outputs": [
    {
     "data": {
      "text/plain": [
       "array([0, 0, 1, ..., 0, 0, 1])"
      ]
     },
     "execution_count": 144,
     "metadata": {},
     "output_type": "execute_result"
    }
   ],
   "source": [
    "x6_pred = c.predict(x_train)\n",
    "x6_pred"
   ]
  },
  {
   "cell_type": "code",
   "execution_count": 145,
   "id": "7bb98173-f324-4b31-8f74-db91dc3083e5",
   "metadata": {},
   "outputs": [
    {
     "data": {
      "text/plain": [
       "array([0, 0, 0, ..., 0, 0, 0])"
      ]
     },
     "execution_count": 145,
     "metadata": {},
     "output_type": "execute_result"
    }
   ],
   "source": [
    "y6_pred = c.predict(x_test)\n",
    "y6_pred"
   ]
  },
  {
   "cell_type": "code",
   "execution_count": 146,
   "id": "4de6f25c-0ce7-488f-9851-735d158a26a5",
   "metadata": {},
   "outputs": [
    {
     "name": "stdout",
     "output_type": "stream",
     "text": [
      "Training score:0.7587719298245614\n",
      "Testing score:0.7174645987862441\n"
     ]
    }
   ],
   "source": [
    "print(f'Training score:{accuracy_score(y_train,x6_pred)}')\n",
    "print(f'Testing score:{accuracy_score(y_test,y6_pred)}')"
   ]
  },
  {
   "cell_type": "code",
   "execution_count": 147,
   "id": "cc561f18-8533-4e85-9a78-ad4e1ebd7cd4",
   "metadata": {},
   "outputs": [
    {
     "name": "stdout",
     "output_type": "stream",
     "text": [
      "TR:              precision    recall  f1-score   support\n",
      "\n",
      "           0       0.78      0.84      0.81      3580\n",
      "           1       0.72      0.64      0.68      2348\n",
      "\n",
      "    accuracy                           0.76      5928\n",
      "   macro avg       0.75      0.74      0.74      5928\n",
      "weighted avg       0.76      0.76      0.76      5928\n",
      "\n",
      "TS:              precision    recall  f1-score   support\n",
      "\n",
      "           0       0.75      0.81      0.78       903\n",
      "           1       0.66      0.57      0.61       580\n",
      "\n",
      "    accuracy                           0.72      1483\n",
      "   macro avg       0.70      0.69      0.70      1483\n",
      "weighted avg       0.71      0.72      0.71      1483\n",
      "\n"
     ]
    }
   ],
   "source": [
    "print(f'TR:{classification_report(y_train,x6_pred)}')\n",
    "print(f'TS:{classification_report(y_test,y6_pred)}')"
   ]
  },
  {
   "cell_type": "markdown",
   "id": "6d39f9eb-aedd-4407-a769-31279734fd0a",
   "metadata": {},
   "source": [
    "## XGBoost HyperParameter Tunning"
   ]
  },
  {
   "cell_type": "code",
   "execution_count": 148,
   "id": "ca9369e1-05a2-43fe-9ad9-23bb0a8d2227",
   "metadata": {},
   "outputs": [
    {
     "data": {
      "text/html": [
       "<style>#sk-container-id-10 {color: black;background-color: white;}#sk-container-id-10 pre{padding: 0;}#sk-container-id-10 div.sk-toggleable {background-color: white;}#sk-container-id-10 label.sk-toggleable__label {cursor: pointer;display: block;width: 100%;margin-bottom: 0;padding: 0.3em;box-sizing: border-box;text-align: center;}#sk-container-id-10 label.sk-toggleable__label-arrow:before {content: \"▸\";float: left;margin-right: 0.25em;color: #696969;}#sk-container-id-10 label.sk-toggleable__label-arrow:hover:before {color: black;}#sk-container-id-10 div.sk-estimator:hover label.sk-toggleable__label-arrow:before {color: black;}#sk-container-id-10 div.sk-toggleable__content {max-height: 0;max-width: 0;overflow: hidden;text-align: left;background-color: #f0f8ff;}#sk-container-id-10 div.sk-toggleable__content pre {margin: 0.2em;color: black;border-radius: 0.25em;background-color: #f0f8ff;}#sk-container-id-10 input.sk-toggleable__control:checked~div.sk-toggleable__content {max-height: 200px;max-width: 100%;overflow: auto;}#sk-container-id-10 input.sk-toggleable__control:checked~label.sk-toggleable__label-arrow:before {content: \"▾\";}#sk-container-id-10 div.sk-estimator input.sk-toggleable__control:checked~label.sk-toggleable__label {background-color: #d4ebff;}#sk-container-id-10 div.sk-label input.sk-toggleable__control:checked~label.sk-toggleable__label {background-color: #d4ebff;}#sk-container-id-10 input.sk-hidden--visually {border: 0;clip: rect(1px 1px 1px 1px);clip: rect(1px, 1px, 1px, 1px);height: 1px;margin: -1px;overflow: hidden;padding: 0;position: absolute;width: 1px;}#sk-container-id-10 div.sk-estimator {font-family: monospace;background-color: #f0f8ff;border: 1px dotted black;border-radius: 0.25em;box-sizing: border-box;margin-bottom: 0.5em;}#sk-container-id-10 div.sk-estimator:hover {background-color: #d4ebff;}#sk-container-id-10 div.sk-parallel-item::after {content: \"\";width: 100%;border-bottom: 1px solid gray;flex-grow: 1;}#sk-container-id-10 div.sk-label:hover label.sk-toggleable__label {background-color: #d4ebff;}#sk-container-id-10 div.sk-serial::before {content: \"\";position: absolute;border-left: 1px solid gray;box-sizing: border-box;top: 0;bottom: 0;left: 50%;z-index: 0;}#sk-container-id-10 div.sk-serial {display: flex;flex-direction: column;align-items: center;background-color: white;padding-right: 0.2em;padding-left: 0.2em;position: relative;}#sk-container-id-10 div.sk-item {position: relative;z-index: 1;}#sk-container-id-10 div.sk-parallel {display: flex;align-items: stretch;justify-content: center;background-color: white;position: relative;}#sk-container-id-10 div.sk-item::before, #sk-container-id-10 div.sk-parallel-item::before {content: \"\";position: absolute;border-left: 1px solid gray;box-sizing: border-box;top: 0;bottom: 0;left: 50%;z-index: -1;}#sk-container-id-10 div.sk-parallel-item {display: flex;flex-direction: column;z-index: 1;position: relative;background-color: white;}#sk-container-id-10 div.sk-parallel-item:first-child::after {align-self: flex-end;width: 50%;}#sk-container-id-10 div.sk-parallel-item:last-child::after {align-self: flex-start;width: 50%;}#sk-container-id-10 div.sk-parallel-item:only-child::after {width: 0;}#sk-container-id-10 div.sk-dashed-wrapped {border: 1px dashed gray;margin: 0 0.4em 0.5em 0.4em;box-sizing: border-box;padding-bottom: 0.4em;background-color: white;}#sk-container-id-10 div.sk-label label {font-family: monospace;font-weight: bold;display: inline-block;line-height: 1.2em;}#sk-container-id-10 div.sk-label-container {text-align: center;}#sk-container-id-10 div.sk-container {/* jupyter's `normalize.less` sets `[hidden] { display: none; }` but bootstrap.min.css set `[hidden] { display: none !important; }` so we also need the `!important` here to be able to override the default hidden behavior on the sphinx rendered scikit-learn.org. See: https://github.com/scikit-learn/scikit-learn/issues/21755 */display: inline-block !important;position: relative;}#sk-container-id-10 div.sk-text-repr-fallback {display: none;}</style><div id=\"sk-container-id-10\" class=\"sk-top-container\"><div class=\"sk-text-repr-fallback\"><pre>GridSearchCV(cv=7,\n",
       "             estimator=XGBClassifier(base_score=None, booster=None,\n",
       "                                     callbacks=None, colsample_bylevel=None,\n",
       "                                     colsample_bynode=None,\n",
       "                                     colsample_bytree=None,\n",
       "                                     early_stopping_rounds=None,\n",
       "                                     enable_categorical=False, eval_metric=None,\n",
       "                                     feature_types=None, gamma=None,\n",
       "                                     gpu_id=None, grow_policy=None,\n",
       "                                     importance_type=None,\n",
       "                                     interaction_constraints=None,\n",
       "                                     learning_rate=None,...\n",
       "                                     max_leaves=None, min_child_weight=None,\n",
       "                                     missing=nan, monotone_constraints=None,\n",
       "                                     n_estimators=100, n_jobs=None,\n",
       "                                     num_parallel_tree=None, predictor=None,\n",
       "                                     random_state=None, ...),\n",
       "             n_jobs=-1,\n",
       "             param_grid={&#x27;colsample_bytree&#x27;: [0.8, 1.0],\n",
       "                         &#x27;gamma&#x27;: [0, 0.1, 0.2, 0.3],\n",
       "                         &#x27;learning_rate&#x27;: [0.01, 0.1, 0.2, 0.3],\n",
       "                         &#x27;max_depth&#x27;: [3, 5, 7], &#x27;min_child_weight&#x27;: [1, 3, 5],\n",
       "                         &#x27;n_estimators&#x27;: [50, 100, 200],\n",
       "                         &#x27;subsample&#x27;: [0.8, 1.0]},\n",
       "             scoring=&#x27;f1&#x27;)</pre><b>In a Jupyter environment, please rerun this cell to show the HTML representation or trust the notebook. <br />On GitHub, the HTML representation is unable to render, please try loading this page with nbviewer.org.</b></div><div class=\"sk-container\" hidden><div class=\"sk-item sk-dashed-wrapped\"><div class=\"sk-label-container\"><div class=\"sk-label sk-toggleable\"><input class=\"sk-toggleable__control sk-hidden--visually\" id=\"sk-estimator-id-14\" type=\"checkbox\" ><label for=\"sk-estimator-id-14\" class=\"sk-toggleable__label sk-toggleable__label-arrow\">GridSearchCV</label><div class=\"sk-toggleable__content\"><pre>GridSearchCV(cv=7,\n",
       "             estimator=XGBClassifier(base_score=None, booster=None,\n",
       "                                     callbacks=None, colsample_bylevel=None,\n",
       "                                     colsample_bynode=None,\n",
       "                                     colsample_bytree=None,\n",
       "                                     early_stopping_rounds=None,\n",
       "                                     enable_categorical=False, eval_metric=None,\n",
       "                                     feature_types=None, gamma=None,\n",
       "                                     gpu_id=None, grow_policy=None,\n",
       "                                     importance_type=None,\n",
       "                                     interaction_constraints=None,\n",
       "                                     learning_rate=None,...\n",
       "                                     max_leaves=None, min_child_weight=None,\n",
       "                                     missing=nan, monotone_constraints=None,\n",
       "                                     n_estimators=100, n_jobs=None,\n",
       "                                     num_parallel_tree=None, predictor=None,\n",
       "                                     random_state=None, ...),\n",
       "             n_jobs=-1,\n",
       "             param_grid={&#x27;colsample_bytree&#x27;: [0.8, 1.0],\n",
       "                         &#x27;gamma&#x27;: [0, 0.1, 0.2, 0.3],\n",
       "                         &#x27;learning_rate&#x27;: [0.01, 0.1, 0.2, 0.3],\n",
       "                         &#x27;max_depth&#x27;: [3, 5, 7], &#x27;min_child_weight&#x27;: [1, 3, 5],\n",
       "                         &#x27;n_estimators&#x27;: [50, 100, 200],\n",
       "                         &#x27;subsample&#x27;: [0.8, 1.0]},\n",
       "             scoring=&#x27;f1&#x27;)</pre></div></div></div><div class=\"sk-parallel\"><div class=\"sk-parallel-item\"><div class=\"sk-item\"><div class=\"sk-label-container\"><div class=\"sk-label sk-toggleable\"><input class=\"sk-toggleable__control sk-hidden--visually\" id=\"sk-estimator-id-15\" type=\"checkbox\" ><label for=\"sk-estimator-id-15\" class=\"sk-toggleable__label sk-toggleable__label-arrow\">estimator: XGBClassifier</label><div class=\"sk-toggleable__content\"><pre>XGBClassifier(base_score=None, booster=None, callbacks=None,\n",
       "              colsample_bylevel=None, colsample_bynode=None,\n",
       "              colsample_bytree=None, early_stopping_rounds=None,\n",
       "              enable_categorical=False, eval_metric=None, feature_types=None,\n",
       "              gamma=None, gpu_id=None, grow_policy=None, importance_type=None,\n",
       "              interaction_constraints=None, learning_rate=None, max_bin=None,\n",
       "              max_cat_threshold=None, max_cat_to_onehot=None,\n",
       "              max_delta_step=None, max_depth=None, max_leaves=None,\n",
       "              min_child_weight=None, missing=nan, monotone_constraints=None,\n",
       "              n_estimators=100, n_jobs=None, num_parallel_tree=None,\n",
       "              predictor=None, random_state=None, ...)</pre></div></div></div><div class=\"sk-serial\"><div class=\"sk-item\"><div class=\"sk-estimator sk-toggleable\"><input class=\"sk-toggleable__control sk-hidden--visually\" id=\"sk-estimator-id-16\" type=\"checkbox\" ><label for=\"sk-estimator-id-16\" class=\"sk-toggleable__label sk-toggleable__label-arrow\">XGBClassifier</label><div class=\"sk-toggleable__content\"><pre>XGBClassifier(base_score=None, booster=None, callbacks=None,\n",
       "              colsample_bylevel=None, colsample_bynode=None,\n",
       "              colsample_bytree=None, early_stopping_rounds=None,\n",
       "              enable_categorical=False, eval_metric=None, feature_types=None,\n",
       "              gamma=None, gpu_id=None, grow_policy=None, importance_type=None,\n",
       "              interaction_constraints=None, learning_rate=None, max_bin=None,\n",
       "              max_cat_threshold=None, max_cat_to_onehot=None,\n",
       "              max_delta_step=None, max_depth=None, max_leaves=None,\n",
       "              min_child_weight=None, missing=nan, monotone_constraints=None,\n",
       "              n_estimators=100, n_jobs=None, num_parallel_tree=None,\n",
       "              predictor=None, random_state=None, ...)</pre></div></div></div></div></div></div></div></div></div></div>"
      ],
      "text/plain": [
       "GridSearchCV(cv=7,\n",
       "             estimator=XGBClassifier(base_score=None, booster=None,\n",
       "                                     callbacks=None, colsample_bylevel=None,\n",
       "                                     colsample_bynode=None,\n",
       "                                     colsample_bytree=None,\n",
       "                                     early_stopping_rounds=None,\n",
       "                                     enable_categorical=False, eval_metric=None,\n",
       "                                     feature_types=None, gamma=None,\n",
       "                                     gpu_id=None, grow_policy=None,\n",
       "                                     importance_type=None,\n",
       "                                     interaction_constraints=None,\n",
       "                                     learning_rate=None,...\n",
       "                                     max_leaves=None, min_child_weight=None,\n",
       "                                     missing=nan, monotone_constraints=None,\n",
       "                                     n_estimators=100, n_jobs=None,\n",
       "                                     num_parallel_tree=None, predictor=None,\n",
       "                                     random_state=None, ...),\n",
       "             n_jobs=-1,\n",
       "             param_grid={'colsample_bytree': [0.8, 1.0],\n",
       "                         'gamma': [0, 0.1, 0.2, 0.3],\n",
       "                         'learning_rate': [0.01, 0.1, 0.2, 0.3],\n",
       "                         'max_depth': [3, 5, 7], 'min_child_weight': [1, 3, 5],\n",
       "                         'n_estimators': [50, 100, 200],\n",
       "                         'subsample': [0.8, 1.0]},\n",
       "             scoring='f1')"
      ]
     },
     "execution_count": 148,
     "metadata": {},
     "output_type": "execute_result"
    }
   ],
   "source": [
    "params = {'learning_rate': [0.01, 0.1, 0.2,0.3],\n",
    "    'n_estimators': [50, 100, 200],\n",
    "    'max_depth': [3, 5, 7],\n",
    "    'min_child_weight': [1, 3, 5],\n",
    "    'subsample': [0.8, 1.0],\n",
    "    'colsample_bytree': [0.8, 1.0],\n",
    "    'gamma': [0, 0.1, 0.2,0.3]}\n",
    "\n",
    "xgb = XGBClassifier()\n",
    "gcv = GridSearchCV(xgb,params,scoring = 'f1',cv = 7,n_jobs = -1)\n",
    "gcv.fit(x_train,y_train)"
   ]
  },
  {
   "cell_type": "code",
   "execution_count": 149,
   "id": "6b2a7e1f-fc97-4f99-a95b-8e57d7935490",
   "metadata": {},
   "outputs": [
    {
     "name": "stdout",
     "output_type": "stream",
     "text": [
      "Best params:{'colsample_bytree': 1.0, 'gamma': 0.2, 'learning_rate': 0.2, 'max_depth': 3, 'min_child_weight': 1, 'n_estimators': 200, 'subsample': 0.8}\n"
     ]
    }
   ],
   "source": [
    "best_params = gcv.best_params_\n",
    "print(f'Best params:{best_params}')"
   ]
  },
  {
   "cell_type": "code",
   "execution_count": 150,
   "id": "5f8cbb23-607e-448a-a676-0f3a8e5cccb0",
   "metadata": {},
   "outputs": [
    {
     "data": {
      "text/html": [
       "<style>#sk-container-id-11 {color: black;background-color: white;}#sk-container-id-11 pre{padding: 0;}#sk-container-id-11 div.sk-toggleable {background-color: white;}#sk-container-id-11 label.sk-toggleable__label {cursor: pointer;display: block;width: 100%;margin-bottom: 0;padding: 0.3em;box-sizing: border-box;text-align: center;}#sk-container-id-11 label.sk-toggleable__label-arrow:before {content: \"▸\";float: left;margin-right: 0.25em;color: #696969;}#sk-container-id-11 label.sk-toggleable__label-arrow:hover:before {color: black;}#sk-container-id-11 div.sk-estimator:hover label.sk-toggleable__label-arrow:before {color: black;}#sk-container-id-11 div.sk-toggleable__content {max-height: 0;max-width: 0;overflow: hidden;text-align: left;background-color: #f0f8ff;}#sk-container-id-11 div.sk-toggleable__content pre {margin: 0.2em;color: black;border-radius: 0.25em;background-color: #f0f8ff;}#sk-container-id-11 input.sk-toggleable__control:checked~div.sk-toggleable__content {max-height: 200px;max-width: 100%;overflow: auto;}#sk-container-id-11 input.sk-toggleable__control:checked~label.sk-toggleable__label-arrow:before {content: \"▾\";}#sk-container-id-11 div.sk-estimator input.sk-toggleable__control:checked~label.sk-toggleable__label {background-color: #d4ebff;}#sk-container-id-11 div.sk-label input.sk-toggleable__control:checked~label.sk-toggleable__label {background-color: #d4ebff;}#sk-container-id-11 input.sk-hidden--visually {border: 0;clip: rect(1px 1px 1px 1px);clip: rect(1px, 1px, 1px, 1px);height: 1px;margin: -1px;overflow: hidden;padding: 0;position: absolute;width: 1px;}#sk-container-id-11 div.sk-estimator {font-family: monospace;background-color: #f0f8ff;border: 1px dotted black;border-radius: 0.25em;box-sizing: border-box;margin-bottom: 0.5em;}#sk-container-id-11 div.sk-estimator:hover {background-color: #d4ebff;}#sk-container-id-11 div.sk-parallel-item::after {content: \"\";width: 100%;border-bottom: 1px solid gray;flex-grow: 1;}#sk-container-id-11 div.sk-label:hover label.sk-toggleable__label {background-color: #d4ebff;}#sk-container-id-11 div.sk-serial::before {content: \"\";position: absolute;border-left: 1px solid gray;box-sizing: border-box;top: 0;bottom: 0;left: 50%;z-index: 0;}#sk-container-id-11 div.sk-serial {display: flex;flex-direction: column;align-items: center;background-color: white;padding-right: 0.2em;padding-left: 0.2em;position: relative;}#sk-container-id-11 div.sk-item {position: relative;z-index: 1;}#sk-container-id-11 div.sk-parallel {display: flex;align-items: stretch;justify-content: center;background-color: white;position: relative;}#sk-container-id-11 div.sk-item::before, #sk-container-id-11 div.sk-parallel-item::before {content: \"\";position: absolute;border-left: 1px solid gray;box-sizing: border-box;top: 0;bottom: 0;left: 50%;z-index: -1;}#sk-container-id-11 div.sk-parallel-item {display: flex;flex-direction: column;z-index: 1;position: relative;background-color: white;}#sk-container-id-11 div.sk-parallel-item:first-child::after {align-self: flex-end;width: 50%;}#sk-container-id-11 div.sk-parallel-item:last-child::after {align-self: flex-start;width: 50%;}#sk-container-id-11 div.sk-parallel-item:only-child::after {width: 0;}#sk-container-id-11 div.sk-dashed-wrapped {border: 1px dashed gray;margin: 0 0.4em 0.5em 0.4em;box-sizing: border-box;padding-bottom: 0.4em;background-color: white;}#sk-container-id-11 div.sk-label label {font-family: monospace;font-weight: bold;display: inline-block;line-height: 1.2em;}#sk-container-id-11 div.sk-label-container {text-align: center;}#sk-container-id-11 div.sk-container {/* jupyter's `normalize.less` sets `[hidden] { display: none; }` but bootstrap.min.css set `[hidden] { display: none !important; }` so we also need the `!important` here to be able to override the default hidden behavior on the sphinx rendered scikit-learn.org. See: https://github.com/scikit-learn/scikit-learn/issues/21755 */display: inline-block !important;position: relative;}#sk-container-id-11 div.sk-text-repr-fallback {display: none;}</style><div id=\"sk-container-id-11\" class=\"sk-top-container\"><div class=\"sk-text-repr-fallback\"><pre>XGBClassifier(base_score=None, booster=None, callbacks=None,\n",
       "              colsample_bylevel=None, colsample_bynode=None,\n",
       "              colsample_bytree=1.0, early_stopping_rounds=None,\n",
       "              enable_categorical=False, eval_metric=None, feature_types=None,\n",
       "              gamma=0.2, gpu_id=None, grow_policy=None, importance_type=None,\n",
       "              interaction_constraints=None, learning_rate=0.2, max_bin=None,\n",
       "              max_cat_threshold=None, max_cat_to_onehot=None,\n",
       "              max_delta_step=None, max_depth=3, max_leaves=None,\n",
       "              min_child_weight=1, missing=nan, monotone_constraints=None,\n",
       "              n_estimators=200, n_jobs=None, num_parallel_tree=None,\n",
       "              predictor=None, random_state=42, ...)</pre><b>In a Jupyter environment, please rerun this cell to show the HTML representation or trust the notebook. <br />On GitHub, the HTML representation is unable to render, please try loading this page with nbviewer.org.</b></div><div class=\"sk-container\" hidden><div class=\"sk-item\"><div class=\"sk-estimator sk-toggleable\"><input class=\"sk-toggleable__control sk-hidden--visually\" id=\"sk-estimator-id-17\" type=\"checkbox\" checked><label for=\"sk-estimator-id-17\" class=\"sk-toggleable__label sk-toggleable__label-arrow\">XGBClassifier</label><div class=\"sk-toggleable__content\"><pre>XGBClassifier(base_score=None, booster=None, callbacks=None,\n",
       "              colsample_bylevel=None, colsample_bynode=None,\n",
       "              colsample_bytree=1.0, early_stopping_rounds=None,\n",
       "              enable_categorical=False, eval_metric=None, feature_types=None,\n",
       "              gamma=0.2, gpu_id=None, grow_policy=None, importance_type=None,\n",
       "              interaction_constraints=None, learning_rate=0.2, max_bin=None,\n",
       "              max_cat_threshold=None, max_cat_to_onehot=None,\n",
       "              max_delta_step=None, max_depth=3, max_leaves=None,\n",
       "              min_child_weight=1, missing=nan, monotone_constraints=None,\n",
       "              n_estimators=200, n_jobs=None, num_parallel_tree=None,\n",
       "              predictor=None, random_state=42, ...)</pre></div></div></div></div></div>"
      ],
      "text/plain": [
       "XGBClassifier(base_score=None, booster=None, callbacks=None,\n",
       "              colsample_bylevel=None, colsample_bynode=None,\n",
       "              colsample_bytree=1.0, early_stopping_rounds=None,\n",
       "              enable_categorical=False, eval_metric=None, feature_types=None,\n",
       "              gamma=0.2, gpu_id=None, grow_policy=None, importance_type=None,\n",
       "              interaction_constraints=None, learning_rate=0.2, max_bin=None,\n",
       "              max_cat_threshold=None, max_cat_to_onehot=None,\n",
       "              max_delta_step=None, max_depth=3, max_leaves=None,\n",
       "              min_child_weight=1, missing=nan, monotone_constraints=None,\n",
       "              n_estimators=200, n_jobs=None, num_parallel_tree=None,\n",
       "              predictor=None, random_state=42, ...)"
      ]
     },
     "execution_count": 150,
     "metadata": {},
     "output_type": "execute_result"
    }
   ],
   "source": [
    "xb = XGBClassifier(colsample_bytree = 1.0, gamma = 0.2, learning_rate = 0.2, max_depth = 3, min_child_weight = 1,n_estimators = 200,\n",
    "                 random_state = 42)\n",
    "xb.fit(x_train,y_train)"
   ]
  },
  {
   "cell_type": "code",
   "execution_count": 151,
   "id": "9b7c7433-23c7-4807-9f29-1f2c8ecae783",
   "metadata": {},
   "outputs": [
    {
     "data": {
      "text/plain": [
       "array([1, 0, 1, ..., 0, 0, 1])"
      ]
     },
     "execution_count": 151,
     "metadata": {},
     "output_type": "execute_result"
    }
   ],
   "source": [
    "x7_pred = xb.predict(x_train)\n",
    "x7_pred"
   ]
  },
  {
   "cell_type": "code",
   "execution_count": 152,
   "id": "10acfe02-75ed-46c5-a0f0-82272165f4d2",
   "metadata": {},
   "outputs": [
    {
     "data": {
      "text/plain": [
       "array([0, 0, 0, ..., 0, 0, 0])"
      ]
     },
     "execution_count": 152,
     "metadata": {},
     "output_type": "execute_result"
    }
   ],
   "source": [
    "y7_pred = xb.predict(x_test)\n",
    "y7_pred"
   ]
  },
  {
   "cell_type": "code",
   "execution_count": 153,
   "id": "25837bbc-6575-4329-8198-796f873cbe0e",
   "metadata": {},
   "outputs": [
    {
     "name": "stdout",
     "output_type": "stream",
     "text": [
      "Training score:0.7285762483130904\n",
      "Testing score:0.7228590694538098\n"
     ]
    }
   ],
   "source": [
    "print(f'Training score:{accuracy_score(y_train,x7_pred)}')\n",
    "print(f'Testing score:{accuracy_score(y_test,y7_pred)}')"
   ]
  },
  {
   "cell_type": "code",
   "execution_count": 154,
   "id": "636c6094-64ac-46d6-9090-f94bf0e9d1fd",
   "metadata": {},
   "outputs": [
    {
     "name": "stdout",
     "output_type": "stream",
     "text": [
      "TR:              precision    recall  f1-score   support\n",
      "\n",
      "           0       0.75      0.83      0.79      3580\n",
      "           1       0.69      0.58      0.63      2348\n",
      "\n",
      "    accuracy                           0.73      5928\n",
      "   macro avg       0.72      0.70      0.71      5928\n",
      "weighted avg       0.72      0.73      0.72      5928\n",
      "\n",
      "TS:              precision    recall  f1-score   support\n",
      "\n",
      "           0       0.74      0.83      0.79       903\n",
      "           1       0.68      0.55      0.61       580\n",
      "\n",
      "    accuracy                           0.72      1483\n",
      "   macro avg       0.71      0.69      0.70      1483\n",
      "weighted avg       0.72      0.72      0.72      1483\n",
      "\n"
     ]
    }
   ],
   "source": [
    "print(f'TR:{classification_report(y_train,x7_pred)}')\n",
    "print(f'TS:{classification_report(y_test,y7_pred)}')"
   ]
  },
  {
   "cell_type": "markdown",
   "id": "2dc789c9-f49a-46f3-bd42-a8b186e60811",
   "metadata": {},
   "source": [
    "### ***cross valid score for XGB.***"
   ]
  },
  {
   "cell_type": "code",
   "execution_count": 155,
   "id": "db526d39-d0dc-4abc-b824-6c0c14bb8201",
   "metadata": {},
   "outputs": [
    {
     "name": "stdout",
     "output_type": "stream",
     "text": [
      "[0.58306538 0.58914729]\n",
      "c_v_s: 0.5861063336573693\n",
      "std: 0.0030409531643361687\n"
     ]
    }
   ],
   "source": [
    "score = cross_val_score(xb,x,y,cv = 2,scoring = 'f1')\n",
    "print(score)\n",
    "print('c_v_s:',score.mean())\n",
    "print('std:',score.std())\n",
    "#std of < 0.05 is good model"
   ]
  },
  {
   "cell_type": "code",
   "execution_count": 156,
   "id": "3c9bc8e4-b054-497a-b1fd-580436491f04",
   "metadata": {},
   "outputs": [
    {
     "name": "stdout",
     "output_type": "stream",
     "text": [
      "XGBoost is a Good model\n"
     ]
    }
   ],
   "source": [
    "a = 0.0030409\n",
    "b = 0.05\n",
    "if a<b:\n",
    "    print('XGBoost is a Good model')\n",
    "else:\n",
    "    print('It is a bad model')"
   ]
  },
  {
   "cell_type": "markdown",
   "id": "31559647-72d7-4036-b380-9889fb1ef26b",
   "metadata": {},
   "source": [
    "### ***In boosting model XGBoost is a best.***"
   ]
  },
  {
   "cell_type": "markdown",
   "id": "851e1119-42dc-4313-9622-efc5f89e8b96",
   "metadata": {},
   "source": [
    "# Conclusion:\n",
    "This project is really complicated. The main Aim of project is to find the sales effectiveness, and find how to increase the sales effectiveness. I’m used EDA to find the sales effectiveness and how to increase the positive effectiveness. Each features giving some important insights for how to increase the positive sales effectiveness. It’s a good project, And also I gain more Technical knowledge from this project. \n",
    "\n",
    "\n",
    "\n",
    "Finally, the XGBoost, Decision Tree and Random Forest is a good model out of 7 models. And  I checks cross validation score, the result std is less than 0.05 in XGBoost, Decision Tree and Random Forest Classifier models.\n",
    "\n",
    "Finally, you can increase the positive sales effectiveness by,\n",
    "\n",
    "- Products,\r",
    "- The product 15 you can avoid and increase 18 to 20 product ID.\n",
    "- You can increase the 18th to 20th product more because it giving positive response. And you can avoid 15th ,5th, and 1st products.\n",
    "- Source,\n",
    "- And you can improve customer referral source, because it giving more positive response for small amount of data.\n",
    "- And same way you can improve the Existing Client also.d- Location,\n",
    "- IN location you used too much of other location but no use, it giving negative response.\n",
    "- you can increase the inside India location , particularly in Bangalore and Chennai.\n",
    "- you can improve countries location.\n",
    "- you can decrease the other location. \t- Sales Agent,\n",
    "- you used Agent 4, 11, 5 more and 4, 11 its ok, it giving half off positive response but 5 works worst ,you can remove agent 5.\n",
    "- And you can increase the Agent 9, 10 tasks because it works well\n",
    "- And you can decrease the task for 11, 9, 5.\n",
    "- Sales Agent in Location,\n",
    "- Every Agent is performing more in India location and other location.\n",
    "- least count is Asian countries.\n",
    "- Delivery Mode,\n",
    "- Mode 2 and 3 is performs well.\n",
    "- And you can remove mode 5.\n",
    "- Delivery mode in Location,\n",
    "- Asian countries count is least.\n",
    "- India location and other location is higher level.\n",
    "- you can aviod Asian Countries. can avoid Asian Countries.\r\n"
   ]
  }
 ],
 "metadata": {
  "kernelspec": {
   "display_name": "Python 3 (ipykernel)",
   "language": "python",
   "name": "python3"
  },
  "language_info": {
   "codemirror_mode": {
    "name": "ipython",
    "version": 3
   },
   "file_extension": ".py",
   "mimetype": "text/x-python",
   "name": "python",
   "nbconvert_exporter": "python",
   "pygments_lexer": "ipython3",
   "version": "3.11.5"
  },
  "widgets": {
   "application/vnd.jupyter.widget-state+json": {
    "state": {},
    "version_major": 2,
    "version_minor": 0
   }
  }
 },
 "nbformat": 4,
 "nbformat_minor": 5
}
